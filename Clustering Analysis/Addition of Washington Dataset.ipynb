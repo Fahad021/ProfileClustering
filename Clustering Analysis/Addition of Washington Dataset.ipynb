{
 "cells": [
  {
   "cell_type": "code",
   "execution_count": 2,
   "metadata": {
    "collapsed": true
   },
   "outputs": [],
   "source": [
    "import os\n",
    "import pandas as pd\n",
    "import numpy as np\n",
    "import h5py\n",
    "from pytz import timezone\n",
    "import re\n",
    "from datetime import datetime\n",
    "import random\n",
    "from time import time\n",
    "\n",
    "one_sqm_in_sqft = 1562500 / 145161 # source: Wolfram Alpha"
   ]
  },
  {
   "cell_type": "code",
   "execution_count": 3,
   "metadata": {
    "collapsed": true
   },
   "outputs": [],
   "source": [
    "def apply_func(f):\n",
    "    '''Apply the given function on the data and close the data'''\n",
    "    file = 'meta/meta.hdf5'\n",
    "    buildings_data = h5py.File(file, 'r+')\n",
    "    results = f(buildings_data)\n",
    "    buildings_data.close()\n",
    "    return results"
   ]
  },
  {
   "cell_type": "code",
   "execution_count": 4,
   "metadata": {
    "collapsed": true
   },
   "outputs": [],
   "source": [
    "class Building:\n",
    "    def __init__(self, path):\n",
    "        self.df = pd.read_csv(path)\n",
    "        self.mat = self.df[['timestamp', 'kWh']].as_matrix()\n",
    "        self.years = np.array([date[:4] for date in self.mat[:, 0]])\n",
    "        self.id = re.search('(?<=/)(.(?!/))*(?=\\.csv)', path).group(0)\n",
    "    \n",
    "    def split_years(self):\n",
    "        mat_by_years = {}\n",
    "        for year in sorted(list(set(self.years))):\n",
    "            mat_by_years[year] = self.mat[self.years == year]\n",
    "        return mat_by_years\n",
    "    \n",
    "    def get_id(self):\n",
    "        return self.id"
   ]
  },
  {
   "cell_type": "code",
   "execution_count": 5,
   "metadata": {
    "collapsed": true
   },
   "outputs": [],
   "source": [
    "def store_numerical(buildings_data):\n",
    "    if 'washington' in buildings_data.keys():\n",
    "        del buildings_data['washington']\n",
    "    buildings_data.create_group('washington')\n",
    "    \n",
    "    root = './meta/DGS_ENERGY_AND_METADATA/energy/dgs_15min_api_1hr_agr_filled_and_filtered/'\n",
    "    for path in os.listdir(root):\n",
    "        building = Building(root + path)\n",
    "        buildings_data['washington'].create_group(building.get_id())\n",
    "        mat_by_years = building.split_years()\n",
    "        for year in mat_by_years:\n",
    "            buildings_data['washington'][building.get_id()].create_dataset(year, shape=mat_by_years[year].shape, dtype='|S32')\n",
    "            buildings_data['washington'][building.get_id()][year][:] = mat_by_years[year].astype('|S32')"
   ]
  },
  {
   "cell_type": "code",
   "execution_count": 6,
   "metadata": {
    "collapsed": false
   },
   "outputs": [
    {
     "name": "stdout",
     "output_type": "stream",
     "text": [
      "Time taken: 69.28\n"
     ]
    }
   ],
   "source": [
    "start = time()\n",
    "apply_func(store_numerical)\n",
    "print('Time taken: %.2f' % (time() - start))"
   ]
  },
  {
   "cell_type": "code",
   "execution_count": 7,
   "metadata": {
    "collapsed": false
   },
   "outputs": [],
   "source": [
    "meta_df = pd.read_csv('./meta/DGS_ENERGY_AND_METADATA/metadata/dgs_metadata_filtered_and_cleaned_final.csv')"
   ]
  },
  {
   "cell_type": "code",
   "execution_count": 8,
   "metadata": {
    "collapsed": false
   },
   "outputs": [],
   "source": [
    "meta_dict = {}"
   ]
  },
  {
   "cell_type": "code",
   "execution_count": 9,
   "metadata": {
    "collapsed": false
   },
   "outputs": [],
   "source": [
    "for idx, row in meta_df.iterrows():\n",
    "    meta_dict[str(row.id)] = {\n",
    "        'PSU': row.PSU,\n",
    "        'Industry': row.Industry,\n",
    "        'Subindustry': row.subindustry,\n",
    "        'Sqft': row.square_feet,\n",
    "        'Climatezone': '4',\n",
    "        'Timezone': 'America/New_York'\n",
    "    }"
   ]
  },
  {
   "cell_type": "code",
   "execution_count": 10,
   "metadata": {
    "collapsed": false
   },
   "outputs": [],
   "source": [
    "def store_meta(buildings_data):\n",
    "    for building_id in meta_dict:\n",
    "        for field in meta_dict[building_id]:\n",
    "            if building_id in buildings_data['washington']:\n",
    "                buildings_data['washington'][building_id].attrs[field] = meta_dict[building_id][field]\n",
    "\n",
    "apply_func(store_meta)"
   ]
  },
  {
   "cell_type": "markdown",
   "metadata": {},
   "source": [
    "### Deprecated"
   ]
  },
  {
   "cell_type": "code",
   "execution_count": 1,
   "metadata": {
    "collapsed": false
   },
   "outputs": [],
   "source": [
    "def reduce_size(buildings_data):\n",
    "    for dset_name in buildings_data.keys():\n",
    "        dset = buildings_data[dset_name]\n",
    "        for building_name in dset:\n",
    "            building = dset[building_name]\n",
    "            for year in building:\n",
    "                try:\n",
    "                    data = building[year]\n",
    "                    data[:, 1] = data[:, 1].astype('float').astype('|S16')\n",
    "                    del building[year]\n",
    "                    building[year].create_dataset(year, shape=data.shape, dtype='|S16')\n",
    "                    building[year][:] = data.astype('|S16')\n",
    "                    \n",
    "                except Exception as e:\n",
    "                    print(e)\n",
    "\n",
    "start = time()\n",
    "apply_func(reduce_size)\n",
    "print('Time taken: %.2f' % (time() - start))"
   ]
  },
  {
   "cell_type": "code",
   "execution_count": null,
   "metadata": {
    "collapsed": false
   },
   "outputs": [],
   "source": [
    "def check_data(buildings_data):\n",
    "    print(buildings_data['genome']['Office_Abbey']['2015'][:])\n",
    "\n",
    "apply_func(check_data)"
   ]
  }
 ],
 "metadata": {
  "anaconda-cloud": {},
  "kernelspec": {
   "display_name": "Python [Root]",
   "language": "python",
   "name": "Python [Root]"
  },
  "language_info": {
   "codemirror_mode": {
    "name": "ipython",
    "version": 3
   },
   "file_extension": ".py",
   "mimetype": "text/x-python",
   "name": "python",
   "nbconvert_exporter": "python",
   "pygments_lexer": "ipython3",
   "version": "3.5.2"
  }
 },
 "nbformat": 4,
 "nbformat_minor": 2
}
