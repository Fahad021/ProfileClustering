{
 "cells": [
  {
   "cell_type": "markdown",
   "metadata": {},
   "source": [
    "# Building Energy Profiles clustering "
   ]
  },
  {
   "cell_type": "markdown",
   "metadata": {},
   "source": [
    "## Import libraries for analysis"
   ]
  },
  {
   "cell_type": "code",
   "execution_count": 1,
   "metadata": {
    "collapsed": true
   },
   "outputs": [],
   "source": [
    "# Built-in libraries\n",
    "import os\n",
    "import time\n",
    "from math import log2\n",
    "from urllib.parse import urlencode\n",
    "\n",
    "# NumPy, SciPy and Pandas\n",
    "import numpy as np\n",
    "import pandas as pd\n",
    "\n",
    "# Scikit-Learn\n",
    "from sklearn.cluster import KMeans\n",
    "from sklearn.cluster import DBSCAN\n",
    "from sklearn.cluster import AgglomerativeClustering\n",
    "from sklearn.mixture import GaussianMixture\n",
    "\n",
    "# Matplotlib\n",
    "import matplotlib.pyplot as plt\n",
    "import matplotlib.cm as cm\n",
    "import matplotlib.lines as mlines\n",
    "import matplotlib.patches as mpatches\n",
    "%matplotlib inline"
   ]
  },
  {
   "cell_type": "markdown",
   "metadata": {},
   "source": [
    "## Read clustering result file to generate various plots \n",
    "\n",
    "* this file contains daily profiles, clustering assignment, and metadata \n",
    "* this section below reads the profiles generated in the previous section"
   ]
  },
  {
   "cell_type": "code",
   "execution_count": 2,
   "metadata": {
    "collapsed": false
   },
   "outputs": [
    {
     "name": "stderr",
     "output_type": "stream",
     "text": [
      "/Users/yangxiya/anaconda3/lib/python3.5/site-packages/IPython/core/interactiveshell.py:2723: DtypeWarning: Columns (1,31) have mixed types. Specify dtype option on import or set low_memory=False.\n",
      "  interactivity=interactivity, compiler=compiler, result=result)\n"
     ]
    }
   ],
   "source": [
    "combined_profiles = pd.read_csv('final_profiles.csv')"
   ]
  },
  {
   "cell_type": "code",
   "execution_count": 3,
   "metadata": {
    "collapsed": false
   },
   "outputs": [],
   "source": [
    "# Separate residential and non-residential buildings\n",
    "is_residential = combined_profiles.Industry == 'Residential'\n",
    "residential_profiles = combined_profiles.loc[is_residential, :]\n",
    "non_residential_profiles = combined_profiles.loc[~is_residential, :]\n",
    "\n",
    "# reset index\n",
    "residential_profiles.reset_index(inplace = True, drop = True)\n",
    "non_residential_profiles.reset_index(inplace = True, drop = True)"
   ]
  },
  {
   "cell_type": "markdown",
   "metadata": {},
   "source": [
    "## Plot saving functions\n",
    "\n",
    "* Since we have multipe plots from this analysis, we generate a saving function for handling all these plots\n",
    "* We describe different types of plot as follows:"
   ]
  },
  {
   "cell_type": "markdown",
   "metadata": {},
   "source": [
    "### Plot - type 1. The first plots are basic exploratory data analysis \n",
    "* 1.1 All the profiles (or samples) with clustering type color coded\n",
    "* 1.2 Averaged profile for each cluster"
   ]
  },
  {
   "cell_type": "code",
   "execution_count": 4,
   "metadata": {
    "collapsed": true
   },
   "outputs": [],
   "source": [
    "from plot_functions.profiles import save_profile_plots"
   ]
  },
  {
   "cell_type": "markdown",
   "metadata": {},
   "source": [
    "### Plot - type 2. Clustering analysis by numerical metadata \n",
    "* 2.1 Cluster assignment by sqm\n",
    "* 2.2 Cluster assignment by EUI\n",
    "* 2.3 Cluster assignment by entropy\n",
    "* 2.4 Cluster assignment by day-of-year"
   ]
  },
  {
   "cell_type": "code",
   "execution_count": 5,
   "metadata": {
    "collapsed": true
   },
   "outputs": [],
   "source": [
    "from plot_functions.numerical import save_continuous_plots"
   ]
  },
  {
   "cell_type": "markdown",
   "metadata": {},
   "source": [
    "### Plot - type 3. Clustering analysis by categorical metadata \n",
    "* 3.1 Cluster assignment by timezone (region)\n",
    "* 3.2 Cluster assignment by industry\n",
    "* 3.3 Cluster assignment by sub-industry\n",
    "* 3.4 Cluster assignment by primary-space-usage\n",
    "* 3.5 Cluster assignment by date-flag (weekday, weekend, holiday)\n"
   ]
  },
  {
   "cell_type": "code",
   "execution_count": 6,
   "metadata": {
    "collapsed": false
   },
   "outputs": [],
   "source": [
    "from plot_functions.stacked import save_stacked_bars"
   ]
  },
  {
   "cell_type": "markdown",
   "metadata": {},
   "source": [
    "### Plot - type 4. Entropy distribution analysis \n",
    "* 4.1 Entropy distribution by profiles \n",
    "* 4.2 Entropy distribution by buildings\n",
    "* 4.3 Entropy distribution by cluster assignment\n",
    "\n",
    "* 4~8 categorical metadata\n",
    "* 4.4 Entropy distribution by timezone\n",
    "* 4.5 Entropy distribution by industry\n",
    "* 4.6 Entropy distribution by sub-industry\n",
    "* 4.7 Entropy distribution by primary-space-usage\n",
    "* 4.8 Entropy distribution by date-flag"
   ]
  },
  {
   "cell_type": "code",
   "execution_count": 7,
   "metadata": {
    "collapsed": true
   },
   "outputs": [],
   "source": [
    "from plot_functions.entropy import save_entropy_distribution, save_field_level_entropy_distribution"
   ]
  },
  {
   "cell_type": "markdown",
   "metadata": {},
   "source": [
    "## A complete package for running all the plots with different clustering algorithm\n",
    "\n",
    "* K-means clustering\n",
    "* Hierarchical clustering"
   ]
  },
  {
   "cell_type": "markdown",
   "metadata": {},
   "source": [
    "### Calculation for profile variation (entropy)\n",
    "* these functions are invoked after each iteration of clustering"
   ]
  },
  {
   "cell_type": "code",
   "execution_count": 8,
   "metadata": {
    "collapsed": true
   },
   "outputs": [],
   "source": [
    "def calc_entropy(pd_labels):\n",
    "    result = 0\n",
    "    vals = pd_labels.value_counts()\n",
    "    total = pd_labels.shape[0]\n",
    "    for val in vals:\n",
    "        result -= val/total * log2(val/total)\n",
    "    return result\n",
    "\n",
    "def get_list_of_entropies(profiles):\n",
    "    return profiles.groupby('Building')[['cluster']].transform(calc_entropy)"
   ]
  },
  {
   "cell_type": "markdown",
   "metadata": {},
   "source": [
    "### Assign basic settings for clustering analysis\n",
    "\n",
    "* K-means clustering, and Hierarchical clustering. Testing various clustering numbers (K, from 1 to 10)."
   ]
  },
  {
   "cell_type": "code",
   "execution_count": 9,
   "metadata": {
    "collapsed": true
   },
   "outputs": [],
   "source": [
    "# params_list should be a list of dictionaries containing the key-value paris for the input parameters of the models\n",
    "# e.g. KMeans -> {'k' : 3}\n",
    "\n",
    "class ClusteringBaseModel:\n",
    "    def __init__(self, params_list, profiles, cluster_algo, save_dir, labels_dir):\n",
    "        self.algorithms = {\n",
    "            'KMeans': KMeans,\n",
    "            'DBSCAN': DBSCAN,\n",
    "            'AgglomerativeClustering': AgglomerativeClustering,\n",
    "            'GMM': GaussianMixture\n",
    "        }\n",
    "        \n",
    "        self.params_list = params_list\n",
    "        self.profiles = profiles\n",
    "        self.cluster_algo = cluster_algo\n",
    "        self.save_dir = '%s/%s/' % (save_dir, cluster_algo.lower())\n",
    "        self.labels_dir = labels_dir\n",
    "        \n",
    "    def run(self):\n",
    "        for params in self.params_list:\n",
    "            # Fit model with varying k\n",
    "            self.model = self.init_model(params)\n",
    "\n",
    "            if 'params[%s].npy' % urlencode(params) in os.listdir('./%s/%s/' % (self.labels_dir, self.cluster_algo.lower())):\n",
    "                print('Skip model fitting due to saved labels [params: %s]' % (urlencode(params)))\n",
    "                labels = np.load('./%s/%s/params[%s].npy' % (self.labels_dir, self.cluster_algo.lower(), urlencode(params)))\n",
    "            else:\n",
    "                start = time.time()\n",
    "                labels = self.get_labels(self.profiles.iloc[:, 3:3+24])\n",
    "                print('Time spent fitting model: %.4f [params: %s]' % (time.time()-start, urlencode(params)))\n",
    "                np.save('./%s/%s/params[%s].npy' % (self.labels_dir, self.cluster_algo.lower(), urlencode(params)), labels)\n",
    "\n",
    "            self.profiles['cluster'] = labels\n",
    "\n",
    "            # Calculate entropies\n",
    "            start = time.time()\n",
    "            self.profiles['entropy'] = get_list_of_entropies(self.profiles)\n",
    "            print('Time spent on calculating entropies: %fs' % (time.time() - start))\n",
    "\n",
    "            # Generate plots\n",
    "            save_profile_plots(self.cluster_algo, params, self.profiles, self.save_dir)\n",
    "            save_continuous_plots(self.cluster_algo, params, self.profiles, self.save_dir)\n",
    "            save_stacked_bars(self.cluster_algo, params, self.profiles, self.save_dir)\n",
    "            save_entropy_distribution(self.cluster_algo, params, self.profiles, self.save_dir)\n",
    "            save_field_level_entropy_distribution(self.cluster_algo, params, self.profiles, self.save_dir)\n",
    "\n",
    "    # Overwrite this method in the child classes\n",
    "    def init_model(self, params):\n",
    "        raise Exception('Not implemented')\n",
    "\n",
    "    # Overwrite this method in the child classes\n",
    "    def get_labels(self, data):\n",
    "        raise Exception('Not implemented')"
   ]
  },
  {
   "cell_type": "code",
   "execution_count": 10,
   "metadata": {
    "collapsed": true
   },
   "outputs": [],
   "source": [
    "def get_labels_default(model, data):\n",
    "    model.fit(data)\n",
    "    return model.labels_\n",
    "\n",
    "class KmeansClustering(ClusteringBaseModel):\n",
    "    def __init__(self, params_list, profiles, save_dir, labels_dir):\n",
    "        super().__init__(params_list, profiles, 'KMeans', save_dir, labels_dir)\n",
    "    \n",
    "    def init_model(self, params):\n",
    "        return self.algorithms[self.cluster_algo](n_clusters=params['k'])\n",
    "        \n",
    "    def get_labels(self, data):\n",
    "        return get_labels_default(self.model, data)\n",
    "\n",
    "class DBSCANClustering(ClusteringBaseModel):\n",
    "    def __init__(self, params_list, profiles, save_dir, labels_dir):\n",
    "        super().__init__(params_list, profiles, 'DBSCAN', save_dir, labels_dir)\n",
    "\n",
    "    def init_model(self, params):\n",
    "        return self.algorithms[self.cluster_algo](min_samples=params['min_samples'], eps=params['eps'])\n",
    "\n",
    "    def get_labels(self, data):\n",
    "        return get_labels_default(self.model, data)\n",
    "\n",
    "class HierarchicalClustering(ClusteringBaseModel):\n",
    "    def __init__(self, k_range, profiles, save_dir, labels_dir):\n",
    "        super().__init__(k_range, profiles, 'AgglomerativeClustering', save_dir, labels_dir)\n",
    "\n",
    "    def init_model(self, params):\n",
    "        return self.algorithms[self.cluster_algo](n_clusters=params['k'], linkage=params['linkage'])\n",
    "\n",
    "    def get_labels(self, data):\n",
    "        return get_labels_default(self.model, data)\n",
    "\n",
    "class GMMClustering(ClusteringBaseModel):\n",
    "    def __init__(self, k_range, profiles, save_dir, labels_dir):\n",
    "        super().__init__(k_range, profiles, 'GMM', save_dir, labels_dir)\n",
    "\n",
    "    def init_model(self, params):\n",
    "        return self.algorithms[self.cluster_algo](n_components=params['k'])\n",
    "\n",
    "    def get_labels(self, data):\n",
    "        self.model.fit(data)\n",
    "        return self.model.predict(data)\n",
    "\n",
    "class BisectingKMeansClustering(ClusteringBaseModel):\n",
    "    def __init__(self, k_range, profiles, save_dir, labels_dir):\n",
    "        super().__init__(k_range, profiles, 'BisectingKMeans', save_dir, labels_dir)\n",
    "    \n",
    "    # Store params in model\n",
    "    def init_model(self, params):\n",
    "        return params\n",
    "    \n",
    "    def bisect(self, data, index):\n",
    "        model = KMeans(n_clusters=2)\n",
    "        model.fit(data)\n",
    "        return [(data[model.labels_ == 0, :], index[model.labels_ == 0]), (data[model.labels_ == 1, :], index[model.labels_ == 1])]\n",
    "    \n",
    "    def calc_mse(self, data):\n",
    "        mu = np.mean(data, axis=0)\n",
    "        return np.sum((data - mu)**2) / data.shape[0]\n",
    "    \n",
    "    def bisect_k(self, data, k):\n",
    "        data_dict = {}\n",
    "        mse_dict = {}\n",
    "        index_dict = {}\n",
    "        index_array = np.arange(data.shape[0])\n",
    "        final_labels = np.zeros(data.shape[0])\n",
    "        for i in range(k-1):\n",
    "            i1 = i*2\n",
    "            i2 = i*2+1\n",
    "            (data_dict[i1], index_dict[i1]), (data_dict[i2], index_dict[i2]) = self.bisect(data, index_array)\n",
    "            mse_dict[i1] = self.calc_mse(data_dict[i1])\n",
    "            mse_dict[i2] = self.calc_mse(data_dict[i2])\n",
    "\n",
    "            if i < k-2:\n",
    "                max_mse_idx = max(mse_dict.items(), key=lambda x:x[1])[0]\n",
    "                data = data_dict[max_mse_idx]\n",
    "                index_array = index_dict[max_mse_idx]\n",
    "                del mse_dict[max_mse_idx]\n",
    "                del data_dict[max_mse_idx]\n",
    "                del index_dict[max_mse_idx]\n",
    "\n",
    "        # reconstruct labels\n",
    "        cluster_indices_groups = [a[1] for a in sorted(list(index_dict.items()), key=lambda x: x[0])]\n",
    "        cluster_id = 0\n",
    "        for cluster_indices in cluster_indices_groups:\n",
    "            final_labels[cluster_indices] = cluster_id\n",
    "            cluster_id += 1\n",
    "        return final_labels\n",
    "    \n",
    "    def get_labels(self, data):\n",
    "        data = data.as_matrix()\n",
    "        return self.bisect_k(data, self.model['k'])"
   ]
  },
  {
   "cell_type": "code",
   "execution_count": 11,
   "metadata": {
    "collapsed": true
   },
   "outputs": [],
   "source": [
    "k_params = [{'k': i} for i in range(2,11)]"
   ]
  },
  {
   "cell_type": "code",
   "execution_count": 12,
   "metadata": {
    "collapsed": true
   },
   "outputs": [],
   "source": [
    "directories = {\n",
    "    'profiles': {\n",
    "        'save_dir': 'final_plots',\n",
    "        'labels_dir': 'final_labels'\n",
    "    },\n",
    "    'residential_profiles': {\n",
    "        'save_dir': 'residential_plots',\n",
    "        'labels_dir': 'residential_labels'\n",
    "    },\n",
    "    'non_residential_profiles': {\n",
    "        'save_dir': 'non_residential_plots',\n",
    "        'labels_dir': 'non_residential_labels'\n",
    "    }\n",
    "}\n",
    "\n",
    "def get_save_dir(name):\n",
    "    return directories[name]['save_dir']\n",
    "\n",
    "def get_labels_dir(name):\n",
    "    return directories[name]['labels_dir']"
   ]
  },
  {
   "cell_type": "code",
   "execution_count": 13,
   "metadata": {
    "collapsed": false
   },
   "outputs": [],
   "source": [
    "dset_map = {\n",
    "    'profiles': combined_profiles,\n",
    "    'residential_profiles': residential_profiles,\n",
    "    'non_residential_profiles': non_residential_profiles\n",
    "}"
   ]
  },
  {
   "cell_type": "code",
   "execution_count": 15,
   "metadata": {
    "collapsed": false,
    "scrolled": false
   },
   "outputs": [
    {
     "name": "stdout",
     "output_type": "stream",
     "text": [
      "Time spent fitting model: 74.0930 [params: k=2]\n",
      "Time spent on calculating entropies: 5.202988s\n"
     ]
    },
    {
     "name": "stderr",
     "output_type": "stream",
     "text": [
      "/Users/yangxiya/anaconda3/lib/python3.5/site-packages/numpy/core/fromnumeric.py:52: FutureWarning: reshape is deprecated and will raise in a subsequent release. Please use .values.reshape(...) instead\n",
      "  return getattr(obj, method)(*args, **kwds)\n"
     ]
    },
    {
     "name": "stdout",
     "output_type": "stream",
     "text": [
      "Time spent fitting model: 54.9446 [params: k=3]\n",
      "Time spent on calculating entropies: 4.696378s\n",
      "Time spent fitting model: 405.5486 [params: k=4]\n",
      "Time spent on calculating entropies: 5.076411s\n",
      "Time spent fitting model: 172.1404 [params: k=5]\n",
      "Time spent on calculating entropies: 4.706948s\n",
      "Time spent fitting model: 168.2424 [params: k=6]\n",
      "Time spent on calculating entropies: 4.653077s\n",
      "Time spent fitting model: 194.5520 [params: k=7]\n",
      "Time spent on calculating entropies: 4.942780s\n",
      "Time spent fitting model: 357.8982 [params: k=8]\n",
      "Time spent on calculating entropies: 4.642442s\n",
      "Time spent fitting model: 400.5206 [params: k=9]\n",
      "Time spent on calculating entropies: 4.718344s\n",
      "Time spent fitting model: 532.1495 [params: k=10]\n",
      "Time spent on calculating entropies: 4.832200s\n",
      "Time spent fitting model: 70.2218 [params: k=2]\n",
      "Time spent on calculating entropies: 5.936379s\n",
      "Time spent fitting model: 75.0410 [params: k=3]\n",
      "Time spent on calculating entropies: 5.239714s\n",
      "Time spent fitting model: 88.1007 [params: k=4]\n",
      "Time spent on calculating entropies: 5.243728s\n",
      "Time spent fitting model: 95.8295 [params: k=5]\n",
      "Time spent on calculating entropies: 5.279114s\n",
      "Time spent fitting model: 95.1323 [params: k=6]\n",
      "Time spent on calculating entropies: 5.675671s\n",
      "Time spent fitting model: 92.9350 [params: k=7]\n",
      "Time spent on calculating entropies: 5.285109s\n",
      "Time spent fitting model: 97.1600 [params: k=8]\n",
      "Time spent on calculating entropies: 5.574582s\n",
      "Time spent fitting model: 100.1286 [params: k=9]\n",
      "Time spent on calculating entropies: 5.159969s\n",
      "Time spent fitting model: 98.1973 [params: k=10]\n",
      "Time spent on calculating entropies: 5.583872s\n",
      "Time spent fitting model: 59.1534 [params: k=2]\n",
      "Time spent on calculating entropies: 4.666933s\n",
      "Time spent fitting model: 215.1962 [params: k=3]\n",
      "Time spent on calculating entropies: 4.790549s\n",
      "Time spent fitting model: 171.0693 [params: k=4]\n",
      "Time spent on calculating entropies: 4.733776s\n",
      "Time spent fitting model: 481.9907 [params: k=5]\n",
      "Time spent on calculating entropies: 4.816713s\n",
      "Time spent fitting model: 280.4501 [params: k=6]\n",
      "Time spent on calculating entropies: 4.842121s\n",
      "Time spent fitting model: 433.2162 [params: k=7]\n",
      "Time spent on calculating entropies: 4.897334s\n",
      "Time spent fitting model: 831.5378 [params: k=8]\n",
      "Time spent on calculating entropies: 4.805031s\n",
      "Time spent fitting model: 947.3611 [params: k=9]\n",
      "Time spent on calculating entropies: 4.799738s\n",
      "Time spent fitting model: 721.2148 [params: k=10]\n",
      "Time spent on calculating entropies: 4.827826s\n",
      "Time spent fitting model: 32.6743 [params: k=2]\n"
     ]
    },
    {
     "name": "stderr",
     "output_type": "stream",
     "text": [
      "/Users/yangxiya/anaconda3/lib/python3.5/site-packages/ipykernel/__main__.py:33: SettingWithCopyWarning: \n",
      "A value is trying to be set on a copy of a slice from a DataFrame.\n",
      "Try using .loc[row_indexer,col_indexer] = value instead\n",
      "\n",
      "See the caveats in the documentation: http://pandas.pydata.org/pandas-docs/stable/indexing.html#indexing-view-versus-copy\n",
      "/Users/yangxiya/anaconda3/lib/python3.5/site-packages/ipykernel/__main__.py:37: SettingWithCopyWarning: \n",
      "A value is trying to be set on a copy of a slice from a DataFrame.\n",
      "Try using .loc[row_indexer,col_indexer] = value instead\n",
      "\n",
      "See the caveats in the documentation: http://pandas.pydata.org/pandas-docs/stable/indexing.html#indexing-view-versus-copy\n"
     ]
    },
    {
     "name": "stdout",
     "output_type": "stream",
     "text": [
      "Time spent on calculating entropies: 9.781265s\n"
     ]
    },
    {
     "name": "stderr",
     "output_type": "stream",
     "text": [
      "/Users/yangxiya/anaconda3/lib/python3.5/site-packages/pandas/core/generic.py:3110: SettingWithCopyWarning: \n",
      "A value is trying to be set on a copy of a slice from a DataFrame.\n",
      "Try using .loc[row_indexer,col_indexer] = value instead\n",
      "\n",
      "See the caveats in the documentation: http://pandas.pydata.org/pandas-docs/stable/indexing.html#indexing-view-versus-copy\n",
      "  self[name] = value\n"
     ]
    },
    {
     "name": "stdout",
     "output_type": "stream",
     "text": [
      "Time spent fitting model: 63.3570 [params: k=3]\n",
      "Time spent on calculating entropies: 9.574908s\n",
      "Time spent fitting model: 77.5506 [params: k=4]\n",
      "Time spent on calculating entropies: 9.761593s\n",
      "Time spent fitting model: 119.9973 [params: k=5]\n",
      "Time spent on calculating entropies: 9.956786s\n",
      "Time spent fitting model: 176.8426 [params: k=6]\n",
      "Time spent on calculating entropies: 10.093060s\n",
      "Time spent fitting model: 192.7265 [params: k=7]\n",
      "Time spent on calculating entropies: 10.403355s\n",
      "Time spent fitting model: 107.4844 [params: k=8]\n",
      "Time spent on calculating entropies: 10.708124s\n",
      "Time spent fitting model: 164.2956 [params: k=9]\n",
      "Time spent on calculating entropies: 11.059887s\n",
      "Time spent fitting model: 135.5360 [params: k=10]\n",
      "Time spent on calculating entropies: 11.497700s\n",
      "Time spent fitting model: 35.8929 [params: k=2]\n",
      "Time spent on calculating entropies: 12.097917s\n",
      "Time spent fitting model: 44.1472 [params: k=3]\n",
      "Time spent on calculating entropies: 12.710423s\n",
      "Time spent fitting model: 47.7257 [params: k=4]\n",
      "Time spent on calculating entropies: 12.952475s\n",
      "Time spent fitting model: 48.8466 [params: k=5]\n",
      "Time spent on calculating entropies: 15.002939s\n",
      "Time spent fitting model: 57.5599 [params: k=6]\n",
      "Time spent on calculating entropies: 13.037160s\n",
      "Time spent fitting model: 51.1429 [params: k=7]\n",
      "Time spent on calculating entropies: 13.542952s\n",
      "Time spent fitting model: 47.9370 [params: k=8]\n",
      "Time spent on calculating entropies: 14.279717s\n",
      "Time spent fitting model: 61.3683 [params: k=9]\n",
      "Time spent on calculating entropies: 15.257786s\n",
      "Time spent fitting model: 54.2578 [params: k=10]\n",
      "Time spent on calculating entropies: 19.747584s\n",
      "Time spent fitting model: 43.8271 [params: k=2]\n",
      "Time spent on calculating entropies: 22.364262s\n",
      "Time spent fitting model: 50.1603 [params: k=3]\n",
      "Time spent on calculating entropies: 18.545138s\n",
      "Time spent fitting model: 210.6036 [params: k=4]\n",
      "Time spent on calculating entropies: 18.535347s\n",
      "Time spent fitting model: 222.5123 [params: k=5]\n",
      "Time spent on calculating entropies: 28.770077s\n",
      "Time spent fitting model: 271.7357 [params: k=6]\n",
      "Time spent on calculating entropies: 36.942733s\n",
      "Time spent fitting model: 316.6184 [params: k=7]\n",
      "Time spent on calculating entropies: 37.435569s\n",
      "Time spent fitting model: 466.4225 [params: k=8]\n",
      "Time spent on calculating entropies: 52.455437s\n",
      "Time spent fitting model: 677.1818 [params: k=9]\n",
      "Time spent on calculating entropies: 57.340815s\n",
      "Time spent fitting model: 577.3291 [params: k=10]\n",
      "Time spent on calculating entropies: 59.422546s\n",
      "Time spent fitting model: 26.7109 [params: k=2]\n",
      "Time spent on calculating entropies: 63.598022s\n",
      "Time spent fitting model: 57.4014 [params: k=3]\n",
      "Time spent on calculating entropies: 63.869339s\n",
      "Time spent fitting model: 59.4457 [params: k=4]\n",
      "Time spent on calculating entropies: 63.465845s\n",
      "Time spent fitting model: 78.7981 [params: k=5]\n",
      "Time spent on calculating entropies: 66.516338s\n",
      "Time spent fitting model: 112.9523 [params: k=6]\n",
      "Time spent on calculating entropies: 66.923671s\n",
      "Time spent fitting model: 127.5119 [params: k=7]\n",
      "Time spent on calculating entropies: 68.565177s\n",
      "Time spent fitting model: 159.6176 [params: k=8]\n",
      "Time spent on calculating entropies: 70.959535s\n",
      "Time spent fitting model: 122.7078 [params: k=9]\n",
      "Time spent on calculating entropies: 73.183559s\n",
      "Time spent fitting model: 273.6437 [params: k=10]\n",
      "Time spent on calculating entropies: 73.283030s\n",
      "Time spent fitting model: 21.8454 [params: k=2]\n",
      "Time spent on calculating entropies: 80.487007s\n",
      "Time spent fitting model: 25.8558 [params: k=3]\n",
      "Time spent on calculating entropies: 83.332314s\n",
      "Time spent fitting model: 29.8313 [params: k=4]\n",
      "Time spent on calculating entropies: 82.231081s\n",
      "Time spent fitting model: 32.3717 [params: k=5]\n",
      "Time spent on calculating entropies: 85.359409s\n",
      "Time spent fitting model: 32.1519 [params: k=6]\n",
      "Time spent on calculating entropies: 85.498293s\n",
      "Time spent fitting model: 32.3612 [params: k=7]\n",
      "Time spent on calculating entropies: 86.634087s\n",
      "Time spent fitting model: 33.4038 [params: k=8]\n",
      "Time spent on calculating entropies: 100.551169s\n",
      "Time spent fitting model: 32.5198 [params: k=9]\n",
      "Time spent on calculating entropies: 94.662770s\n",
      "Time spent fitting model: 32.8426 [params: k=10]\n",
      "Time spent on calculating entropies: 89.519462s\n",
      "Time spent fitting model: 27.7931 [params: k=2]\n",
      "Time spent on calculating entropies: 94.783003s\n",
      "Time spent fitting model: 57.9299 [params: k=3]\n",
      "Time spent on calculating entropies: 94.720538s\n",
      "Time spent fitting model: 180.6100 [params: k=4]\n",
      "Time spent on calculating entropies: 94.620903s\n",
      "Time spent fitting model: 148.2851 [params: k=5]\n",
      "Time spent on calculating entropies: 92.171782s\n",
      "Time spent fitting model: 207.9431 [params: k=6]\n",
      "Time spent on calculating entropies: 103.786195s\n",
      "Time spent fitting model: 336.6927 [params: k=7]\n",
      "Time spent on calculating entropies: 96.657741s\n",
      "Time spent fitting model: 451.6692 [params: k=8]\n",
      "Time spent on calculating entropies: 98.697610s\n",
      "Time spent fitting model: 393.6680 [params: k=9]\n",
      "Time spent on calculating entropies: 103.511061s\n",
      "Time spent fitting model: 639.4956 [params: k=10]\n",
      "Time spent on calculating entropies: 103.537547s\n"
     ]
    }
   ],
   "source": [
    "for dset_name in dset_map:\n",
    "    profiles = dset_map[dset_name]\n",
    "    \n",
    "    kmeansClustering = KmeansClustering(k_params, profiles, get_save_dir(dset_name), get_labels_dir(dset_name))\n",
    "    kmeansClustering.run()\n",
    "    \n",
    "    bisectingKmeansClustering = BisectingKMeansClustering(k_params, profiles, get_save_dir(dset_name), get_labels_dir(dset_name))\n",
    "    bisectingKmeansClustering.run()\n",
    "    \n",
    "    gmmClustering = GMMClustering(k_params, profiles, get_save_dir(dset_name), get_labels_dir(dset_name))\n",
    "    gmmClustering.run()"
   ]
  }
 ],
 "metadata": {
  "anaconda-cloud": {},
  "kernelspec": {
   "display_name": "Python [Root]",
   "language": "python",
   "name": "Python [Root]"
  },
  "language_info": {
   "codemirror_mode": {
    "name": "ipython",
    "version": 3
   },
   "file_extension": ".py",
   "mimetype": "text/x-python",
   "name": "python",
   "nbconvert_exporter": "python",
   "pygments_lexer": "ipython3",
   "version": "3.5.2"
  }
 },
 "nbformat": 4,
 "nbformat_minor": 2
}
