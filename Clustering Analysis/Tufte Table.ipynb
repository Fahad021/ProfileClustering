{
 "cells": [
  {
   "cell_type": "markdown",
   "metadata": {},
   "source": [
    "# Tufte Table"
   ]
  },
  {
   "cell_type": "markdown",
   "metadata": {},
   "source": [
    "## Import libraries for analysis"
   ]
  },
  {
   "cell_type": "code",
   "execution_count": 1,
   "metadata": {
    "collapsed": true
   },
   "outputs": [],
   "source": [
    "# Built-in libraries\n",
    "import time\n",
    "\n",
    "# NumPy, SciPy and Pandas\n",
    "import numpy as np\n",
    "import pandas as pd\n",
    "\n",
    "# Matplotlib\n",
    "import matplotlib.pyplot as plt\n",
    "%matplotlib inline"
   ]
  },
  {
   "cell_type": "code",
   "execution_count": 2,
   "metadata": {
    "collapsed": false
   },
   "outputs": [
    {
     "name": "stderr",
     "output_type": "stream",
     "text": [
      "/Users/yangxiya/anaconda3/lib/python3.5/site-packages/IPython/core/interactiveshell.py:2723: DtypeWarning: Columns (1,31) have mixed types. Specify dtype option on import or set low_memory=False.\n",
      "  interactivity=interactivity, compiler=compiler, result=result)\n"
     ]
    }
   ],
   "source": [
    "combined_profiles = pd.read_csv('final_profiles.csv')"
   ]
  },
  {
   "cell_type": "code",
   "execution_count": 3,
   "metadata": {
    "collapsed": true
   },
   "outputs": [],
   "source": [
    "# Separate residential and non-residential buildings\n",
    "is_residential = combined_profiles.Industry == 'Residential'\n",
    "residential_profiles = combined_profiles.loc[is_residential, :]\n",
    "non_residential_profiles = combined_profiles.loc[~is_residential, :]\n",
    "\n",
    "# reset index\n",
    "residential_profiles.reset_index(inplace = True, drop = True)\n",
    "non_residential_profiles.reset_index(inplace = True, drop = True)"
   ]
  },
  {
   "cell_type": "markdown",
   "metadata": {},
   "source": [
    "## Tufte table generation"
   ]
  },
  {
   "cell_type": "code",
   "execution_count": 31,
   "metadata": {
    "collapsed": true
   },
   "outputs": [],
   "source": [
    "def save_tufte_data(combined_profiles, plot_order, save_dir):\n",
    "    labelled_mat = combined_profiles.as_matrix()\n",
    "    cluster_ids = sorted(combined_profiles.cluster.unique())\n",
    "    \n",
    "    results = []\n",
    "\n",
    "    for cid in cluster_ids:\n",
    "        cluster_rows = labelled_mat[combined_profiles.cluster == cid, 3:(3+24)].astype(float)\n",
    "        results.append(cluster_rows.mean(axis=0))\n",
    "    \n",
    "    np.save(save_dir + '/order_%d.npy' % plot_order, np.array(results))"
   ]
  },
  {
   "cell_type": "code",
   "execution_count": 23,
   "metadata": {
    "collapsed": true
   },
   "outputs": [],
   "source": [
    "def get_labels(plot_order, labels_dir):\n",
    "    algo_list = ['kmeans', 'bisectingkmeans', 'gmm']\n",
    "    current_row = (plot_order-1) // len(algo_list) + 1\n",
    "    current_col = (plot_order-1) % len(algo_list)\n",
    "    current_algo = algo_list[current_col]\n",
    "    current_k = current_row + 1\n",
    "#     return np.load('./%s/%s/params[k=%d].npy' % (labels_dir, current_algo, current_k))\n",
    "    return np.load('./%s/%s/s1k%d.npy' % (labels_dir, current_algo, current_k))"
   ]
  },
  {
   "cell_type": "code",
   "execution_count": 9,
   "metadata": {
    "collapsed": true
   },
   "outputs": [],
   "source": [
    "# Switch order vertically for bisecting k-means\n",
    "def is_row_in(row, rows, TOL):\n",
    "    rows_list = [a_row for a_row in rows]\n",
    "    for row_to_compare in rows:\n",
    "        diff = ((row - row_to_compare)**2).sum()\n",
    "        if diff < TOL:\n",
    "            return True\n",
    "    return False\n",
    "\n",
    "def compare(before, after, TOL):\n",
    "    new_rows_idx = []\n",
    "    \n",
    "    for i in range(after.shape[0]):\n",
    "        row = after[i]\n",
    "        if not is_row_in(row, before, TOL):\n",
    "            new_rows_idx.append(i)\n",
    "    return new_rows_idx"
   ]
  },
  {
   "cell_type": "code",
   "execution_count": 10,
   "metadata": {
    "collapsed": true
   },
   "outputs": [],
   "source": [
    "def bisect_tol(func, a, b, target):\n",
    "    # assume solution between a and b\n",
    "    # a = 0, b = 3 from testing\n",
    "    # target = 2\n",
    "    fa = func(a)\n",
    "    fb = func(b)\n",
    "    if fa == target:\n",
    "        return a\n",
    "    if fb == target:\n",
    "        return b\n",
    "    m = (a+b) / 2.0\n",
    "    fm = func(m)\n",
    "    if fm == target:\n",
    "        return m\n",
    "    \n",
    "    if fm > target and fb < target:\n",
    "        return bisect_tol(func, m, b, target)\n",
    "    elif fm < target and fa > target:\n",
    "        return bisect_tol(func, a, m, target)\n",
    "    else:\n",
    "        raise Exception('Should not occur')"
   ]
  },
  {
   "cell_type": "code",
   "execution_count": 11,
   "metadata": {
    "collapsed": true
   },
   "outputs": [],
   "source": [
    "def helper(before, after):\n",
    "    def func(tol):\n",
    "        return len(compare(before, after, tol))\n",
    "    return func"
   ]
  },
  {
   "cell_type": "code",
   "execution_count": 12,
   "metadata": {
    "collapsed": false
   },
   "outputs": [],
   "source": [
    "# run [1]\n",
    "def retrieve_thicknesses(labels_dir):\n",
    "\n",
    "    def get_dict(col):\n",
    "        vc_dict = {}\n",
    "        vc = col.value_counts()\n",
    "        for idx in vc.index:\n",
    "            vc_dict[idx] = vc.loc[idx]\n",
    "        return vc_dict\n",
    "\n",
    "    def get_thickness(val, all_vals):\n",
    "        std_val = np.std(all_vals)\n",
    "        if std_val == 0:\n",
    "            return 2.5\n",
    "        mean_val = np.mean(all_vals)\n",
    "        dev_val = (val-mean_val) / std_val\n",
    "        dev_val = max(-1.5, min(dev_val, 5.5))\n",
    "        return 2.5 + dev_val\n",
    "\n",
    "    thicknesses_data = []\n",
    "    for i in range(1, 3*9+1):\n",
    "        labels = get_labels(i, labels_dir)\n",
    "        cluster_counts = get_dict(pd.Series(labels))\n",
    "        cluster_counts_as_list = list(cluster_counts.values())\n",
    "        thicknesses = []\n",
    "        for cid in sorted(set(labels)):\n",
    "            thicknesses.append(get_thickness(cluster_counts[cid], cluster_counts_as_list))\n",
    "        thicknesses_data.append(thicknesses)\n",
    "    \n",
    "    return thicknesses_data"
   ]
  },
  {
   "cell_type": "code",
   "execution_count": 25,
   "metadata": {
    "collapsed": false,
    "scrolled": true
   },
   "outputs": [],
   "source": [
    "# run [2]\n",
    "def save_tufte_data_from_labels(profiles, labels_dir, save_dir):\n",
    "    for i in range(1, 3*9+1):\n",
    "        profiles['cluster'] = get_labels(i, labels_dir)\n",
    "        save_tufte_data(profiles, i, save_dir = save_dir)"
   ]
  },
  {
   "cell_type": "code",
   "execution_count": 15,
   "metadata": {
    "collapsed": false,
    "scrolled": false
   },
   "outputs": [],
   "source": [
    "# bisecting k-means re-ordering\n",
    "\n",
    "# run [3]\n",
    "# returns new thicknesses_data\n",
    "def vertical_reordering(thicknesses_data, save_dir):\n",
    "\n",
    "    bisecting_k_means_idx = 2\n",
    "    algo_num = 3\n",
    "    num_k = 9\n",
    "\n",
    "    def update_thicknesses(ref_thicknesses, old_rows, new_rows, delete_idx):\n",
    "        thicknesses = []\n",
    "        ref_copy = [val for val in ref_thicknesses]\n",
    "        for i in range(len(ref_thicknesses)):\n",
    "            min_idx = np.argmin(((old_rows[i, :] - new_rows) ** 2).sum(axis=1))\n",
    "            thicknesses.append(ref_copy[min_idx])\n",
    "            del ref_copy[min_idx]\n",
    "            new_rows = np.delete(new_rows, min_idx, 0)\n",
    "        return thicknesses\n",
    "\n",
    "    for i in range(bisecting_k_means_idx, algo_num * num_k - algo_num, algo_num):\n",
    "        # range that contains the tolerance level to identify the different row(s)\n",
    "        a, b = 0, 3\n",
    "        before = np.load('./%s/order_%d.npy' % (save_dir, i))\n",
    "        after = np.load('./%s/order_%d.npy' % (save_dir, i+3))\n",
    "\n",
    "        # find the tolerance level that extracts two new rows from after\n",
    "        tol = bisect_tol(helper(before, after), a, b, 2)\n",
    "        add_idx = compare(before, after, tol)\n",
    "\n",
    "        # find the tolerance level that extracts one row that was broken down from before\n",
    "        reverse_tol = bisect_tol(helper(after, before), a, b, 1)\n",
    "        delete_idx = compare(after, before, reverse_tol)\n",
    "\n",
    "        # replace the row to be deleted with the first row to be added\n",
    "        # add the second row to the tail\n",
    "        before[delete_idx, :] = after[add_idx[0], :]\n",
    "        result_arr = np.concatenate((before, after[[add_idx[1]], :]))\n",
    "\n",
    "        # modify thickness data\n",
    "        new_thicknesses = update_thicknesses(thicknesses_data[i+3-1], result_arr, after, delete_idx)\n",
    "        thicknesses_data[i+3-1] = new_thicknesses\n",
    "\n",
    "        np.save('./%s/order_%d.npy' % (save_dir, i+3), result_arr)\n",
    "    \n",
    "    return thicknesses_data"
   ]
  },
  {
   "cell_type": "code",
   "execution_count": 16,
   "metadata": {
    "collapsed": false
   },
   "outputs": [],
   "source": [
    "# Switch order based on average profile distance to bisecting k-means results\n",
    "\n",
    "# run [4]\n",
    "\n",
    "def horizontal_reordering(thicknesses_data, save_dir):\n",
    "    for i in range(1, 3*9+1):\n",
    "        pivot = ((i-1) // 3) * 3 + 2\n",
    "        if i == pivot:\n",
    "            continue\n",
    "        pivot_profile = np.load('./%s/order_%d.npy' % (save_dir, pivot))\n",
    "        current_profile = np.load('./%s/order_%d.npy' % (save_dir, i))\n",
    "        thicknesses = thicknesses_data[i-1]\n",
    "\n",
    "        new_profile_data = []\n",
    "        new_thicknesses = []\n",
    "        for pivot_row in pivot_profile:\n",
    "            min_idx = np.argmin(((pivot_row - current_profile) ** 2).sum(axis=1))\n",
    "            new_profile_data.append(current_profile[min_idx, :])\n",
    "            new_thicknesses.append(thicknesses[min_idx])\n",
    "\n",
    "            # delete indices\n",
    "            current_profile = np.delete(current_profile, min_idx, 0)\n",
    "            del thicknesses[min_idx]\n",
    "\n",
    "        np.save('./%s/order_%d.npy' % (save_dir, i), np.array(new_profile_data))\n",
    "        thicknesses_data[i-1] = new_thicknesses\n",
    "    \n",
    "    return thicknesses_data"
   ]
  },
  {
   "cell_type": "code",
   "execution_count": 17,
   "metadata": {
    "collapsed": true
   },
   "outputs": [],
   "source": [
    "# Get ylim by finding the maximum value and minimum value for all the tufte data\n",
    "\n",
    "# execute in final plotting procedure\n",
    "def get_min_max(save_dir):\n",
    "    max_val, min_val = 0, 0\n",
    "    for i in range(1, 3*9+1):\n",
    "        max_val = max(max_val, np.load('%s/order_%d.npy' % (save_dir, i)).max())\n",
    "        min_val = min(min_val, np.load('%s/order_%d.npy' % (save_dir, i)).min())\n",
    "    return (min_val, max_val)"
   ]
  },
  {
   "cell_type": "code",
   "execution_count": 18,
   "metadata": {
    "collapsed": false
   },
   "outputs": [],
   "source": [
    "def plot_tufte(tufte_data, thicknesses, colors, plot_order, ylim):\n",
    "    # Remove the plot frame lines. They are unnecessary chartjunk.  \n",
    "    ax = plt.subplot(9,3,plot_order)\n",
    "    ax.spines[\"top\"].set_visible(False)\n",
    "    ax.spines[\"bottom\"].set_visible(False)\n",
    "    ax.spines[\"right\"].set_visible(False)\n",
    "    ax.spines[\"left\"].set_visible(False)\n",
    "\n",
    "    # Limit the range of the plot to only where the data is.  \n",
    "    # Avoid unnecessary whitespace.  \n",
    "    plt.ylim(ylim[0], ylim[1])\n",
    "\n",
    "    # Remove the tick marks\n",
    "    plt.tick_params(axis=\"both\", which=\"both\", bottom=\"off\", top=\"off\",  \n",
    "                    labelbottom=\"off\", left=\"off\", right=\"off\", labelleft=\"off\")\n",
    "\n",
    "    for cluster_data, thickness, color in zip(tufte_data, thicknesses, colors): \n",
    "        plt.plot(cluster_data, c=color, lw=thickness)"
   ]
  },
  {
   "cell_type": "code",
   "execution_count": 19,
   "metadata": {
    "collapsed": true
   },
   "outputs": [],
   "source": [
    "def add_text(plot_order, algo_names, k_range):\n",
    "    if plot_order <= len(algo_names):\n",
    "        plt.title(algo_names[plot_order - 1])\n",
    "    if ((plot_order - 1) % len(algo_names)) == 0:\n",
    "        h = plt.ylabel('k=%d' % list(k_range)[(plot_order - 1) // len(algo_names)])\n",
    "        h.set_rotation(0)"
   ]
  },
  {
   "cell_type": "code",
   "execution_count": 34,
   "metadata": {
    "collapsed": false,
    "scrolled": false
   },
   "outputs": [],
   "source": [
    "# run [5]\n",
    "\n",
    "def execute_plot(save_dir, plot_dir):\n",
    "\n",
    "    # These are the \"Tableau 20\" colors as RGB.  \n",
    "    tableau20 = [(31, 119, 180), (174, 199, 232), (255, 127, 14), (255, 187, 120),  \n",
    "                 (44, 160, 44), (152, 223, 138), (214, 39, 40), (255, 152, 150),  \n",
    "                 (148, 103, 189), (197, 176, 213), (140, 86, 75), (196, 156, 148),  \n",
    "                 (227, 119, 194), (247, 182, 210), (127, 127, 127), (199, 199, 199),  \n",
    "                 (188, 189, 34), (219, 219, 141), (23, 190, 207), (158, 218, 229)]  \n",
    "\n",
    "    # Scale the RGB values to the [0, 1] range, which is the format matplotlib accepts.  \n",
    "    for i in range(len(tableau20)):  \n",
    "        r, g, b = tableau20[i]  \n",
    "        tableau20[i] = (r / 255., g / 255., b / 255.)  \n",
    "\n",
    "    tableau10 = [tableau20[i] for i in list(range(0, 20, 2))]\n",
    "\n",
    "    # Letter size\n",
    "    plt.figure(figsize=(17, 22))\n",
    "\n",
    "    for i in range(1, 3*9+1):\n",
    "        colors = tableau10[:len(thicknesses_data[i-1])]\n",
    "        plot_tufte(np.load('./%s/order_%d.npy' % (save_dir, i)), thicknesses_data[i-1], colors, i, get_min_max(save_dir))\n",
    "        add_text(i, ['K-Means', 'Bisecting K-Means', 'Gaussian Mixture Model'], range(2,11))\n",
    "\n",
    "    plt.savefig('./tufte_results/%s' % plot_dir, bbox_inches='tight')\n",
    "    plt.close()"
   ]
  },
  {
   "cell_type": "markdown",
   "metadata": {},
   "source": [
    "### Plotting procedures"
   ]
  },
  {
   "cell_type": "code",
   "execution_count": 29,
   "metadata": {
    "collapsed": false
   },
   "outputs": [],
   "source": [
    "tufte_settings = [\n",
    "    {\n",
    "        'data': combined_profiles,\n",
    "        'labels_dir': 'final_labels',\n",
    "        'save_dir': 'tufte_data',\n",
    "        'plot_dir': 'combined_plots'\n",
    "    },\n",
    "    {\n",
    "        'data': residential_profiles,\n",
    "        'labels_dir': 'residential_labels',\n",
    "        'save_dir': 'residential_tufte_data',\n",
    "        'plot_dir': 'residential_tufte_plots'\n",
    "    },\n",
    "    {\n",
    "        'data': non_residential_profiles,\n",
    "        'labels_dir': 'non_residential_labels',\n",
    "        'save_dir': 'non_residential_tufte_data',\n",
    "        'plot_dir': 'non_residential_tufte_plots'\n",
    "    }\n",
    "]"
   ]
  },
  {
   "cell_type": "code",
   "execution_count": 35,
   "metadata": {
    "collapsed": false,
    "scrolled": false
   },
   "outputs": [],
   "source": [
    "for settings in tufte_settings:\n",
    "    data = settings['data']\n",
    "    labels_dir = settings['labels_dir']\n",
    "    save_dir = settings['save_dir']\n",
    "    plot_dir = settings['plot_dir']\n",
    "\n",
    "    thicknesses_data = retrieve_thicknesses(labels_dir)\n",
    "    save_tufte_data_from_labels(data, labels_dir, save_dir)\n",
    "    \n",
    "    thicknesses_data = vertical_reordering(thicknesses_data, save_dir)\n",
    "    thicknesses_data = horizontal_reordering(thicknesses_data, save_dir)\n",
    "    \n",
    "    execute_plot(save_dir, plot_dir)"
   ]
  }
 ],
 "metadata": {
  "anaconda-cloud": {},
  "kernelspec": {
   "display_name": "Python [Root]",
   "language": "python",
   "name": "Python [Root]"
  },
  "language_info": {
   "codemirror_mode": {
    "name": "ipython",
    "version": 3
   },
   "file_extension": ".py",
   "mimetype": "text/x-python",
   "name": "python",
   "nbconvert_exporter": "python",
   "pygments_lexer": "ipython3",
   "version": "3.5.2"
  }
 },
 "nbformat": 4,
 "nbformat_minor": 2
}
