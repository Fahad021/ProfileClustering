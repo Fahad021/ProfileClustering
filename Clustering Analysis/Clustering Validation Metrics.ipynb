{
 "cells": [
  {
   "cell_type": "markdown",
   "metadata": {},
   "source": [
    "# Cluster Validation"
   ]
  },
  {
   "cell_type": "markdown",
   "metadata": {},
   "source": [
    "## Import libraries for analysis"
   ]
  },
  {
   "cell_type": "code",
   "execution_count": 1,
   "metadata": {
    "collapsed": true
   },
   "outputs": [],
   "source": [
    "# Built-in libraries\n",
    "import time\n",
    "from itertools import product\n",
    "from math import log\n",
    "\n",
    "# NumPy, SciPy and Pandas\n",
    "import numpy as np\n",
    "import pandas as pd\n",
    "\n",
    "# Scikit-Learn\n",
    "from sklearn.metrics import silhouette_score, silhouette_samples\n",
    "from sklearn.metrics.pairwise import pairwise_distances\n",
    "\n",
    "# Matplotlib\n",
    "import matplotlib.pyplot as plt\n",
    "%matplotlib inline"
   ]
  },
  {
   "cell_type": "code",
   "execution_count": 2,
   "metadata": {
    "collapsed": false
   },
   "outputs": [
    {
     "name": "stderr",
     "output_type": "stream",
     "text": [
      "/Users/yangxiya/anaconda3/lib/python3.5/site-packages/IPython/core/interactiveshell.py:2723: DtypeWarning: Columns (1,31) have mixed types. Specify dtype option on import or set low_memory=False.\n",
      "  interactivity=interactivity, compiler=compiler, result=result)\n"
     ]
    }
   ],
   "source": [
    "combined_profiles = pd.read_csv('final_profiles.csv')"
   ]
  },
  {
   "cell_type": "code",
   "execution_count": 3,
   "metadata": {
    "collapsed": true
   },
   "outputs": [],
   "source": [
    "# Separate residential and non-residential buildings\n",
    "is_residential = combined_profiles.Industry == 'Residential'\n",
    "residential_profiles = combined_profiles.loc[is_residential, :]\n",
    "non_residential_profiles = combined_profiles.loc[~is_residential, :]\n",
    "\n",
    "# reset index\n",
    "residential_profiles.reset_index(inplace = True, drop = True)\n",
    "non_residential_profiles.reset_index(inplace = True, drop = True)"
   ]
  },
  {
   "cell_type": "markdown",
   "metadata": {},
   "source": [
    "## Cluster validation functions"
   ]
  },
  {
   "cell_type": "code",
   "execution_count": 4,
   "metadata": {
    "collapsed": true
   },
   "outputs": [],
   "source": [
    "def divide(data, labels):\n",
    "    clusters = set(labels)\n",
    "    clusters_data = []\n",
    "    for cluster in clusters:\n",
    "        clusters_data.append(data[labels == cluster, :])\n",
    "    return clusters_data\n",
    "\n",
    "def get_centroids(clusters):\n",
    "    centroids = []\n",
    "    for cluster_data in clusters:\n",
    "        centroids.append(cluster_data.mean(axis=0))\n",
    "    return centroids"
   ]
  },
  {
   "cell_type": "code",
   "execution_count": 7,
   "metadata": {
    "collapsed": true
   },
   "outputs": [],
   "source": [
    "def cohesion(data, labels):\n",
    "    clusters = sorted(set(labels))\n",
    "    sse = 0\n",
    "    for cluster in clusters:\n",
    "        cluster_data = data[labels == cluster, :]\n",
    "        centroid = cluster_data.mean(axis = 0)\n",
    "        sse += ((cluster_data - centroid)**2).sum()\n",
    "    return sse\n",
    "\n",
    "def separation(data, labels, cohesion_score):\n",
    "    # calculate separation as SST - SSE\n",
    "    return cohesion(data, np.zeros(data.shape[0])) - cohesion_score\n",
    "\n",
    "def SST(data):\n",
    "    c = get_centroids([data])\n",
    "    return ((data - c) ** 2).sum()\n",
    "\n",
    "def SSE(clusters, centroids):\n",
    "    result = 0\n",
    "    for cluster, centroid in zip(clusters, centroids):\n",
    "        result += ((cluster - centroid) ** 2).sum()\n",
    "    return result\n",
    "\n",
    "# Clear the store before running each time\n",
    "within_cluster_dist_sum_store = {}\n",
    "def within_cluster_dist_sum(cluster, centroid, cluster_id):\n",
    "    if cluster_id in within_cluster_dist_sum_store:\n",
    "        return within_cluster_dist_sum_store[cluster_id]\n",
    "    else:\n",
    "        result = (((cluster - centroid) ** 2).sum(axis=1)**.5).sum()\n",
    "        within_cluster_dist_sum_store[cluster_id] = result\n",
    "    return result\n",
    "\n",
    "def RMSSTD(data, clusters, centroids):\n",
    "    df = data.shape[0] - len(clusters)\n",
    "    attribute_num = data.shape[1]\n",
    "    return (SSE(clusters, centroids) / (attribute_num * df)) ** .5\n",
    "\n",
    "# equal to separation / (cohesion + separation)\n",
    "def RS(data, clusters, centroids):\n",
    "    sst = SST(data)\n",
    "    sse = SSE(clusters, centroids)\n",
    "    return (sst - sse) / sst\n",
    "\n",
    "def DB_find_max_j(clusters, centroids, i):\n",
    "    max_val = 0\n",
    "    max_j = 0\n",
    "    for j in range(len(clusters)):\n",
    "        if j == i:\n",
    "            continue\n",
    "        cluster_i_stat = within_cluster_dist_sum(clusters[i], centroids[i], i) / clusters[i].shape[0]\n",
    "        cluster_j_stat = within_cluster_dist_sum(clusters[j], centroids[j], j) / clusters[j].shape[0]\n",
    "        val = (cluster_i_stat + cluster_j_stat) / (((centroids[i] - centroids[j]) ** 2).sum() ** .5)\n",
    "        if val > max_val:\n",
    "            max_val = val\n",
    "            max_j = j\n",
    "    return max_val\n",
    "\n",
    "def DB(data, clusters, centroids):\n",
    "    result = 0\n",
    "    for i in range(len(clusters)):\n",
    "        result += DB_find_max_j(clusters, centroids, i)\n",
    "    return result / len(clusters)\n",
    "\n",
    "def XB(data, clusters, centroids):\n",
    "    sse = SSE(clusters, centroids)\n",
    "    min_dist = ((centroids[0] - centroids[1]) ** 2).sum()\n",
    "    for centroid_i, centroid_j in list(product(centroids, centroids)):\n",
    "        if (centroid_i - centroid_j).sum() == 0:\n",
    "            continue\n",
    "        dist = ((centroid_i - centroid_j) ** 2).sum()\n",
    "        if dist < min_dist:\n",
    "            min_dist = dist\n",
    "    return sse / (data.shape[0] * min_dist)\n",
    "\n",
    "def Dunn(data, clusters, centroids):\n",
    "    pairwise_distances()"
   ]
  },
  {
   "cell_type": "code",
   "execution_count": 8,
   "metadata": {
    "collapsed": true
   },
   "outputs": [],
   "source": [
    "from sklearn.metrics import silhouette_score\n",
    "from sklearn.metrics import calinski_harabaz_score\n",
    "\n",
    "def get_validation_scores(data, labels):\n",
    "    within_cluster_dist_sum_store.clear()\n",
    "    \n",
    "    clusters = divide(data, labels)\n",
    "    centroids = get_centroids(clusters)\n",
    "    \n",
    "    scores = {}\n",
    "\n",
    "    scores['cohesion'] = cohesion(data, labels)\n",
    "    scores['separation'] = separation(data, labels, scores['cohesion'])\n",
    "    scores['calinski_harabaz_score'] = calinski_harabaz_score(data, labels)\n",
    "    scores['RMSSTD'] = RMSSTD(data, clusters, centroids)\n",
    "    scores['RS'] = RS(data, clusters, centroids)\n",
    "    scores['DB'] = DB(data, clusters, centroids)\n",
    "    scores['XB'] = XB(data, clusters, centroids)\n",
    "    \n",
    "    return scores"
   ]
  },
  {
   "cell_type": "markdown",
   "metadata": {},
   "source": [
    "### Test Case\n",
    "- To show that the computation is correct\n",
    "- By checking against manually calculated values"
   ]
  },
  {
   "cell_type": "code",
   "execution_count": 9,
   "metadata": {
    "collapsed": true
   },
   "outputs": [],
   "source": [
    "test_data = np.array(\n",
    "    [\n",
    "        [1,2],\n",
    "        [3,1],\n",
    "        [5,2],\n",
    "        [3,0]\n",
    "    ]\n",
    ")\n",
    "\n",
    "test_labels = np.array([1,0,0,1])"
   ]
  },
  {
   "cell_type": "markdown",
   "metadata": {},
   "source": [
    "Manually Calculated Results\n",
    "\n",
    "* Cohesion: 6.5\n",
    "* Separation: 4.25\n",
    "* RMSSTED: 1.275\n",
    "* RS: 0.395\n",
    "* DB: 1.228\n",
    "* XB: 0.382"
   ]
  },
  {
   "cell_type": "code",
   "execution_count": 10,
   "metadata": {
    "collapsed": false
   },
   "outputs": [
    {
     "data": {
      "text/plain": [
       "{'DB': 1.2283204851166758,\n",
       " 'RMSSTD': 1.2747548783981961,\n",
       " 'RS': 0.3953488372093023,\n",
       " 'XB': 0.38235294117647056,\n",
       " 'calinski_harabaz_score': 1.3076923076923077,\n",
       " 'cohesion': 6.5,\n",
       " 'separation': 4.25}"
      ]
     },
     "execution_count": 10,
     "metadata": {},
     "output_type": "execute_result"
    }
   ],
   "source": [
    "get_validation_scores(test_data, test_labels)"
   ]
  },
  {
   "cell_type": "code",
   "execution_count": 11,
   "metadata": {
    "collapsed": true
   },
   "outputs": [],
   "source": [
    "test_data2 = np.array(\n",
    "    [\n",
    "        [1,2],\n",
    "        [3,1],\n",
    "        [5,2],\n",
    "        [3,0]\n",
    "    ]\n",
    ")\n",
    "\n",
    "test_labels2 = np.array([1,0,0,2])"
   ]
  },
  {
   "cell_type": "markdown",
   "metadata": {},
   "source": [
    "Manually Calculated Results\n",
    "\n",
    "* DB: 0.536\n",
    "* RS: 0.192"
   ]
  },
  {
   "cell_type": "code",
   "execution_count": 12,
   "metadata": {
    "collapsed": false
   },
   "outputs": [
    {
     "data": {
      "text/plain": [
       "{'DB': 0.5359848856463295,\n",
       " 'RMSSTD': 1.118033988749895,\n",
       " 'RS': 0.7674418604651163,\n",
       " 'XB': 0.19230769230769232,\n",
       " 'calinski_harabaz_score': 1.65,\n",
       " 'cohesion': 2.5,\n",
       " 'separation': 8.25}"
      ]
     },
     "execution_count": 12,
     "metadata": {},
     "output_type": "execute_result"
    }
   ],
   "source": [
    "within_cluster_dist_sum_store = {}\n",
    "get_validation_scores(test_data2, test_labels2)"
   ]
  },
  {
   "cell_type": "markdown",
   "metadata": {},
   "source": [
    "### Calculations for energy profiles"
   ]
  },
  {
   "cell_type": "code",
   "execution_count": 13,
   "metadata": {
    "collapsed": true
   },
   "outputs": [],
   "source": [
    "# get the labels for the corresponding subplot\n",
    "def get_labels(plot_order, labels_dir):\n",
    "    algo_list = ['kmeans', 'bisectingkmeans', 'gmm']\n",
    "    current_row = (plot_order-1) // len(algo_list) + 1\n",
    "    current_col = (plot_order-1) % len(algo_list)\n",
    "    current_algo = algo_list[current_col]\n",
    "    current_k = current_row + 1\n",
    "    return np.load('./%s/%s/params[k=%d].npy' % (labels_dir, current_algo, current_k))"
   ]
  },
  {
   "cell_type": "code",
   "execution_count": 14,
   "metadata": {
    "collapsed": false,
    "scrolled": true
   },
   "outputs": [],
   "source": [
    "def plot_validation_scores(scores, filename):\n",
    "    plt.figure(figsize=(16, 16), dpi= 80, facecolor='w', edgecolor='k')\n",
    "\n",
    "    for idx in range(7):\n",
    "        score_name = ['cohesion', 'separation', 'calinski_harabaz_score', 'DB', 'RS', 'RMSSTD', 'XB'][idx]\n",
    "        ax = plt.subplot(3,3,idx+1)\n",
    "\n",
    "        for i in range(3):\n",
    "            algo_name = ['K-Means', 'Bisecting K-Means', 'Gaussian Mixture Model'][i]\n",
    "            values = []\n",
    "            for j in range(9):\n",
    "                plot_order = j * 3 + i\n",
    "                values.append(scores[plot_order][score_name])\n",
    "            plt.plot(values, label=algo_name)\n",
    "        plt.title(score_name)\n",
    "        plt.xticks(range(9), range(2,11))\n",
    "        plt.xlabel('k')\n",
    "\n",
    "    plt.savefig('./validation/%s.png' % (filename), bbox_inches='tight')\n",
    "    plt.close()"
   ]
  },
  {
   "cell_type": "code",
   "execution_count": 15,
   "metadata": {
    "collapsed": true
   },
   "outputs": [],
   "source": [
    "settings_list = [\n",
    "    {\n",
    "        'profiles': combined_profiles,\n",
    "        'labels_dir': 'final_labels',\n",
    "        'save_name': 'Combined Profiles Validation Scores'\n",
    "    },\n",
    "    {\n",
    "        'profiles': residential_profiles,\n",
    "        'labels_dir': 'residential_labels',\n",
    "        'save_name': 'Residential Profiles Validation Scores'\n",
    "    },\n",
    "    {\n",
    "        'profiles': non_residential_profiles,\n",
    "        'labels_dir': 'non_residential_labels',\n",
    "        'save_name': 'Non-Residential Profiles Validation Scores'\n",
    "    },\n",
    "]"
   ]
  },
  {
   "cell_type": "code",
   "execution_count": 16,
   "metadata": {
    "collapsed": false
   },
   "outputs": [
    {
     "name": "stdout",
     "output_type": "stream",
     "text": [
      "Time taken for computing scores: 175.78\n",
      "Time taken for computing scores: 71.23\n",
      "Time taken for computing scores: 80.41\n"
     ]
    }
   ],
   "source": [
    "for settings in settings_list:\n",
    "\n",
    "    data = settings['profiles'].iloc[:, 3:3+24].as_matrix()\n",
    "    scores = []\n",
    "\n",
    "    start = time.time()\n",
    "    for i in range(1, 3*9+1):\n",
    "        labels = get_labels(i, settings['labels_dir'])\n",
    "        scores.append(get_validation_scores(data, labels))\n",
    "    print('Time taken for computing scores: %.2f' % (time.time() - start))\n",
    "    \n",
    "    plot_validation_scores(scores, settings['save_name'])"
   ]
  }
 ],
 "metadata": {
  "anaconda-cloud": {},
  "kernelspec": {
   "display_name": "Python [Root]",
   "language": "python",
   "name": "Python [Root]"
  },
  "language_info": {
   "codemirror_mode": {
    "name": "ipython",
    "version": 3
   },
   "file_extension": ".py",
   "mimetype": "text/x-python",
   "name": "python",
   "nbconvert_exporter": "python",
   "pygments_lexer": "ipython3",
   "version": "3.5.2"
  }
 },
 "nbformat": 4,
 "nbformat_minor": 2
}
