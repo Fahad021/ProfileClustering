{
 "cells": [
  {
   "cell_type": "markdown",
   "metadata": {},
   "source": [
    "# Dominant Cluster Bar Chart"
   ]
  },
  {
   "cell_type": "markdown",
   "metadata": {},
   "source": [
    "## Import libraries"
   ]
  },
  {
   "cell_type": "code",
   "execution_count": 1,
   "metadata": {
    "collapsed": true
   },
   "outputs": [],
   "source": [
    "# Built-in libraries\n",
    "import os\n",
    "import re\n",
    "import time\n",
    "from datetime import datetime\n",
    "import pytz\n",
    "from itertools import compress\n",
    "from math import log\n",
    "from math import log2\n",
    "import random\n",
    "\n",
    "# NumPy, SciPy and Pandas\n",
    "import numpy as np\n",
    "from scipy.stats import gaussian_kde\n",
    "from scipy.stats import iqr\n",
    "import pandas as pd\n",
    "\n",
    "# Scikit-Learn\n",
    "from sklearn.cluster import KMeans\n",
    "from sklearn.cluster import DBSCAN\n",
    "from sklearn.cluster import AgglomerativeClustering\n",
    "from sklearn.mixture import GaussianMixture\n",
    "from sklearn import metrics\n",
    "from sklearn.metrics import silhouette_score, silhouette_samples\n",
    "from sklearn.preprocessing import StandardScaler\n",
    "from sklearn.preprocessing import LabelEncoder\n",
    "from scipy.spatial.distance import sqeuclidean\n",
    "from sklearn.neighbors import NearestNeighbors\n",
    "\n",
    "# Matplotlib\n",
    "import matplotlib.pyplot as plt\n",
    "import matplotlib.cm as cm\n",
    "import matplotlib.lines as mlines\n",
    "import matplotlib.patches as mpatches\n",
    "%matplotlib inline\n",
    "\n",
    "# JoyPy\n",
    "import joypy\n",
    "\n",
    "# Workalendar\n",
    "from workalendar.europe import Switzerland\n",
    "from workalendar.europe import UnitedKingdom\n",
    "from workalendar.usa import Colorado\n",
    "from workalendar.usa import NewYork\n",
    "from workalendar.usa import California\n",
    "from workalendar.usa import Arizona\n",
    "from workalendar.usa import Illinois\n",
    "from workalendar.asia import Singapore\n",
    "from workalendar.oceania import WesternAustralia"
   ]
  },
  {
   "cell_type": "code",
   "execution_count": 2,
   "metadata": {
    "collapsed": false
   },
   "outputs": [
    {
     "name": "stderr",
     "output_type": "stream",
     "text": [
      "/Users/yangxiya/anaconda3/lib/python3.5/site-packages/IPython/core/interactiveshell.py:2723: DtypeWarning: Columns (1,31) have mixed types. Specify dtype option on import or set low_memory=False.\n",
      "  interactivity=interactivity, compiler=compiler, result=result)\n"
     ]
    }
   ],
   "source": [
    "combined_profiles = pd.read_csv('final_profiles.csv')"
   ]
  },
  {
   "cell_type": "code",
   "execution_count": 3,
   "metadata": {
    "collapsed": true
   },
   "outputs": [],
   "source": [
    "# Separate residential and non-residential buildings\n",
    "is_residential = combined_profiles.Industry == 'Residential'\n",
    "residential_profiles = combined_profiles.loc[is_residential, :]\n",
    "non_residential_profiles = combined_profiles.loc[~is_residential, :]\n",
    "\n",
    "# reset index\n",
    "residential_profiles.reset_index(inplace = True, drop = True)\n",
    "non_residential_profiles.reset_index(inplace = True, drop = True)"
   ]
  },
  {
   "cell_type": "markdown",
   "metadata": {},
   "source": [
    "### helper functions"
   ]
  },
  {
   "cell_type": "code",
   "execution_count": 4,
   "metadata": {
    "collapsed": true
   },
   "outputs": [],
   "source": [
    "def get_proportions(pd_labels):\n",
    "    result = {}\n",
    "    vals = pd_labels.value_counts()\n",
    "    total = pd_labels.shape[0]\n",
    "    for i in vals.index:\n",
    "        result[i] = (vals.loc[i]/total)\n",
    "    result['count'] = total\n",
    "    return result\n",
    "\n",
    "def get_list_of_proportions(profiles):\n",
    "    return profiles.groupby('Building')[['cluster']].transform(get_proportions)"
   ]
  },
  {
   "cell_type": "code",
   "execution_count": 5,
   "metadata": {
    "collapsed": true
   },
   "outputs": [],
   "source": [
    "def build_df(profiles, k, algo, labels_dir):\n",
    "    profiles['cluster'] = np.load('./%s/%s/params[k=%d].npy' % (labels_dir, algo, k))\n",
    "    profiles['proportions'] = get_list_of_proportions(profiles)\n",
    "    \n",
    "    final_buildings = profiles.drop_duplicates(['Dataset', 'Building'])[['Dataset', 'Building', 'proportions', 'Industry', 'PSU', 'Sqm', 'Subindustry', 'Timezone', 'EUI', 'Climatezone']]\n",
    "    final_buildings.reset_index(drop=True, inplace=True)\n",
    "    \n",
    "    filtered_buildings = final_buildings.loc[final_buildings.proportions.map(lambda x: x['count']) >= 30, :]\n",
    "    filtered_buildings.reset_index(drop=True, inplace=True)\n",
    "    \n",
    "    cluster_labels = profiles.cluster.unique()\n",
    "    cluster_labels.sort()\n",
    "    \n",
    "    proportions_data = []\n",
    "\n",
    "    for dic in filtered_buildings.proportions.tolist():\n",
    "        proportions_data.append([])\n",
    "        for label in cluster_labels:\n",
    "            if label not in dic:\n",
    "                proportions_data[-1].append(0)\n",
    "            else:\n",
    "                proportions_data[-1].append(dic[label])\n",
    "\n",
    "    proportions_df = pd.DataFrame(proportions_data)\n",
    "    \n",
    "    buildings_df = filtered_buildings.drop('proportions', axis=1)\n",
    "    return (buildings_df, proportions_df)"
   ]
  },
  {
   "cell_type": "markdown",
   "metadata": {},
   "source": [
    "### View buildings_df and proportions_df"
   ]
  },
  {
   "cell_type": "code",
   "execution_count": 17,
   "metadata": {
    "collapsed": false
   },
   "outputs": [],
   "source": [
    "buildings_df, proportions_df = build_df(combined_profiles, 5, 'kmeans', 'final_labels')"
   ]
  },
  {
   "cell_type": "code",
   "execution_count": 18,
   "metadata": {
    "collapsed": false
   },
   "outputs": [
    {
     "data": {
      "text/html": [
       "<div>\n",
       "<style>\n",
       "    .dataframe thead tr:only-child th {\n",
       "        text-align: right;\n",
       "    }\n",
       "\n",
       "    .dataframe thead th {\n",
       "        text-align: left;\n",
       "    }\n",
       "\n",
       "    .dataframe tbody tr th {\n",
       "        vertical-align: top;\n",
       "    }\n",
       "</style>\n",
       "<table border=\"1\" class=\"dataframe\">\n",
       "  <thead>\n",
       "    <tr style=\"text-align: right;\">\n",
       "      <th></th>\n",
       "      <th>Dataset</th>\n",
       "      <th>Building</th>\n",
       "      <th>Industry</th>\n",
       "      <th>PSU</th>\n",
       "      <th>Sqm</th>\n",
       "      <th>Subindustry</th>\n",
       "      <th>Timezone</th>\n",
       "      <th>EUI</th>\n",
       "      <th>Climatezone</th>\n",
       "    </tr>\n",
       "  </thead>\n",
       "  <tbody>\n",
       "    <tr>\n",
       "      <th>0</th>\n",
       "      <td>pecan</td>\n",
       "      <td>3831</td>\n",
       "      <td>Residential</td>\n",
       "      <td>Single_family_house</td>\n",
       "      <td>105.909466</td>\n",
       "      <td>NaN</td>\n",
       "      <td>America/Chicago</td>\n",
       "      <td>45.627032</td>\n",
       "      <td>2</td>\n",
       "    </tr>\n",
       "    <tr>\n",
       "      <th>1</th>\n",
       "      <td>pecan</td>\n",
       "      <td>3938</td>\n",
       "      <td>Residential</td>\n",
       "      <td>Single_family_house</td>\n",
       "      <td>104.051405</td>\n",
       "      <td>NaN</td>\n",
       "      <td>America/Chicago</td>\n",
       "      <td>20.858344</td>\n",
       "      <td>2</td>\n",
       "    </tr>\n",
       "    <tr>\n",
       "      <th>2</th>\n",
       "      <td>pecan</td>\n",
       "      <td>5371</td>\n",
       "      <td>Residential</td>\n",
       "      <td>Single_family_house</td>\n",
       "      <td>87.050148</td>\n",
       "      <td>NaN</td>\n",
       "      <td>America/Chicago</td>\n",
       "      <td>91.462989</td>\n",
       "      <td>2</td>\n",
       "    </tr>\n",
       "    <tr>\n",
       "      <th>3</th>\n",
       "      <td>pecan</td>\n",
       "      <td>9775</td>\n",
       "      <td>Residential</td>\n",
       "      <td>Single_family_house</td>\n",
       "      <td>130.528771</td>\n",
       "      <td>NaN</td>\n",
       "      <td>America/Chicago</td>\n",
       "      <td>40.263767</td>\n",
       "      <td>2</td>\n",
       "    </tr>\n",
       "    <tr>\n",
       "      <th>4</th>\n",
       "      <td>pecan</td>\n",
       "      <td>5218</td>\n",
       "      <td>Residential</td>\n",
       "      <td>Single_family_house</td>\n",
       "      <td>193.145420</td>\n",
       "      <td>NaN</td>\n",
       "      <td>America/Chicago</td>\n",
       "      <td>35.506750</td>\n",
       "      <td>2</td>\n",
       "    </tr>\n",
       "  </tbody>\n",
       "</table>\n",
       "</div>"
      ],
      "text/plain": [
       "  Dataset Building     Industry                  PSU         Sqm Subindustry  \\\n",
       "0   pecan     3831  Residential  Single_family_house  105.909466         NaN   \n",
       "1   pecan     3938  Residential  Single_family_house  104.051405         NaN   \n",
       "2   pecan     5371  Residential  Single_family_house   87.050148         NaN   \n",
       "3   pecan     9775  Residential  Single_family_house  130.528771         NaN   \n",
       "4   pecan     5218  Residential  Single_family_house  193.145420         NaN   \n",
       "\n",
       "          Timezone        EUI  Climatezone  \n",
       "0  America/Chicago  45.627032            2  \n",
       "1  America/Chicago  20.858344            2  \n",
       "2  America/Chicago  91.462989            2  \n",
       "3  America/Chicago  40.263767            2  \n",
       "4  America/Chicago  35.506750            2  "
      ]
     },
     "execution_count": 18,
     "metadata": {},
     "output_type": "execute_result"
    }
   ],
   "source": [
    "buildings_df.head()"
   ]
  },
  {
   "cell_type": "code",
   "execution_count": 19,
   "metadata": {
    "collapsed": false
   },
   "outputs": [
    {
     "data": {
      "text/html": [
       "<div>\n",
       "<style>\n",
       "    .dataframe thead tr:only-child th {\n",
       "        text-align: right;\n",
       "    }\n",
       "\n",
       "    .dataframe thead th {\n",
       "        text-align: left;\n",
       "    }\n",
       "\n",
       "    .dataframe tbody tr th {\n",
       "        vertical-align: top;\n",
       "    }\n",
       "</style>\n",
       "<table border=\"1\" class=\"dataframe\">\n",
       "  <thead>\n",
       "    <tr style=\"text-align: right;\">\n",
       "      <th></th>\n",
       "      <th>0</th>\n",
       "      <th>1</th>\n",
       "      <th>2</th>\n",
       "      <th>3</th>\n",
       "      <th>4</th>\n",
       "    </tr>\n",
       "  </thead>\n",
       "  <tbody>\n",
       "    <tr>\n",
       "      <th>0</th>\n",
       "      <td>0.207012</td>\n",
       "      <td>0.244853</td>\n",
       "      <td>0.425710</td>\n",
       "      <td>0.064552</td>\n",
       "      <td>0.057874</td>\n",
       "    </tr>\n",
       "    <tr>\n",
       "      <th>1</th>\n",
       "      <td>0.421888</td>\n",
       "      <td>0.152882</td>\n",
       "      <td>0.408521</td>\n",
       "      <td>0.000835</td>\n",
       "      <td>0.015873</td>\n",
       "    </tr>\n",
       "    <tr>\n",
       "      <th>2</th>\n",
       "      <td>0.063063</td>\n",
       "      <td>0.287087</td>\n",
       "      <td>0.487087</td>\n",
       "      <td>0.042643</td>\n",
       "      <td>0.120120</td>\n",
       "    </tr>\n",
       "    <tr>\n",
       "      <th>3</th>\n",
       "      <td>0.097458</td>\n",
       "      <td>0.095339</td>\n",
       "      <td>0.754944</td>\n",
       "      <td>0.014124</td>\n",
       "      <td>0.038136</td>\n",
       "    </tr>\n",
       "    <tr>\n",
       "      <th>4</th>\n",
       "      <td>0.290391</td>\n",
       "      <td>0.272959</td>\n",
       "      <td>0.350765</td>\n",
       "      <td>0.031888</td>\n",
       "      <td>0.053997</td>\n",
       "    </tr>\n",
       "  </tbody>\n",
       "</table>\n",
       "</div>"
      ],
      "text/plain": [
       "          0         1         2         3         4\n",
       "0  0.207012  0.244853  0.425710  0.064552  0.057874\n",
       "1  0.421888  0.152882  0.408521  0.000835  0.015873\n",
       "2  0.063063  0.287087  0.487087  0.042643  0.120120\n",
       "3  0.097458  0.095339  0.754944  0.014124  0.038136\n",
       "4  0.290391  0.272959  0.350765  0.031888  0.053997"
      ]
     },
     "execution_count": 19,
     "metadata": {},
     "output_type": "execute_result"
    }
   ],
   "source": [
    "proportions_df.head()"
   ]
  },
  {
   "cell_type": "markdown",
   "metadata": {},
   "source": [
    "### Plot stacked bar charts for dominant clusters of buildings by specific fields"
   ]
  },
  {
   "cell_type": "code",
   "execution_count": 10,
   "metadata": {
    "collapsed": true
   },
   "outputs": [],
   "source": [
    "from plot_functions.stacked import plot_stacked"
   ]
  },
  {
   "cell_type": "code",
   "execution_count": 32,
   "metadata": {
    "collapsed": true
   },
   "outputs": [],
   "source": [
    "def get_dominant_clusters(proportions_mat):\n",
    "    dominant_flag = np.max(proportions_mat, axis=1) > .5\n",
    "    dominant_clusters = np.argmax(proportions_mat, axis=1)\n",
    "    dominant_clusters[~dominant_flag] = -1\n",
    "    return dominant_clusters\n",
    "\n",
    "def plot_buildings(buildings, proportions, field, proc_plot):\n",
    "    buildings['dominant_cluster'] = get_dominant_clusters(proportions.as_matrix())\n",
    "    plot_stacked(field, buildings, by='dominant_cluster', proc_plot=proc_plot)"
   ]
  },
  {
   "cell_type": "code",
   "execution_count": 37,
   "metadata": {
    "collapsed": false
   },
   "outputs": [],
   "source": [
    "# Specify the root directory for all dominant cluster plots here\n",
    "plot_root = './dominant_cluster'\n",
    "\n",
    "fields = ['Industry', 'PSU', 'Timezone', 'Climatezone']\n",
    "algorithms = ['kmeans', 'bisectingkmeans', 'gmm']\n",
    "k_range = range(2,11)\n",
    "settings_list = [\n",
    "    {\n",
    "        'name': 'combined_profiles',\n",
    "        'labels_dir': 'final_labels',\n",
    "        'profiles': combined_profiles\n",
    "    },\n",
    "    {\n",
    "        'name': 'residential_profiles',\n",
    "        'labels_dir': 'residential_labels',\n",
    "        'profiles': residential_profiles\n",
    "    },\n",
    "    {\n",
    "        'name': 'non_residential_profiles',\n",
    "        'labels_dir': 'non_residential_labels',\n",
    "        'profiles': non_residential_profiles\n",
    "    }\n",
    "]"
   ]
  },
  {
   "cell_type": "code",
   "execution_count": 39,
   "metadata": {
    "collapsed": false
   },
   "outputs": [
    {
     "name": "stderr",
     "output_type": "stream",
     "text": [
      "/Users/yangxiya/anaconda3/lib/python3.5/site-packages/ipykernel/__main__.py:2: SettingWithCopyWarning: \n",
      "A value is trying to be set on a copy of a slice from a DataFrame.\n",
      "Try using .loc[row_indexer,col_indexer] = value instead\n",
      "\n",
      "See the caveats in the documentation: http://pandas.pydata.org/pandas-docs/stable/indexing.html#indexing-view-versus-copy\n",
      "  from ipykernel import kernelapp as app\n",
      "/Users/yangxiya/anaconda3/lib/python3.5/site-packages/ipykernel/__main__.py:3: SettingWithCopyWarning: \n",
      "A value is trying to be set on a copy of a slice from a DataFrame.\n",
      "Try using .loc[row_indexer,col_indexer] = value instead\n",
      "\n",
      "See the caveats in the documentation: http://pandas.pydata.org/pandas-docs/stable/indexing.html#indexing-view-versus-copy\n",
      "  app.launch_new_instance()\n"
     ]
    }
   ],
   "source": [
    "for settings in settings_list:\n",
    "    profiles_name = settings['name']\n",
    "    labels_dir = settings['labels_dir']\n",
    "    profiles = settings['profiles']\n",
    "    \n",
    "    for algo in algorithms:\n",
    "        for k in k_range:\n",
    "            buildings_df, proportions_df = build_df(profiles, k, algo, labels_dir)\n",
    "            \n",
    "            for field in fields:\n",
    "                save_dir = '%s/%s/%s/k%d' % (plot_root , profiles_name, algo, k)\n",
    "                if not os.path.exists(save_dir):\n",
    "                    os.makedirs(save_dir)\n",
    "                \n",
    "                def proc_plot(plt):\n",
    "                    plt.savefig('%s/%s.png' % (save_dir, field), bbox_inches='tight')\n",
    "\n",
    "                plot_buildings(buildings_df, proportions_df, field, proc_plot)"
   ]
  }
 ],
 "metadata": {
  "anaconda-cloud": {},
  "kernelspec": {
   "display_name": "Python [Root]",
   "language": "python",
   "name": "Python [Root]"
  },
  "language_info": {
   "codemirror_mode": {
    "name": "ipython",
    "version": 3
   },
   "file_extension": ".py",
   "mimetype": "text/x-python",
   "name": "python",
   "nbconvert_exporter": "python",
   "pygments_lexer": "ipython3",
   "version": "3.5.2"
  }
 },
 "nbformat": 4,
 "nbformat_minor": 2
}
