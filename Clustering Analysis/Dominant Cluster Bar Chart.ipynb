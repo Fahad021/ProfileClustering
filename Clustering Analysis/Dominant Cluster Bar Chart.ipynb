{
 "cells": [
  {
   "cell_type": "markdown",
   "metadata": {},
   "source": [
    "# Dominant Cluster Bar Chart"
   ]
  },
  {
   "cell_type": "markdown",
   "metadata": {},
   "source": [
    "## Import libraries"
   ]
  },
  {
   "cell_type": "code",
   "execution_count": 45,
   "metadata": {
    "collapsed": true
   },
   "outputs": [],
   "source": [
    "# Built-in libraries\n",
    "import os\n",
    "import re\n",
    "import time\n",
    "from datetime import datetime\n",
    "import pytz\n",
    "from itertools import compress\n",
    "from math import log\n",
    "from math import log2\n",
    "import random\n",
    "\n",
    "# NumPy, SciPy and Pandas\n",
    "import numpy as np\n",
    "from scipy.stats import gaussian_kde\n",
    "from scipy.stats import iqr\n",
    "import pandas as pd\n",
    "\n",
    "# Scikit-Learn\n",
    "from sklearn.cluster import KMeans\n",
    "from sklearn.cluster import DBSCAN\n",
    "from sklearn.cluster import AgglomerativeClustering\n",
    "from sklearn.mixture import GaussianMixture\n",
    "from sklearn import metrics\n",
    "from sklearn.metrics import silhouette_score, silhouette_samples\n",
    "from sklearn.preprocessing import StandardScaler\n",
    "from sklearn.preprocessing import LabelEncoder\n",
    "from scipy.spatial.distance import sqeuclidean\n",
    "from sklearn.neighbors import NearestNeighbors\n",
    "\n",
    "# Matplotlib\n",
    "import matplotlib.pyplot as plt\n",
    "import matplotlib.cm as cm\n",
    "import matplotlib.lines as mlines\n",
    "import matplotlib.patches as mpatches\n",
    "%matplotlib inline\n",
    "\n",
    "# JoyPy\n",
    "import joypy\n",
    "\n",
    "# Workalendar\n",
    "from workalendar.europe import Switzerland\n",
    "from workalendar.europe import UnitedKingdom\n",
    "from workalendar.usa import Colorado\n",
    "from workalendar.usa import NewYork\n",
    "from workalendar.usa import California\n",
    "from workalendar.usa import Arizona\n",
    "from workalendar.usa import Illinois\n",
    "from workalendar.asia import Singapore\n",
    "from workalendar.oceania import WesternAustralia"
   ]
  },
  {
   "cell_type": "code",
   "execution_count": 46,
   "metadata": {
    "collapsed": false
   },
   "outputs": [
    {
     "name": "stderr",
     "output_type": "stream",
     "text": [
      "/Users/yangxiya/anaconda3/lib/python3.5/site-packages/IPython/core/interactiveshell.py:2723: DtypeWarning: Columns (1,31) have mixed types. Specify dtype option on import or set low_memory=False.\n",
      "  interactivity=interactivity, compiler=compiler, result=result)\n"
     ]
    }
   ],
   "source": [
    "combined_profiles = pd.read_csv('final_profiles.csv')"
   ]
  },
  {
   "cell_type": "code",
   "execution_count": 47,
   "metadata": {
    "collapsed": true
   },
   "outputs": [],
   "source": [
    "# Separate residential and non-residential buildings\n",
    "is_residential = combined_profiles.Industry == 'Residential'\n",
    "residential_profiles = combined_profiles.loc[is_residential, :]\n",
    "non_residential_profiles = combined_profiles.loc[~is_residential, :]\n",
    "\n",
    "# reset index\n",
    "residential_profiles.reset_index(inplace = True, drop = True)\n",
    "non_residential_profiles.reset_index(inplace = True, drop = True)"
   ]
  },
  {
   "cell_type": "markdown",
   "metadata": {},
   "source": [
    "### helper functions"
   ]
  },
  {
   "cell_type": "code",
   "execution_count": 48,
   "metadata": {
    "collapsed": true
   },
   "outputs": [],
   "source": [
    "def get_proportions(pd_labels):\n",
    "    result = {}\n",
    "    vals = pd_labels.value_counts()\n",
    "    total = pd_labels.shape[0]\n",
    "    for i in vals.index:\n",
    "        result[i] = (vals.loc[i]/total)\n",
    "    result['count'] = total\n",
    "    return result\n",
    "\n",
    "def get_list_of_proportions(profiles):\n",
    "    return profiles.groupby('Building')[['cluster']].transform(get_proportions)"
   ]
  },
  {
   "cell_type": "code",
   "execution_count": 49,
   "metadata": {
    "collapsed": true
   },
   "outputs": [],
   "source": [
    "def build_df(profiles, k, algo, labels_dir):\n",
    "    profiles['cluster'] = np.load('./%s/%s/params[k=%d].npy' % (labels_dir, algo, k))\n",
    "    profiles['proportions'] = get_list_of_proportions(profiles)\n",
    "    \n",
    "    final_buildings = profiles.drop_duplicates(['Dataset', 'Building'])[['Dataset', 'Building', 'proportions', 'Industry', 'PSU', 'Sqm', 'Subindustry', 'Timezone', 'EUI', 'Climatezone', 'EUI Binned', 'Sqm Binned']]\n",
    "    final_buildings.reset_index(drop=True, inplace=True)\n",
    "    \n",
    "    filtered_buildings = final_buildings.loc[final_buildings.proportions.map(lambda x: x['count']) >= 30, :]\n",
    "    filtered_buildings.reset_index(drop=True, inplace=True)\n",
    "    \n",
    "    cluster_labels = profiles.cluster.unique()\n",
    "    cluster_labels.sort()\n",
    "    \n",
    "    proportions_data = []\n",
    "\n",
    "    for dic in filtered_buildings.proportions.tolist():\n",
    "        proportions_data.append([])\n",
    "        for label in cluster_labels:\n",
    "            if label not in dic:\n",
    "                proportions_data[-1].append(0)\n",
    "            else:\n",
    "                proportions_data[-1].append(dic[label])\n",
    "\n",
    "    proportions_df = pd.DataFrame(proportions_data)\n",
    "    \n",
    "    buildings_df = filtered_buildings.drop('proportions', axis=1)\n",
    "    return (buildings_df, proportions_df)"
   ]
  },
  {
   "cell_type": "markdown",
   "metadata": {},
   "source": [
    "### Plot stacked bar charts for dominant clusters of buildings by specific fields"
   ]
  },
  {
   "cell_type": "code",
   "execution_count": 50,
   "metadata": {
    "collapsed": false
   },
   "outputs": [],
   "source": [
    "from plot_functions.stacked import plot_stacked"
   ]
  },
  {
   "cell_type": "code",
   "execution_count": 51,
   "metadata": {
    "collapsed": true
   },
   "outputs": [],
   "source": [
    "def get_dominant_clusters(proportions_mat):\n",
    "    dominant_flag = np.max(proportions_mat, axis=1) > .5\n",
    "    dominant_clusters = np.argmax(proportions_mat, axis=1)\n",
    "    dominant_clusters[~dominant_flag] = -1\n",
    "    return dominant_clusters\n",
    "\n",
    "def plot_buildings(buildings, proportions, field, proc_plot, plot_from_df=None):\n",
    "    buildings['dominant_cluster'] = get_dominant_clusters(proportions.as_matrix())\n",
    "    plot_stacked(field, buildings, by='dominant_cluster', proc_plot=proc_plot, plot_from_df=plot_from_df)"
   ]
  },
  {
   "cell_type": "code",
   "execution_count": 52,
   "metadata": {
    "collapsed": false
   },
   "outputs": [],
   "source": [
    "def get_counts(df):\n",
    "    return df.as_matrix().tolist()\n",
    "\n",
    "def get_label_counts(counts):\n",
    "    return [sum(col) for col in transpose(counts)]\n",
    "\n",
    "def convert_to_proportions(counts):\n",
    "    results = []\n",
    "    for row in counts:\n",
    "        row_sum = sum(row)\n",
    "        results.append([e / row_sum if row_sum != 0 else 0 for e in row])\n",
    "    return results\n",
    "\n",
    "def convert_to_cumulative(proportions):\n",
    "    if len(proportions) == 0:\n",
    "        return []\n",
    "    results = [proportions[0]]\n",
    "    for i in range(1, len(proportions)):\n",
    "        results.append(proportions[i] + results[i-1])\n",
    "    return results\n",
    "\n",
    "def transpose(array):\n",
    "    if len(array) == 0:\n",
    "        return []\n",
    "    return [[row[i] for row in array] for i in range(len(array[0]))]\n",
    "\n",
    "def get_plot_sequences(proportions_list):\n",
    "    cumulative = [convert_to_cumulative(prop) for prop in proportions_list]\n",
    "    return transpose(cumulative)\n",
    "\n",
    "colors = [(0,0,0, 1), (247/255,145/255,47/255, 1), (21/255,118/255,187/255, 1)]\n",
    "\n",
    "# color func takes current group and index and returns a color\n",
    "def plot_from_df(plt, df, color_func=None):\n",
    "    by = [str(e) + ' ' for e in df.index.tolist()]\n",
    "    groups = df.columns.tolist()\n",
    "    counts = get_counts(df)\n",
    "    label_counts = get_label_counts(counts)\n",
    "    proportions = convert_to_proportions(counts)\n",
    "    plot_sequences = get_plot_sequences(proportions)\n",
    "    for i in range(len(plot_sequences)-1, -1, -1):\n",
    "        seq = plot_sequences[i]\n",
    "        if isinstance(label_counts[i], int):\n",
    "            label_text = '%s (%d)' % (groups[i], label_counts[i])\n",
    "        else:\n",
    "            label_text = '%s (%.2f)' % (groups[i], label_counts[i])\n",
    "        plt.barh(by, seq, label=label_text, color=color_func(groups, i) if color_func else None)\n",
    "    plt.legend(loc='center left', bbox_to_anchor=(1, 0.5))"
   ]
  },
  {
   "cell_type": "markdown",
   "metadata": {},
   "source": [
    "* We want to inject color options based on field"
   ]
  },
  {
   "cell_type": "code",
   "execution_count": 53,
   "metadata": {
    "collapsed": false
   },
   "outputs": [],
   "source": [
    "industry_colors = {\n",
    "    'Education': (24/255,158/255,73/255, 1),\n",
    "    'Government': (247/255,145/255,47/255, 1),\n",
    "    'Residential': (21/255,118/255,187/255, 1),\n",
    "    'Others': (50/255,50/255,50/255, 1)\n",
    "}\n",
    "\n",
    "climatezone_colors = {\n",
    "    1: (165/255, 15/255, 15/255, 1),\n",
    "    2: (242/255, 101/255, 34/255, 1),\n",
    "    3: (76/255, 156/255, 81/255, 1),\n",
    "    4: (89/255, 142/255, 189/255, 1),\n",
    "    5: (0, 63/255, 100/255, 1)\n",
    "}\n",
    "\n",
    "def get_color_func(cm, cmap_name):\n",
    "    cmap = cm.get_cmap(cmap_name)\n",
    "    def color_func(groups, i):\n",
    "        return cmap((i+1)/len(groups))\n",
    "    return color_func\n",
    "\n",
    "def generate_plot_fn(field):\n",
    "    def return_fn(plt, cm, pd, df):\n",
    "        # sort df columns by names if columns names are intervals\n",
    "        if re.search('Binned', field):\n",
    "            df = df[sorted(df.columns, key=lambda x: float(re.search('(?<=\\().*(?=,)', x).group(0)))]\n",
    "        \n",
    "        if field == 'Industry':\n",
    "            color_func = lambda groups, i: industry_colors[groups[i]]\n",
    "        elif field == 'Climatezone':\n",
    "            color_func = lambda groups, i: climatezone_colors[groups[i]]\n",
    "        elif field == 'EUI Binned':\n",
    "            color_func = get_color_func(cm, 'hot')\n",
    "        elif field == 'Sqm Binned':\n",
    "            color_func = get_color_func(cm, 'Greys')\n",
    "        elif field == 'PSU':\n",
    "            color_func = get_color_func(cm, 'tab20')\n",
    "        else:\n",
    "            color_func = None\n",
    "        plot_from_df(plt, df, color_func)\n",
    "\n",
    "    return return_fn"
   ]
  },
  {
   "cell_type": "markdown",
   "metadata": {},
   "source": [
    "### View buildings_df and proportions_df\n",
    "* For testing purposes"
   ]
  },
  {
   "cell_type": "code",
   "execution_count": 54,
   "metadata": {
    "collapsed": false,
    "scrolled": true
   },
   "outputs": [],
   "source": [
    "# buildings_df, proportions_df = build_df(combined_profiles, 3, 'kmeans', 'final_labels')"
   ]
  },
  {
   "cell_type": "code",
   "execution_count": 55,
   "metadata": {
    "collapsed": false
   },
   "outputs": [],
   "source": [
    "# field_name = 'Industry'\n",
    "# def proc_plot(plt):\n",
    "#     plt.show()\n",
    "\n",
    "# plot_buildings(buildings_df, proportions_df, field_name, proc_plot, generate_plot_fn(field_name))"
   ]
  },
  {
   "cell_type": "code",
   "execution_count": 56,
   "metadata": {
    "collapsed": false,
    "scrolled": true
   },
   "outputs": [],
   "source": [
    "# def proc_plot(plt):\n",
    "#     plt.show()\n",
    "\n",
    "# plot_buildings(buildings_df, proportions_df, 'PSU', proc_plot, plot_from_df)"
   ]
  },
  {
   "cell_type": "code",
   "execution_count": 57,
   "metadata": {
    "collapsed": false
   },
   "outputs": [],
   "source": [
    "# plot_from_df(plt, pd.DataFrame([[1, 2, 7], [3, 4, 2], [1, 0, 18]], index=['1', '2', '3'], columns=['a', 'b', 'c']))"
   ]
  },
  {
   "cell_type": "markdown",
   "metadata": {},
   "source": [
    "### Actual Plotting"
   ]
  },
  {
   "cell_type": "code",
   "execution_count": 58,
   "metadata": {
    "collapsed": false
   },
   "outputs": [],
   "source": [
    "# Specify the root directory for all dominant cluster plots here\n",
    "plot_root = './dominant_cluster'\n",
    "\n",
    "fields = ['Industry', 'PSU', 'Timezone', 'Climatezone', 'EUI Binned', 'Sqm Binned']\n",
    "algorithms = ['kmeans', 'bisectingkmeans', 'gmm']\n",
    "k_range = range(2,11)\n",
    "settings_list = [\n",
    "    {\n",
    "        'name': 'combined_profiles',\n",
    "        'labels_dir': 'final_labels',\n",
    "        'profiles': combined_profiles\n",
    "    },\n",
    "    {\n",
    "        'name': 'residential_profiles',\n",
    "        'labels_dir': 'residential_labels',\n",
    "        'profiles': residential_profiles\n",
    "    },\n",
    "    {\n",
    "        'name': 'non_residential_profiles',\n",
    "        'labels_dir': 'non_residential_labels',\n",
    "        'profiles': non_residential_profiles\n",
    "    }\n",
    "]"
   ]
  },
  {
   "cell_type": "code",
   "execution_count": 59,
   "metadata": {
    "collapsed": false
   },
   "outputs": [
    {
     "name": "stderr",
     "output_type": "stream",
     "text": [
      "/Users/yangxiya/anaconda3/lib/python3.5/site-packages/ipykernel/__main__.py:2: SettingWithCopyWarning: \n",
      "A value is trying to be set on a copy of a slice from a DataFrame.\n",
      "Try using .loc[row_indexer,col_indexer] = value instead\n",
      "\n",
      "See the caveats in the documentation: http://pandas.pydata.org/pandas-docs/stable/indexing.html#indexing-view-versus-copy\n",
      "  from ipykernel import kernelapp as app\n",
      "/Users/yangxiya/anaconda3/lib/python3.5/site-packages/ipykernel/__main__.py:3: SettingWithCopyWarning: \n",
      "A value is trying to be set on a copy of a slice from a DataFrame.\n",
      "Try using .loc[row_indexer,col_indexer] = value instead\n",
      "\n",
      "See the caveats in the documentation: http://pandas.pydata.org/pandas-docs/stable/indexing.html#indexing-view-versus-copy\n",
      "  app.launch_new_instance()\n"
     ]
    }
   ],
   "source": [
    "for settings in settings_list:\n",
    "    profiles_name = settings['name']\n",
    "    labels_dir = settings['labels_dir']\n",
    "    profiles = settings['profiles']\n",
    "    \n",
    "    for algo in algorithms:\n",
    "        for k in k_range:\n",
    "            buildings_df, proportions_df = build_df(profiles, k, algo, labels_dir)\n",
    "            \n",
    "            for field in fields:\n",
    "                save_dir = '%s/%s/%s/k%d' % (plot_root , profiles_name, algo, k)\n",
    "                if not os.path.exists(save_dir):\n",
    "                    os.makedirs(save_dir)\n",
    "                \n",
    "                def proc_plot(plt):\n",
    "                    plt.savefig('%s/%s.png' % (save_dir, field), bbox_inches='tight')\n",
    "\n",
    "                plot_buildings(buildings_df, proportions_df, field, proc_plot, generate_plot_fn(field))"
   ]
  }
 ],
 "metadata": {
  "anaconda-cloud": {},
  "kernelspec": {
   "display_name": "Python [Root]",
   "language": "python",
   "name": "Python [Root]"
  },
  "language_info": {
   "codemirror_mode": {
    "name": "ipython",
    "version": 3
   },
   "file_extension": ".py",
   "mimetype": "text/x-python",
   "name": "python",
   "nbconvert_exporter": "python",
   "pygments_lexer": "ipython3",
   "version": "3.5.2"
  }
 },
 "nbformat": 4,
 "nbformat_minor": 2
}
