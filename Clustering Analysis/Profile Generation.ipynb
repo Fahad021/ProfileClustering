{
 "cells": [
  {
   "cell_type": "markdown",
   "metadata": {},
   "source": [
    "# Building Energy Profiles clustering "
   ]
  },
  {
   "cell_type": "markdown",
   "metadata": {},
   "source": [
    "## Import libraries for analysis"
   ]
  },
  {
   "cell_type": "code",
   "execution_count": 1,
   "metadata": {
    "collapsed": true
   },
   "outputs": [],
   "source": [
    "# Built-in libraries\n",
    "import os\n",
    "import re\n",
    "import time\n",
    "from datetime import datetime\n",
    "import pytz\n",
    "from math import log\n",
    "\n",
    "# NumPy, SciPy and Pandas\n",
    "import numpy as np\n",
    "import pandas as pd\n",
    "\n",
    "# Scikit-Learn\n",
    "from sklearn.preprocessing import StandardScaler\n",
    "\n",
    "# Matplotlib\n",
    "import matplotlib.pyplot as plt\n",
    "%matplotlib inline\n",
    "\n",
    "# Workalendar\n",
    "from workalendar.europe import Switzerland\n",
    "from workalendar.europe import UnitedKingdom\n",
    "from workalendar.usa import Colorado\n",
    "from workalendar.usa import NewYork\n",
    "from workalendar.usa import California\n",
    "from workalendar.usa import Arizona\n",
    "from workalendar.usa import Illinois\n",
    "from workalendar.asia import Singapore\n",
    "from workalendar.oceania import WesternAustralia"
   ]
  },
  {
   "cell_type": "markdown",
   "metadata": {},
   "source": [
    "## A. Read HDF5 Data"
   ]
  },
  {
   "cell_type": "code",
   "execution_count": 12,
   "metadata": {
    "collapsed": false
   },
   "outputs": [],
   "source": [
    "import h5py\n",
    "filename = 'meta/meta.hdf5'\n",
    "buildings_data = h5py.File(filename, 'r')"
   ]
  },
  {
   "cell_type": "code",
   "execution_count": 13,
   "metadata": {
    "collapsed": true
   },
   "outputs": [],
   "source": [
    "# Get all metadata field names\n",
    "meta_fields = set()\n",
    "for dset_name in buildings_data:\n",
    "    for building_name in buildings_data[dset_name]:\n",
    "        for meta_field in buildings_data[dset_name][building_name].attrs:\n",
    "            meta_fields.add(meta_field)\n",
    "meta_fields = list(meta_fields)\n",
    "meta_fields.sort()"
   ]
  },
  {
   "cell_type": "code",
   "execution_count": 4,
   "metadata": {
    "collapsed": false
   },
   "outputs": [
    {
     "data": {
      "text/plain": [
       "['Climatezone', 'Industry', 'PSU', 'Sqft', 'Subindustry', 'Timezone']"
      ]
     },
     "execution_count": 4,
     "metadata": {},
     "output_type": "execute_result"
    }
   ],
   "source": [
    "# Show what metadata fields are present in the dataset\n",
    "meta_fields"
   ]
  },
  {
   "cell_type": "code",
   "execution_count": 5,
   "metadata": {
    "collapsed": true
   },
   "outputs": [],
   "source": [
    "# Only use buildings that contain the compulsory fields specified below\n",
    "compulsory_fields = ['Industry', 'PSU', 'Sqft', 'Timezone', 'Climatezone']"
   ]
  },
  {
   "cell_type": "code",
   "execution_count": 6,
   "metadata": {
    "collapsed": true
   },
   "outputs": [],
   "source": [
    "def get_attr(fields, dict_like):\n",
    "    return [dict_like[f] if f in dict_like else '' for f in fields]"
   ]
  },
  {
   "cell_type": "code",
   "execution_count": 7,
   "metadata": {
    "collapsed": true
   },
   "outputs": [],
   "source": [
    "def check_fields(fields, dict_like):\n",
    "    for f in fields:\n",
    "        if f not in dict_like:\n",
    "            return False\n",
    "        if pd.isnull(dict_like[f]):\n",
    "            return False\n",
    "    return True"
   ]
  },
  {
   "cell_type": "code",
   "execution_count": 8,
   "metadata": {
    "collapsed": true
   },
   "outputs": [],
   "source": [
    "datetime_format = \"%Y-%m-%d %H:%M:%S\"\n",
    "\n",
    "def convert_ts_from_utc(timestamp, to):\n",
    "    '''Helper function to convert datetime from UTC to specified timezone'''\n",
    "    datetime_object = datetime.strptime(timestamp, datetime_format).replace(tzinfo=pytz.utc)\n",
    "    to_datetime = datetime_object.astimezone(pytz.timezone(to))\n",
    "    return to_datetime.strftime(datetime_format)"
   ]
  },
  {
   "cell_type": "code",
   "execution_count": 9,
   "metadata": {
    "collapsed": false
   },
   "outputs": [
    {
     "name": "stdout",
     "output_type": "stream",
     "text": [
      "Time spent: 526\n"
     ]
    }
   ],
   "source": [
    "start = time.time()\n",
    "\n",
    "buildings_dict = {}\n",
    "\n",
    "for dset_name in buildings_data:\n",
    "    if dset_name not in buildings_dict:\n",
    "        buildings_dict[dset_name] = {}\n",
    "\n",
    "    for building_name in buildings_data[dset_name]:\n",
    "        buildings_dict[dset_name][building_name] = {}\n",
    "        if not check_fields(compulsory_fields, buildings_data[dset_name][building_name].attrs):\n",
    "            continue\n",
    "        meta_attr = get_attr(meta_fields, buildings_data[dset_name][building_name].attrs)\n",
    "        for year in buildings_data[dset_name][building_name]:\n",
    "            data = buildings_data[dset_name][building_name][year][:, :].astype(str)\n",
    "            # convert to local time for genome data\n",
    "            if dset_name == 'genome' or dset_name == 'genome2':\n",
    "                timezone = buildings_data[dset_name][building_name].attrs['Timezone']\n",
    "                data[:, 0] = [convert_ts_from_utc(x, timezone) for x in data[:, 0]]\n",
    "            buildings_dict[dset_name][building_name][year] = (meta_attr, data)\n",
    "\n",
    "print('Time spent: %d' % (time.time() - start))"
   ]
  },
  {
   "cell_type": "markdown",
   "metadata": {},
   "source": [
    "## Create Building Profiles\n",
    "\n",
    "* Once we read the file, we need to generate the daily profiles (24 hourly data points) for clustering analysis with Z-normalization technique"
   ]
  },
  {
   "cell_type": "code",
   "execution_count": 10,
   "metadata": {
    "collapsed": false
   },
   "outputs": [
    {
     "name": "stdout",
     "output_type": "stream",
     "text": [
      "Time spent generating building profiles: 150.087782s\n"
     ]
    }
   ],
   "source": [
    "start = time.time()\n",
    "\n",
    "data = []\n",
    "\n",
    "for dset_name in buildings_dict:\n",
    "    for building_k in buildings_dict[dset_name]:\n",
    "        for year in buildings_dict[dset_name][building_k]:\n",
    "            building = buildings_dict[dset_name][building_k][year][1]\n",
    "            meta_attr = buildings_dict[dset_name][building_k][year][0]\n",
    "\n",
    "            if (building.shape[0] == 0):\n",
    "                continue\n",
    "            cur_ts = building[0, 0]\n",
    "            cur_date = cur_ts[:10]\n",
    "            building_profiles = [(cur_date, [])]\n",
    "\n",
    "            for row in building:\n",
    "                ts = row[0]\n",
    "                val = row[1]\n",
    "                if ts[:10] != cur_date:\n",
    "                    cur_date = ts[:10]\n",
    "                    building_profiles.append((cur_date, []))\n",
    "                building_profiles[-1][1].append(val)\n",
    "\n",
    "            '''Only use profiles with complete 24 electricity readings'''\n",
    "            complete_profiles =  list(filter(lambda x: len(x[1]) == 24, building_profiles))\n",
    "            for profile in complete_profiles:\n",
    "                data.append([dset_name, building_k, profile[0]] + profile[1] + meta_attr)\n",
    "\n",
    "print('Time spent generating building profiles: %fs' % (time.time() - start))"
   ]
  },
  {
   "cell_type": "code",
   "execution_count": 13,
   "metadata": {
    "collapsed": true
   },
   "outputs": [],
   "source": [
    "# Convert data to NumPy array\n",
    "np_data = np.array(data)"
   ]
  },
  {
   "cell_type": "code",
   "execution_count": 31,
   "metadata": {
    "collapsed": false
   },
   "outputs": [
    {
     "data": {
      "text/plain": [
       "(1750879, 33)"
      ]
     },
     "execution_count": 31,
     "metadata": {},
     "output_type": "execute_result"
    }
   ],
   "source": [
    "# Show the number of rows and columns\n",
    "np_data.shape"
   ]
  },
  {
   "cell_type": "code",
   "execution_count": 2,
   "metadata": {
    "collapsed": false
   },
   "outputs": [
    {
     "name": "stderr",
     "output_type": "stream",
     "text": [
      "/Users/yangxiya/anaconda3/lib/python3.5/site-packages/IPython/core/interactiveshell.py:2723: DtypeWarning: Columns (1,31) have mixed types. Specify dtype option on import or set low_memory=False.\n",
      "  interactivity=interactivity, compiler=compiler, result=result)\n"
     ]
    }
   ],
   "source": [
    "np_data = pd.read_csv('np_data.csv')\n",
    "np_data = np_data.as_matrix()"
   ]
  },
  {
   "cell_type": "code",
   "execution_count": 4,
   "metadata": {
    "collapsed": false
   },
   "outputs": [
    {
     "name": "stderr",
     "output_type": "stream",
     "text": [
      "/Users/yangxiya/anaconda3/lib/python3.5/site-packages/sklearn/utils/validation.py:444: DataConversionWarning: Data with input dtype object was converted to float64 by StandardScaler.\n",
      "  warnings.warn(msg, DataConversionWarning)\n"
     ]
    }
   ],
   "source": [
    "# Normalize the profiles\n",
    "scaler = StandardScaler()\n",
    "norm_data = np.concatenate((np_data[:, :3], scaler.fit_transform(np_data[:, 3:3+24].T).T, np_data[:, 3+24:]), axis=1)"
   ]
  },
  {
   "cell_type": "markdown",
   "metadata": {},
   "source": [
    "## Attach meta data and calculate EUI\n",
    "\n",
    "* Basic metadata is stored in the original dataset\n",
    "* The EUI is calculated \n",
    "* Holiday information is also considered for analyzing clustering result by different day types (e.g., weekday, weekend, holiday)\n",
    "* Note that a complete dataset (.hdf5) has metadata except for profile variation"
   ]
  },
  {
   "cell_type": "code",
   "execution_count": 14,
   "metadata": {
    "collapsed": false
   },
   "outputs": [],
   "source": [
    "combined_profiles = pd.DataFrame(norm_data, columns = ['Dataset', 'Building', 'Date'] + ['0%d:00' % i for i in range(10)] + ['%d:00' % i for i in range(10, 24)] + meta_fields)"
   ]
  },
  {
   "cell_type": "code",
   "execution_count": 24,
   "metadata": {
    "collapsed": false
   },
   "outputs": [],
   "source": [
    "### Convert Sqft to Sqm ###\n",
    "one_sqft_in_sqm = 145161 / 1562500 # source: Wolfram Alpha\n",
    "combined_profiles['Sqft'] = combined_profiles['Sqft'] * one_sqft_in_sqm\n",
    "columns = combined_profiles.columns.tolist()\n",
    "columns[-3] = 'Sqm'\n",
    "combined_profiles.columns = columns"
   ]
  },
  {
   "cell_type": "code",
   "execution_count": 17,
   "metadata": {
    "collapsed": false
   },
   "outputs": [
    {
     "name": "stdout",
     "output_type": "stream",
     "text": [
      "Time spent calculating EUI: 284.595675s\n"
     ]
    }
   ],
   "source": [
    "### calculate EUI ###\n",
    "'''\n",
    "Use latest 365 days of data. If data is less than 365 days,\n",
    "add up electricity for the days we have and multiply (365 / # of days of data available)\n",
    "'''\n",
    "start = time.time()\n",
    "\n",
    "cur_building = np_data[-1,1]\n",
    "energy_dict = {cur_building: 0}\n",
    "cur_count = 0\n",
    "\n",
    "for row in np_data[::-1,:]:\n",
    "    if row[1] == cur_building and cur_count < 365:\n",
    "        for i in row[3:3+24]:\n",
    "            energy_dict[cur_building] += float(i)\n",
    "        cur_count += 1\n",
    "        continue\n",
    "    elif row[1] == cur_building:\n",
    "        continue\n",
    "    elif cur_count < 365:\n",
    "        energy_dict[cur_building] *= (365 / cur_count)\n",
    "    cur_building = row[1]\n",
    "    energy_dict[cur_building] = 0\n",
    "    cur_count = 0\n",
    "\n",
    "building_sqm = {}\n",
    "for row in combined_profiles.iterrows():\n",
    "    building = row[1].loc['Building']\n",
    "    sqm = row[1].loc['Sqm']\n",
    "    building_sqm[building] = sqm\n",
    "\n",
    "EUI = {}\n",
    "EUI.update(energy_dict)\n",
    "for k in EUI:\n",
    "    EUI[k] /= building_sqm[k]\n",
    "\n",
    "EUI_col = []\n",
    "for i in range(combined_profiles.shape[0]):\n",
    "    EUI_col.append(EUI[combined_profiles.loc[i, 'Building']])\n",
    "\n",
    "combined_profiles['EUI'] = EUI_col\n",
    "\n",
    "print('Time spent calculating EUI: %fs' % (time.time() - start))"
   ]
  },
  {
   "cell_type": "code",
   "execution_count": 18,
   "metadata": {
    "collapsed": false
   },
   "outputs": [
    {
     "name": "stderr",
     "output_type": "stream",
     "text": [
      "/Users/yangxiya/anaconda3/lib/python3.5/site-packages/workalendar/core.py:644: UserWarning: Please take note that, due to arbitrary decisions, this Islamic calendar computation may be wrong.\n",
      "  warnings.warn('Please take note that, due to arbitrary decisions, '\n"
     ]
    },
    {
     "name": "stdout",
     "output_type": "stream",
     "text": [
      "Time spent building date flags and dayofyear values: 115.855549s\n"
     ]
    }
   ],
   "source": [
    "### Create date flags ###\n",
    "start = time.time()\n",
    "# Get holidays\n",
    "reference_dict = {\n",
    "    'Europe/Zurich': Switzerland,\n",
    "    'Europe/London': UnitedKingdom,\n",
    "    'America/Denver': Colorado,\n",
    "    'America/New_York': NewYork,\n",
    "    'America/Los_Angeles': California,\n",
    "    'America/Phoenix': Arizona,\n",
    "    'America/Chicago': Illinois,\n",
    "    'Asia/Singapore': Singapore,\n",
    "    'Australia/Perth': WesternAustralia,\n",
    "}\n",
    "\n",
    "holidays_save = {}\n",
    "\n",
    "def get_holidays(timezone, year):\n",
    "    if timezone in holidays_save and year in holidays_save[timezone]:\n",
    "        return holidays_save[timezone][year]\n",
    "    holidays = reference_dict[timezone]().holidays(year)\n",
    "    str_holidays = set(date_obj.strftime(\"%Y-%m-%d\") for (date_obj, _) in holidays)\n",
    "    if timezone not in holidays_save:\n",
    "        holidays_save[timezone] = {}\n",
    "    holidays_save[timezone][year] = str_holidays\n",
    "    return str_holidays\n",
    "\n",
    "def is_holiday(date_str, timezone):\n",
    "    year = int(date_str[:4])\n",
    "    return date_str in get_holidays(timezone, year)\n",
    "\n",
    "holiday_flags = np.apply_along_axis(lambda row: is_holiday(row[0], row[1]), 1, combined_profiles[['Date', 'Timezone']].as_matrix())\n",
    "\n",
    "# Get weekends\n",
    "def get_weekday_idx(date, timezone):\n",
    "    datetime_object = datetime.strptime(date, \"%Y-%m-%d\").replace(tzinfo=pytz.timezone(timezone))\n",
    "    return datetime_object.weekday()\n",
    "\n",
    "weekends_idx = set((5, 6))\n",
    "\n",
    "def is_weekend(date, timezone):\n",
    "    return get_weekday_idx(date, timezone) in weekends_idx\n",
    "\n",
    "def get_day_of_year(date):\n",
    "    '''Compute day of year based on a 366 days calendar (year 2000)'''\n",
    "    datetime_object = datetime.strptime(date, \"%Y-%m-%d\").replace(year=2000)\n",
    "    return (datetime_object - datetime.strptime(\"2000-01-01\", \"%Y-%m-%d\")).days + 1\n",
    "\n",
    "weekend_flags = np.apply_along_axis(lambda row: is_weekend(row[0], row[1]), 1, combined_profiles[['Date', 'Timezone']].as_matrix())\n",
    "dayofyear = np.apply_along_axis(lambda row: get_day_of_year(row[0]), 1, combined_profiles[['Date']].as_matrix())\n",
    "\n",
    "# Build date flags\n",
    "dateflag = np.array(['weekday' for _ in weekend_flags])\n",
    "dateflag[weekend_flags] = 'weekend'\n",
    "dateflag[holiday_flags] = 'holiday'\n",
    "\n",
    "combined_profiles['dateflag'] = dateflag\n",
    "combined_profiles['dayofyear'] = dayofyear\n",
    "\n",
    "print('Time spent building date flags and dayofyear values: %fs' % (time.time() - start))"
   ]
  },
  {
   "cell_type": "code",
   "execution_count": 20,
   "metadata": {
    "collapsed": true
   },
   "outputs": [],
   "source": [
    "Industries = set([\n",
    "    'Residential',\n",
    "    'Education',\n",
    "    'Government'\n",
    "])\n",
    "\n",
    "PSUs = set([\n",
    "    'Single_family_house',\n",
    "    'Office',\n",
    "    'College Classroom',              \n",
    "    'College Laboratory',\n",
    "    'Primary/Secondary Classroom',\n",
    "    'Dormitory',\n",
    "    'Library',\n",
    "    'Industrial',\n",
    "    'Gymnasium',\n",
    "    'Community Center',\n",
    "    'Food Sales',\n",
    "    'Sports Stadium',\n",
    "    'Student Union',\n",
    "    'Retail',\n",
    "    'Museum',\n",
    "    'Fitness Center'\n",
    "])\n",
    "\n",
    "industry = combined_profiles.Industry.tolist()\n",
    "new_industry = []\n",
    "for ind in industry:\n",
    "    if ind not in Industries:\n",
    "        new_industry.append('Others')\n",
    "    else:\n",
    "        new_industry.append(ind)\n",
    "\n",
    "psus = combined_profiles.PSU.tolist()\n",
    "new_psu = []\n",
    "for psu in psus:\n",
    "    if psu not in PSUs:\n",
    "        new_psu.append('Others')\n",
    "    else:\n",
    "        new_psu.append(psu)"
   ]
  },
  {
   "cell_type": "code",
   "execution_count": 21,
   "metadata": {
    "collapsed": false
   },
   "outputs": [],
   "source": [
    "combined_profiles['Industry'] = new_industry\n",
    "combined_profiles['PSU'] = new_psu\n",
    "combined_profiles.to_csv('final_profiles.csv', index=False)"
   ]
  },
  {
   "cell_type": "code",
   "execution_count": 23,
   "metadata": {
    "collapsed": false
   },
   "outputs": [
    {
     "data": {
      "text/html": [
       "<div>\n",
       "<style>\n",
       "    .dataframe thead tr:only-child th {\n",
       "        text-align: right;\n",
       "    }\n",
       "\n",
       "    .dataframe thead th {\n",
       "        text-align: left;\n",
       "    }\n",
       "\n",
       "    .dataframe tbody tr th {\n",
       "        vertical-align: top;\n",
       "    }\n",
       "</style>\n",
       "<table border=\"1\" class=\"dataframe\">\n",
       "  <thead>\n",
       "    <tr style=\"text-align: right;\">\n",
       "      <th></th>\n",
       "      <th>Dataset</th>\n",
       "      <th>Building</th>\n",
       "      <th>Date</th>\n",
       "      <th>00:00</th>\n",
       "      <th>01:00</th>\n",
       "      <th>02:00</th>\n",
       "      <th>03:00</th>\n",
       "      <th>04:00</th>\n",
       "      <th>05:00</th>\n",
       "      <th>06:00</th>\n",
       "      <th>...</th>\n",
       "      <th>23:00</th>\n",
       "      <th>Climatezone</th>\n",
       "      <th>Industry</th>\n",
       "      <th>PSU</th>\n",
       "      <th>Sqm</th>\n",
       "      <th>Subindustry</th>\n",
       "      <th>Timezone</th>\n",
       "      <th>EUI</th>\n",
       "      <th>dateflag</th>\n",
       "      <th>dayofyear</th>\n",
       "    </tr>\n",
       "  </thead>\n",
       "  <tbody>\n",
       "    <tr>\n",
       "      <th>0</th>\n",
       "      <td>genome</td>\n",
       "      <td>UnivLab_Arianna</td>\n",
       "      <td>2015-01-01</td>\n",
       "      <td>1.20502</td>\n",
       "      <td>0.906274</td>\n",
       "      <td>0.0527245</td>\n",
       "      <td>0.45816</td>\n",
       "      <td>0.709957</td>\n",
       "      <td>1.42694</td>\n",
       "      <td>1.51443</td>\n",
       "      <td>...</td>\n",
       "      <td>0.569122</td>\n",
       "      <td>2</td>\n",
       "      <td>Education</td>\n",
       "      <td>College Laboratory</td>\n",
       "      <td>12731.4</td>\n",
       "      <td>College/University</td>\n",
       "      <td>America/Phoenix</td>\n",
       "      <td>139.935664</td>\n",
       "      <td>holiday</td>\n",
       "      <td>1</td>\n",
       "    </tr>\n",
       "    <tr>\n",
       "      <th>1</th>\n",
       "      <td>genome</td>\n",
       "      <td>UnivLab_Arianna</td>\n",
       "      <td>2015-01-02</td>\n",
       "      <td>-1.46191</td>\n",
       "      <td>-1.66301</td>\n",
       "      <td>-1.72934</td>\n",
       "      <td>-1.42822</td>\n",
       "      <td>-1.18816</td>\n",
       "      <td>-0.426939</td>\n",
       "      <td>-0.0415884</td>\n",
       "      <td>...</td>\n",
       "      <td>-0.41641</td>\n",
       "      <td>2</td>\n",
       "      <td>Education</td>\n",
       "      <td>College Laboratory</td>\n",
       "      <td>12731.4</td>\n",
       "      <td>College/University</td>\n",
       "      <td>America/Phoenix</td>\n",
       "      <td>139.935664</td>\n",
       "      <td>weekday</td>\n",
       "      <td>2</td>\n",
       "    </tr>\n",
       "    <tr>\n",
       "      <th>2</th>\n",
       "      <td>genome</td>\n",
       "      <td>UnivLab_Arianna</td>\n",
       "      <td>2015-01-03</td>\n",
       "      <td>0.13957</td>\n",
       "      <td>-0.00576375</td>\n",
       "      <td>-0.182616</td>\n",
       "      <td>0.437242</td>\n",
       "      <td>0.0660277</td>\n",
       "      <td>0.610592</td>\n",
       "      <td>1.62968</td>\n",
       "      <td>...</td>\n",
       "      <td>-1.11941</td>\n",
       "      <td>2</td>\n",
       "      <td>Education</td>\n",
       "      <td>College Laboratory</td>\n",
       "      <td>12731.4</td>\n",
       "      <td>College/University</td>\n",
       "      <td>America/Phoenix</td>\n",
       "      <td>139.935664</td>\n",
       "      <td>weekend</td>\n",
       "      <td>3</td>\n",
       "    </tr>\n",
       "    <tr>\n",
       "      <th>3</th>\n",
       "      <td>genome</td>\n",
       "      <td>UnivLab_Arianna</td>\n",
       "      <td>2015-01-04</td>\n",
       "      <td>0.704555</td>\n",
       "      <td>0.74382</td>\n",
       "      <td>0.994515</td>\n",
       "      <td>1.12741</td>\n",
       "      <td>0.692473</td>\n",
       "      <td>0.623004</td>\n",
       "      <td>1.45261</td>\n",
       "      <td>...</td>\n",
       "      <td>-0.537845</td>\n",
       "      <td>2</td>\n",
       "      <td>Education</td>\n",
       "      <td>College Laboratory</td>\n",
       "      <td>12731.4</td>\n",
       "      <td>College/University</td>\n",
       "      <td>America/Phoenix</td>\n",
       "      <td>139.935664</td>\n",
       "      <td>weekend</td>\n",
       "      <td>4</td>\n",
       "    </tr>\n",
       "    <tr>\n",
       "      <th>4</th>\n",
       "      <td>genome</td>\n",
       "      <td>UnivLab_Arianna</td>\n",
       "      <td>2015-01-05</td>\n",
       "      <td>-1.10402</td>\n",
       "      <td>-1.04801</td>\n",
       "      <td>-0.988425</td>\n",
       "      <td>-1.14453</td>\n",
       "      <td>-0.84066</td>\n",
       "      <td>0.131727</td>\n",
       "      <td>0.551188</td>\n",
       "      <td>...</td>\n",
       "      <td>-0.514148</td>\n",
       "      <td>2</td>\n",
       "      <td>Education</td>\n",
       "      <td>College Laboratory</td>\n",
       "      <td>12731.4</td>\n",
       "      <td>College/University</td>\n",
       "      <td>America/Phoenix</td>\n",
       "      <td>139.935664</td>\n",
       "      <td>weekday</td>\n",
       "      <td>5</td>\n",
       "    </tr>\n",
       "  </tbody>\n",
       "</table>\n",
       "<p>5 rows × 36 columns</p>\n",
       "</div>"
      ],
      "text/plain": [
       "  Dataset         Building        Date     00:00       01:00      02:00  \\\n",
       "0  genome  UnivLab_Arianna  2015-01-01   1.20502    0.906274  0.0527245   \n",
       "1  genome  UnivLab_Arianna  2015-01-02  -1.46191    -1.66301   -1.72934   \n",
       "2  genome  UnivLab_Arianna  2015-01-03   0.13957 -0.00576375  -0.182616   \n",
       "3  genome  UnivLab_Arianna  2015-01-04  0.704555     0.74382   0.994515   \n",
       "4  genome  UnivLab_Arianna  2015-01-05  -1.10402    -1.04801  -0.988425   \n",
       "\n",
       "      03:00      04:00     05:00      06:00    ...        23:00 Climatezone  \\\n",
       "0   0.45816   0.709957   1.42694    1.51443    ...     0.569122           2   \n",
       "1  -1.42822   -1.18816 -0.426939 -0.0415884    ...     -0.41641           2   \n",
       "2  0.437242  0.0660277  0.610592    1.62968    ...     -1.11941           2   \n",
       "3   1.12741   0.692473  0.623004    1.45261    ...    -0.537845           2   \n",
       "4  -1.14453   -0.84066  0.131727   0.551188    ...    -0.514148           2   \n",
       "\n",
       "    Industry                 PSU      Sqm         Subindustry  \\\n",
       "0  Education  College Laboratory  12731.4  College/University   \n",
       "1  Education  College Laboratory  12731.4  College/University   \n",
       "2  Education  College Laboratory  12731.4  College/University   \n",
       "3  Education  College Laboratory  12731.4  College/University   \n",
       "4  Education  College Laboratory  12731.4  College/University   \n",
       "\n",
       "          Timezone         EUI dateflag dayofyear  \n",
       "0  America/Phoenix  139.935664  holiday         1  \n",
       "1  America/Phoenix  139.935664  weekday         2  \n",
       "2  America/Phoenix  139.935664  weekend         3  \n",
       "3  America/Phoenix  139.935664  weekend         4  \n",
       "4  America/Phoenix  139.935664  weekday         5  \n",
       "\n",
       "[5 rows x 36 columns]"
      ]
     },
     "execution_count": 23,
     "metadata": {},
     "output_type": "execute_result"
    }
   ],
   "source": [
    "combined_profiles.head()"
   ]
  }
 ],
 "metadata": {
  "anaconda-cloud": {},
  "kernelspec": {
   "display_name": "Python [Root]",
   "language": "python",
   "name": "Python [Root]"
  },
  "language_info": {
   "codemirror_mode": {
    "name": "ipython",
    "version": 3
   },
   "file_extension": ".py",
   "mimetype": "text/x-python",
   "name": "python",
   "nbconvert_exporter": "python",
   "pygments_lexer": "ipython3",
   "version": "3.5.2"
  }
 },
 "nbformat": 4,
 "nbformat_minor": 2
}
