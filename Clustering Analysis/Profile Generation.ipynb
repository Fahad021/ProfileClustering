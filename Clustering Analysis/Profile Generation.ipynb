{
 "cells": [
  {
   "cell_type": "markdown",
   "metadata": {},
   "source": [
    "# Building Energy Profiles clustering "
   ]
  },
  {
   "cell_type": "markdown",
   "metadata": {},
   "source": [
    "## Import libraries for analysis"
   ]
  },
  {
   "cell_type": "code",
   "execution_count": 1,
   "metadata": {
    "collapsed": true
   },
   "outputs": [],
   "source": [
    "# Built-in libraries\n",
    "import os\n",
    "import re\n",
    "import time\n",
    "from datetime import datetime\n",
    "import pytz\n",
    "from math import log\n",
    "\n",
    "# NumPy, SciPy and Pandas\n",
    "import numpy as np\n",
    "import pandas as pd\n",
    "\n",
    "# Scikit-Learn\n",
    "from sklearn.preprocessing import StandardScaler\n",
    "\n",
    "# Matplotlib\n",
    "import matplotlib.pyplot as plt\n",
    "%matplotlib inline\n",
    "\n",
    "# Workalendar\n",
    "from workalendar.europe import Switzerland\n",
    "from workalendar.europe import UnitedKingdom\n",
    "from workalendar.usa import Colorado\n",
    "from workalendar.usa import NewYork\n",
    "from workalendar.usa import California\n",
    "from workalendar.usa import Arizona\n",
    "from workalendar.usa import Illinois\n",
    "from workalendar.asia import Singapore\n",
    "from workalendar.oceania import WesternAustralia"
   ]
  },
  {
   "cell_type": "markdown",
   "metadata": {},
   "source": [
    "## A. Read HDF5 Data"
   ]
  },
  {
   "cell_type": "code",
   "execution_count": 11,
   "metadata": {
    "collapsed": true
   },
   "outputs": [],
   "source": [
    "import h5py\n",
    "filename = 'meta/meta.hdf5'\n",
    "buildings_data = h5py.File(filename, 'r')"
   ]
  },
  {
   "cell_type": "code",
   "execution_count": 12,
   "metadata": {
    "collapsed": false
   },
   "outputs": [
    {
     "data": {
      "text/plain": [
       "['MIT', 'genome', 'genome2', 'ireland', 'pecan', 'utexas', 'washington']"
      ]
     },
     "execution_count": 12,
     "metadata": {},
     "output_type": "execute_result"
    }
   ],
   "source": [
    "list(buildings_data.keys())"
   ]
  },
  {
   "cell_type": "code",
   "execution_count": 13,
   "metadata": {
    "collapsed": true
   },
   "outputs": [],
   "source": [
    "# Get all metadata field names\n",
    "meta_fields = set()\n",
    "for dset_name in buildings_data:\n",
    "    for building_name in buildings_data[dset_name]:\n",
    "        for meta_field in buildings_data[dset_name][building_name].attrs:\n",
    "            meta_fields.add(meta_field)\n",
    "meta_fields = list(meta_fields)\n",
    "meta_fields.sort()"
   ]
  },
  {
   "cell_type": "code",
   "execution_count": 14,
   "metadata": {
    "collapsed": false
   },
   "outputs": [
    {
     "data": {
      "text/plain": [
       "['Climatezone', 'Industry', 'PSU', 'Sqft', 'Subindustry', 'Timezone']"
      ]
     },
     "execution_count": 14,
     "metadata": {},
     "output_type": "execute_result"
    }
   ],
   "source": [
    "# Show what metadata fields are present in the dataset\n",
    "meta_fields"
   ]
  },
  {
   "cell_type": "code",
   "execution_count": 19,
   "metadata": {
    "collapsed": true
   },
   "outputs": [],
   "source": [
    "# Only use buildings that contain the compulsory fields specified below\n",
    "compulsory_fields = ['Industry', 'PSU', 'Sqft', 'Timezone', 'Climatezone']"
   ]
  },
  {
   "cell_type": "code",
   "execution_count": 20,
   "metadata": {
    "collapsed": true
   },
   "outputs": [],
   "source": [
    "def get_attr(fields, dict_like):\n",
    "    return [dict_like[f] if f in dict_like else '' for f in fields]"
   ]
  },
  {
   "cell_type": "code",
   "execution_count": 21,
   "metadata": {
    "collapsed": true
   },
   "outputs": [],
   "source": [
    "def check_fields(fields, dict_like):\n",
    "    for f in fields:\n",
    "        if f not in dict_like:\n",
    "            return False\n",
    "        if pd.isnull(dict_like[f]):\n",
    "            return False\n",
    "    return True"
   ]
  },
  {
   "cell_type": "code",
   "execution_count": 22,
   "metadata": {
    "collapsed": true
   },
   "outputs": [],
   "source": [
    "datetime_format = \"%Y-%m-%d %H:%M:%S\"\n",
    "\n",
    "def convert_ts_from_utc(timestamp, to):\n",
    "    '''Helper function to convert datetime from UTC to specified timezone'''\n",
    "    datetime_object = datetime.strptime(timestamp, datetime_format).replace(tzinfo=pytz.utc)\n",
    "    to_datetime = datetime_object.astimezone(pytz.timezone(to))\n",
    "    return to_datetime.strftime(datetime_format)"
   ]
  },
  {
   "cell_type": "code",
   "execution_count": 27,
   "metadata": {
    "collapsed": false
   },
   "outputs": [
    {
     "name": "stdout",
     "output_type": "stream",
     "text": [
      "Time spent: 611\n"
     ]
    }
   ],
   "source": [
    "start = time.time()\n",
    "\n",
    "buildings_dict = {}\n",
    "\n",
    "for dset_name in buildings_data:\n",
    "    if dset_name not in buildings_dict:\n",
    "        buildings_dict[dset_name] = {}\n",
    "\n",
    "    for building_name in buildings_data[dset_name]:\n",
    "        buildings_dict[dset_name][building_name] = {}\n",
    "        if not check_fields(compulsory_fields, buildings_data[dset_name][building_name].attrs):\n",
    "            continue\n",
    "        meta_attr = get_attr(meta_fields, buildings_data[dset_name][building_name].attrs)\n",
    "        for year in buildings_data[dset_name][building_name]:\n",
    "            data = buildings_data[dset_name][building_name][year][:, :].astype(str)\n",
    "            # convert to local time for genome data\n",
    "            if dset_name == 'genome' or dset_name == 'genome2':\n",
    "                timezone = buildings_data[dset_name][building_name].attrs['Timezone']\n",
    "                data[:, 0] = [convert_ts_from_utc(x, timezone) for x in data[:, 0]]\n",
    "            buildings_dict[dset_name][building_name][year] = (meta_attr, data)\n",
    "\n",
    "print('Time spent: %d' % (time.time() - start))"
   ]
  },
  {
   "cell_type": "markdown",
   "metadata": {},
   "source": [
    "## Create Building Profiles\n",
    "\n",
    "* Once we read the file, we need to generate the daily profiles (24 hourly data points) for clustering analysis with Z-normalization technique"
   ]
  },
  {
   "cell_type": "code",
   "execution_count": 28,
   "metadata": {
    "collapsed": false
   },
   "outputs": [
    {
     "name": "stdout",
     "output_type": "stream",
     "text": [
      "Time spent generating building profiles: 320.812536s\n"
     ]
    }
   ],
   "source": [
    "start = time.time()\n",
    "\n",
    "data = []\n",
    "\n",
    "for dset_name in buildings_dict:\n",
    "    for building_k in buildings_dict[dset_name]:\n",
    "        for year in buildings_dict[dset_name][building_k]:\n",
    "            building = buildings_dict[dset_name][building_k][year][1]\n",
    "            meta_attr = buildings_dict[dset_name][building_k][year][0]\n",
    "\n",
    "            if (building.shape[0] == 0):\n",
    "                continue\n",
    "            cur_ts = building[0, 0]\n",
    "            cur_date = cur_ts[:10]\n",
    "            building_profiles = [(cur_date, [])]\n",
    "\n",
    "            for row in building:\n",
    "                ts = row[0]\n",
    "                val = row[1]\n",
    "                if ts[:10] != cur_date:\n",
    "                    cur_date = ts[:10]\n",
    "                    building_profiles.append((cur_date, []))\n",
    "                building_profiles[-1][1].append(val)\n",
    "\n",
    "            '''Only use profiles with complete 24 electricity readings'''\n",
    "            complete_profiles =  list(filter(lambda x: len(x[1]) == 24, building_profiles))\n",
    "            for profile in complete_profiles:\n",
    "                data.append([dset_name, building_k, profile[0]] + profile[1] + meta_attr)\n",
    "\n",
    "print('Time spent generating building profiles: %fs' % (time.time() - start))"
   ]
  },
  {
   "cell_type": "code",
   "execution_count": 29,
   "metadata": {
    "collapsed": true
   },
   "outputs": [],
   "source": [
    "# Convert data to NumPy array\n",
    "np_data = np.array(data)"
   ]
  },
  {
   "cell_type": "code",
   "execution_count": 30,
   "metadata": {
    "collapsed": false
   },
   "outputs": [
    {
     "data": {
      "text/plain": [
       "(2365925, 33)"
      ]
     },
     "execution_count": 30,
     "metadata": {},
     "output_type": "execute_result"
    }
   ],
   "source": [
    "# Show the number of rows and columns\n",
    "np_data.shape"
   ]
  },
  {
   "cell_type": "code",
   "execution_count": 31,
   "metadata": {
    "collapsed": true
   },
   "outputs": [],
   "source": [
    "pd.DataFrame(np_data).to_csv('np_data.csv', index=False)"
   ]
  },
  {
   "cell_type": "code",
   "execution_count": 2,
   "metadata": {
    "collapsed": false
   },
   "outputs": [
    {
     "name": "stderr",
     "output_type": "stream",
     "text": [
      "/Users/yangxiya/anaconda3/lib/python3.5/site-packages/IPython/core/interactiveshell.py:2723: DtypeWarning: Columns (2,32) have mixed types. Specify dtype option on import or set low_memory=False.\n",
      "  interactivity=interactivity, compiler=compiler, result=result)\n"
     ]
    }
   ],
   "source": [
    "np_data = pd.read_csv('np_data.csv')\n",
    "np_data = np_data.as_matrix()"
   ]
  },
  {
   "cell_type": "code",
   "execution_count": 9,
   "metadata": {
    "collapsed": false
   },
   "outputs": [
    {
     "name": "stderr",
     "output_type": "stream",
     "text": [
      "/Users/yangxiya/anaconda3/lib/python3.5/site-packages/sklearn/utils/validation.py:444: DataConversionWarning: Data with input dtype object was converted to float64 by StandardScaler.\n",
      "  warnings.warn(msg, DataConversionWarning)\n"
     ]
    }
   ],
   "source": [
    "# Normalize the profiles\n",
    "scaler = StandardScaler()\n",
    "norm_data = np.concatenate((np_data[:, :3], scaler.fit_transform(np_data[:, 3:3+24].T).T, np_data[:, 3+24:]), axis=1)"
   ]
  },
  {
   "cell_type": "markdown",
   "metadata": {},
   "source": [
    "## Attach meta data and calculate EUI\n",
    "\n",
    "* Basic metadata is stored in the original dataset\n",
    "* The EUI is calculated \n",
    "* Holiday information is also considered for analyzing clustering result by different day types (e.g., weekday, weekend, holiday)\n",
    "* Note that a complete dataset (.hdf5) has metadata except for profile variation"
   ]
  },
  {
   "cell_type": "code",
   "execution_count": 15,
   "metadata": {
    "collapsed": false
   },
   "outputs": [],
   "source": [
    "combined_profiles = pd.DataFrame(norm_data, columns = ['Dataset', 'Building', 'Date'] + ['0%d:00' % i for i in range(10)] + ['%d:00' % i for i in range(10, 24)] + meta_fields)"
   ]
  },
  {
   "cell_type": "code",
   "execution_count": 16,
   "metadata": {
    "collapsed": false
   },
   "outputs": [],
   "source": [
    "### Convert Sqft to Sqm ###\n",
    "one_sqft_in_sqm = 145161 / 1562500 # source: Wolfram Alpha\n",
    "combined_profiles['Sqft'] = combined_profiles['Sqft'] * one_sqft_in_sqm\n",
    "columns = combined_profiles.columns.tolist()\n",
    "columns[-3] = 'Sqm'\n",
    "combined_profiles.columns = columns"
   ]
  },
  {
   "cell_type": "code",
   "execution_count": 23,
   "metadata": {
    "collapsed": false
   },
   "outputs": [],
   "source": [
    "combined_profiles = combined_profiles.loc[(combined_profiles.Sqm != 0), :].copy()"
   ]
  },
  {
   "cell_type": "code",
   "execution_count": 24,
   "metadata": {
    "collapsed": true
   },
   "outputs": [],
   "source": [
    "combined_profiles.reset_index(drop=True, inplace=True)"
   ]
  },
  {
   "cell_type": "code",
   "execution_count": 28,
   "metadata": {
    "collapsed": false
   },
   "outputs": [
    {
     "name": "stdout",
     "output_type": "stream",
     "text": [
      "Time spent calculating EUI: 370.403654s\n"
     ]
    }
   ],
   "source": [
    "### calculate EUI ###\n",
    "'''\n",
    "Use latest 365 days of data. If data is less than 365 days,\n",
    "add up electricity for the days we have and multiply (365 / # of days of data available)\n",
    "'''\n",
    "start = time.time()\n",
    "\n",
    "cur_building = np_data[-1,1]\n",
    "energy_dict = {cur_building: 0}\n",
    "cur_count = 0\n",
    "\n",
    "for row in np_data[::-1,:]:\n",
    "    if row[1] == cur_building and cur_count < 365:\n",
    "        for i in row[3:3+24]:\n",
    "            energy_dict[cur_building] += float(i)\n",
    "        cur_count += 1\n",
    "        continue\n",
    "    elif row[1] == cur_building:\n",
    "        continue\n",
    "    elif cur_count < 365:\n",
    "        energy_dict[cur_building] *= (365 / cur_count)\n",
    "    cur_building = row[1]\n",
    "    energy_dict[cur_building] = 0\n",
    "    cur_count = 0\n",
    "\n",
    "building_sqm = {}\n",
    "for row in combined_profiles.iterrows():\n",
    "    building = row[1].loc['Building']\n",
    "    sqm = row[1].loc['Sqm']\n",
    "    building_sqm[building] = sqm\n",
    "\n",
    "EUI = {}\n",
    "EUI.update(energy_dict)\n",
    "for k in EUI:\n",
    "    if k in building_sqm:\n",
    "        EUI[k] /= building_sqm[k]\n",
    "\n",
    "EUI_col = []\n",
    "for i in range(combined_profiles.shape[0]):\n",
    "    EUI_col.append(EUI[combined_profiles.loc[i, 'Building']])\n",
    "\n",
    "combined_profiles['EUI'] = EUI_col\n",
    "\n",
    "print('Time spent calculating EUI: %fs' % (time.time() - start))"
   ]
  },
  {
   "cell_type": "code",
   "execution_count": 29,
   "metadata": {
    "collapsed": false
   },
   "outputs": [
    {
     "name": "stderr",
     "output_type": "stream",
     "text": [
      "/Users/yangxiya/anaconda3/lib/python3.5/site-packages/workalendar/core.py:644: UserWarning: Please take note that, due to arbitrary decisions, this Islamic calendar computation may be wrong.\n",
      "  warnings.warn('Please take note that, due to arbitrary decisions, '\n"
     ]
    },
    {
     "name": "stdout",
     "output_type": "stream",
     "text": [
      "Time spent building date flags and dayofyear values: 135.494549s\n"
     ]
    }
   ],
   "source": [
    "### Create date flags ###\n",
    "start = time.time()\n",
    "# Get holidays\n",
    "reference_dict = {\n",
    "    'Europe/Zurich': Switzerland,\n",
    "    'Europe/London': UnitedKingdom,\n",
    "    'America/Denver': Colorado,\n",
    "    'America/New_York': NewYork,\n",
    "    'America/Los_Angeles': California,\n",
    "    'America/Phoenix': Arizona,\n",
    "    'America/Chicago': Illinois,\n",
    "    'Asia/Singapore': Singapore,\n",
    "    'Australia/Perth': WesternAustralia,\n",
    "}\n",
    "\n",
    "holidays_save = {}\n",
    "\n",
    "def get_holidays(timezone, year):\n",
    "    if timezone in holidays_save and year in holidays_save[timezone]:\n",
    "        return holidays_save[timezone][year]\n",
    "    holidays = reference_dict[timezone]().holidays(year)\n",
    "    str_holidays = set(date_obj.strftime(\"%Y-%m-%d\") for (date_obj, _) in holidays)\n",
    "    if timezone not in holidays_save:\n",
    "        holidays_save[timezone] = {}\n",
    "    holidays_save[timezone][year] = str_holidays\n",
    "    return str_holidays\n",
    "\n",
    "def is_holiday(date_str, timezone):\n",
    "    year = int(date_str[:4])\n",
    "    return date_str in get_holidays(timezone, year)\n",
    "\n",
    "holiday_flags = np.apply_along_axis(lambda row: is_holiday(row[0], row[1]), 1, combined_profiles[['Date', 'Timezone']].as_matrix())\n",
    "\n",
    "# Get weekends\n",
    "def get_weekday_idx(date, timezone):\n",
    "    datetime_object = datetime.strptime(date, \"%Y-%m-%d\").replace(tzinfo=pytz.timezone(timezone))\n",
    "    return datetime_object.weekday()\n",
    "\n",
    "weekends_idx = set((5, 6))\n",
    "\n",
    "def is_weekend(date, timezone):\n",
    "    return get_weekday_idx(date, timezone) in weekends_idx\n",
    "\n",
    "def get_day_of_year(date):\n",
    "    '''Compute day of year based on a 366 days calendar (year 2000)'''\n",
    "    datetime_object = datetime.strptime(date, \"%Y-%m-%d\").replace(year=2000)\n",
    "    return (datetime_object - datetime.strptime(\"2000-01-01\", \"%Y-%m-%d\")).days + 1\n",
    "\n",
    "weekend_flags = np.apply_along_axis(lambda row: is_weekend(row[0], row[1]), 1, combined_profiles[['Date', 'Timezone']].as_matrix())\n",
    "dayofyear = np.apply_along_axis(lambda row: get_day_of_year(row[0]), 1, combined_profiles[['Date']].as_matrix())\n",
    "\n",
    "# Build date flags\n",
    "dateflag = np.array(['weekday' for _ in weekend_flags])\n",
    "dateflag[weekend_flags] = 'weekend'\n",
    "dateflag[holiday_flags] = 'holiday'\n",
    "\n",
    "combined_profiles['dateflag'] = dateflag\n",
    "combined_profiles['dayofyear'] = dayofyear\n",
    "\n",
    "print('Time spent building date flags and dayofyear values: %fs' % (time.time() - start))"
   ]
  },
  {
   "cell_type": "code",
   "execution_count": 30,
   "metadata": {
    "collapsed": true
   },
   "outputs": [],
   "source": [
    "Industries = set([\n",
    "    'Residential',\n",
    "    'Education',\n",
    "    'Government'\n",
    "])\n",
    "\n",
    "PSUs = set([\n",
    "    'Single_family_house',\n",
    "    'Office',\n",
    "    'College Classroom',              \n",
    "    'College Laboratory',\n",
    "    'Primary/Secondary Classroom',\n",
    "    'Dormitory',\n",
    "    'Library',\n",
    "    'Industrial',\n",
    "    'Gymnasium',\n",
    "    'Community Center',\n",
    "    'Food Sales',\n",
    "    'Sports Stadium',\n",
    "    'Student Union',\n",
    "    'Retail',\n",
    "    'Museum',\n",
    "    'Fitness Center'\n",
    "])\n",
    "\n",
    "industry = combined_profiles.Industry.tolist()\n",
    "new_industry = []\n",
    "for ind in industry:\n",
    "    if ind not in Industries:\n",
    "        new_industry.append('Others')\n",
    "    else:\n",
    "        new_industry.append(ind)\n",
    "\n",
    "psus = combined_profiles.PSU.tolist()\n",
    "new_psu = []\n",
    "for psu in psus:\n",
    "    if psu not in PSUs:\n",
    "        new_psu.append('Others')\n",
    "    else:\n",
    "        new_psu.append(psu)"
   ]
  },
  {
   "cell_type": "code",
   "execution_count": 31,
   "metadata": {
    "collapsed": false
   },
   "outputs": [],
   "source": [
    "combined_profiles['Industry'] = new_industry\n",
    "combined_profiles['PSU'] = new_psu\n",
    "combined_profiles.to_csv('final_profiles.csv', index=False)"
   ]
  },
  {
   "cell_type": "code",
   "execution_count": 32,
   "metadata": {
    "collapsed": false
   },
   "outputs": [
    {
     "data": {
      "text/html": [
       "<div>\n",
       "<style>\n",
       "    .dataframe thead tr:only-child th {\n",
       "        text-align: right;\n",
       "    }\n",
       "\n",
       "    .dataframe thead th {\n",
       "        text-align: left;\n",
       "    }\n",
       "\n",
       "    .dataframe tbody tr th {\n",
       "        vertical-align: top;\n",
       "    }\n",
       "</style>\n",
       "<table border=\"1\" class=\"dataframe\">\n",
       "  <thead>\n",
       "    <tr style=\"text-align: right;\">\n",
       "      <th></th>\n",
       "      <th>Dataset</th>\n",
       "      <th>Building</th>\n",
       "      <th>Date</th>\n",
       "      <th>00:00</th>\n",
       "      <th>01:00</th>\n",
       "      <th>02:00</th>\n",
       "      <th>03:00</th>\n",
       "      <th>04:00</th>\n",
       "      <th>05:00</th>\n",
       "      <th>06:00</th>\n",
       "      <th>...</th>\n",
       "      <th>23:00</th>\n",
       "      <th>Climatezone</th>\n",
       "      <th>Industry</th>\n",
       "      <th>PSU</th>\n",
       "      <th>Sqm</th>\n",
       "      <th>Subindustry</th>\n",
       "      <th>Timezone</th>\n",
       "      <th>EUI</th>\n",
       "      <th>dateflag</th>\n",
       "      <th>dayofyear</th>\n",
       "    </tr>\n",
       "  </thead>\n",
       "  <tbody>\n",
       "    <tr>\n",
       "      <th>0</th>\n",
       "      <td>pecan</td>\n",
       "      <td>3831</td>\n",
       "      <td>2015-01-01</td>\n",
       "      <td>-0.22758</td>\n",
       "      <td>-1.90817</td>\n",
       "      <td>-0.22758</td>\n",
       "      <td>0.612716</td>\n",
       "      <td>-0.22758</td>\n",
       "      <td>0.612716</td>\n",
       "      <td>1.87316</td>\n",
       "      <td>...</td>\n",
       "      <td>0.612716</td>\n",
       "      <td>2</td>\n",
       "      <td>Residential</td>\n",
       "      <td>Single_family_house</td>\n",
       "      <td>105.909</td>\n",
       "      <td>NaN</td>\n",
       "      <td>America/Chicago</td>\n",
       "      <td>45.627032</td>\n",
       "      <td>holiday</td>\n",
       "      <td>1</td>\n",
       "    </tr>\n",
       "    <tr>\n",
       "      <th>1</th>\n",
       "      <td>pecan</td>\n",
       "      <td>3831</td>\n",
       "      <td>2015-01-02</td>\n",
       "      <td>0.479542</td>\n",
       "      <td>-0.835773</td>\n",
       "      <td>0.479542</td>\n",
       "      <td>0.808371</td>\n",
       "      <td>0.479542</td>\n",
       "      <td>-0.835773</td>\n",
       "      <td>0.479542</td>\n",
       "      <td>...</td>\n",
       "      <td>0.808371</td>\n",
       "      <td>2</td>\n",
       "      <td>Residential</td>\n",
       "      <td>Single_family_house</td>\n",
       "      <td>105.909</td>\n",
       "      <td>NaN</td>\n",
       "      <td>America/Chicago</td>\n",
       "      <td>45.627032</td>\n",
       "      <td>weekday</td>\n",
       "      <td>2</td>\n",
       "    </tr>\n",
       "    <tr>\n",
       "      <th>2</th>\n",
       "      <td>pecan</td>\n",
       "      <td>3831</td>\n",
       "      <td>2015-01-03</td>\n",
       "      <td>1.45521</td>\n",
       "      <td>0</td>\n",
       "      <td>1.45521</td>\n",
       "      <td>0</td>\n",
       "      <td>1.45521</td>\n",
       "      <td>1.45521</td>\n",
       "      <td>0</td>\n",
       "      <td>...</td>\n",
       "      <td>-0.485071</td>\n",
       "      <td>2</td>\n",
       "      <td>Residential</td>\n",
       "      <td>Single_family_house</td>\n",
       "      <td>105.909</td>\n",
       "      <td>NaN</td>\n",
       "      <td>America/Chicago</td>\n",
       "      <td>45.627032</td>\n",
       "      <td>weekend</td>\n",
       "      <td>3</td>\n",
       "    </tr>\n",
       "    <tr>\n",
       "      <th>3</th>\n",
       "      <td>pecan</td>\n",
       "      <td>3831</td>\n",
       "      <td>2015-01-04</td>\n",
       "      <td>-0.3897</td>\n",
       "      <td>-0.471384</td>\n",
       "      <td>-0.3897</td>\n",
       "      <td>-0.471384</td>\n",
       "      <td>-0.430542</td>\n",
       "      <td>-0.471384</td>\n",
       "      <td>-0.430542</td>\n",
       "      <td>...</td>\n",
       "      <td>1.40734</td>\n",
       "      <td>2</td>\n",
       "      <td>Residential</td>\n",
       "      <td>Single_family_house</td>\n",
       "      <td>105.909</td>\n",
       "      <td>NaN</td>\n",
       "      <td>America/Chicago</td>\n",
       "      <td>45.627032</td>\n",
       "      <td>weekend</td>\n",
       "      <td>4</td>\n",
       "    </tr>\n",
       "    <tr>\n",
       "      <th>4</th>\n",
       "      <td>pecan</td>\n",
       "      <td>3831</td>\n",
       "      <td>2015-01-05</td>\n",
       "      <td>-0.216109</td>\n",
       "      <td>-0.165753</td>\n",
       "      <td>-0.266464</td>\n",
       "      <td>-0.165753</td>\n",
       "      <td>-0.266464</td>\n",
       "      <td>-0.165753</td>\n",
       "      <td>0.0860239</td>\n",
       "      <td>...</td>\n",
       "      <td>0.438512</td>\n",
       "      <td>2</td>\n",
       "      <td>Residential</td>\n",
       "      <td>Single_family_house</td>\n",
       "      <td>105.909</td>\n",
       "      <td>NaN</td>\n",
       "      <td>America/Chicago</td>\n",
       "      <td>45.627032</td>\n",
       "      <td>weekday</td>\n",
       "      <td>5</td>\n",
       "    </tr>\n",
       "  </tbody>\n",
       "</table>\n",
       "<p>5 rows × 36 columns</p>\n",
       "</div>"
      ],
      "text/plain": [
       "  Dataset Building        Date     00:00     01:00     02:00     03:00  \\\n",
       "0   pecan     3831  2015-01-01  -0.22758  -1.90817  -0.22758  0.612716   \n",
       "1   pecan     3831  2015-01-02  0.479542 -0.835773  0.479542  0.808371   \n",
       "2   pecan     3831  2015-01-03   1.45521         0   1.45521         0   \n",
       "3   pecan     3831  2015-01-04   -0.3897 -0.471384   -0.3897 -0.471384   \n",
       "4   pecan     3831  2015-01-05 -0.216109 -0.165753 -0.266464 -0.165753   \n",
       "\n",
       "      04:00     05:00      06:00    ...        23:00 Climatezone     Industry  \\\n",
       "0  -0.22758  0.612716    1.87316    ...     0.612716           2  Residential   \n",
       "1  0.479542 -0.835773   0.479542    ...     0.808371           2  Residential   \n",
       "2   1.45521   1.45521          0    ...    -0.485071           2  Residential   \n",
       "3 -0.430542 -0.471384  -0.430542    ...      1.40734           2  Residential   \n",
       "4 -0.266464 -0.165753  0.0860239    ...     0.438512           2  Residential   \n",
       "\n",
       "                   PSU      Sqm Subindustry         Timezone        EUI  \\\n",
       "0  Single_family_house  105.909         NaN  America/Chicago  45.627032   \n",
       "1  Single_family_house  105.909         NaN  America/Chicago  45.627032   \n",
       "2  Single_family_house  105.909         NaN  America/Chicago  45.627032   \n",
       "3  Single_family_house  105.909         NaN  America/Chicago  45.627032   \n",
       "4  Single_family_house  105.909         NaN  America/Chicago  45.627032   \n",
       "\n",
       "  dateflag dayofyear  \n",
       "0  holiday         1  \n",
       "1  weekday         2  \n",
       "2  weekend         3  \n",
       "3  weekend         4  \n",
       "4  weekday         5  \n",
       "\n",
       "[5 rows x 36 columns]"
      ]
     },
     "execution_count": 32,
     "metadata": {},
     "output_type": "execute_result"
    }
   ],
   "source": [
    "combined_profiles.head()"
   ]
  }
 ],
 "metadata": {
  "anaconda-cloud": {},
  "kernelspec": {
   "display_name": "Python [Root]",
   "language": "python",
   "name": "Python [Root]"
  },
  "language_info": {
   "codemirror_mode": {
    "name": "ipython",
    "version": 3
   },
   "file_extension": ".py",
   "mimetype": "text/x-python",
   "name": "python",
   "nbconvert_exporter": "python",
   "pygments_lexer": "ipython3",
   "version": "3.5.2"
  }
 },
 "nbformat": 4,
 "nbformat_minor": 2
}
