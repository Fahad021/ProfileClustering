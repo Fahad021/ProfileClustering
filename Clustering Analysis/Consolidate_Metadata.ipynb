{
 "cells": [
  {
   "cell_type": "code",
   "execution_count": 1,
   "metadata": {
    "collapsed": false,
    "scrolled": false
   },
   "outputs": [
    {
     "name": "stderr",
     "output_type": "stream",
     "text": [
      "/Users/yangxiya/anaconda3/lib/python3.5/site-packages/h5py/__init__.py:34: FutureWarning: Conversion of the second argument of issubdtype from `float` to `np.floating` is deprecated. In future, it will be treated as `np.float64 == np.dtype(float).type`.\n",
      "  from ._conv import register_converters as _register_converters\n"
     ]
    }
   ],
   "source": [
    "import pandas as pd\n",
    "import numpy as np\n",
    "import h5py\n",
    "from pytz import timezone\n",
    "import re\n",
    "from datetime import datetime\n",
    "import random\n",
    "from time import time\n",
    "\n",
    "one_sqm_in_sqft = 1562500 / 145161 # source: Wolfram Alpha\n",
    "\n",
    "meta_dict = {}"
   ]
  },
  {
   "cell_type": "code",
   "execution_count": 2,
   "metadata": {
    "collapsed": true
   },
   "outputs": [],
   "source": [
    "def apply_func(f):\n",
    "    '''Apply the given function on the data and close the data'''\n",
    "    file = 'meta/meta.hdf5'\n",
    "    buildings_data = h5py.File(file, 'r+')\n",
    "    results = f(buildings_data)\n",
    "    buildings_data.close()\n",
    "    return results"
   ]
  },
  {
   "cell_type": "markdown",
   "metadata": {},
   "source": [
    "### ireland"
   ]
  },
  {
   "cell_type": "code",
   "execution_count": 3,
   "metadata": {
    "collapsed": true
   },
   "outputs": [],
   "source": [
    "ireland_meta = pd.read_csv('./slack/IRELAND_SQFT_SQM.csv')"
   ]
  },
  {
   "cell_type": "code",
   "execution_count": 4,
   "metadata": {
    "collapsed": false
   },
   "outputs": [
    {
     "data": {
      "text/html": [
       "<div>\n",
       "<style>\n",
       "    .dataframe thead tr:only-child th {\n",
       "        text-align: right;\n",
       "    }\n",
       "\n",
       "    .dataframe thead th {\n",
       "        text-align: left;\n",
       "    }\n",
       "\n",
       "    .dataframe tbody tr th {\n",
       "        vertical-align: top;\n",
       "    }\n",
       "</style>\n",
       "<table border=\"1\" class=\"dataframe\">\n",
       "  <thead>\n",
       "    <tr style=\"text-align: right;\">\n",
       "      <th></th>\n",
       "      <th>ID</th>\n",
       "      <th>Question 6103: What is the approximate floor area of your home?</th>\n",
       "      <th>Question 61031: Is that 2(sqft), 1(sqm)</th>\n",
       "    </tr>\n",
       "  </thead>\n",
       "  <tbody>\n",
       "    <tr>\n",
       "      <th>0</th>\n",
       "      <td>1002</td>\n",
       "      <td>999999999</td>\n",
       "      <td></td>\n",
       "    </tr>\n",
       "    <tr>\n",
       "      <th>1</th>\n",
       "      <td>1003</td>\n",
       "      <td>999999999</td>\n",
       "      <td></td>\n",
       "    </tr>\n",
       "    <tr>\n",
       "      <th>2</th>\n",
       "      <td>1004</td>\n",
       "      <td>999999999</td>\n",
       "      <td></td>\n",
       "    </tr>\n",
       "    <tr>\n",
       "      <th>3</th>\n",
       "      <td>1005</td>\n",
       "      <td>999999999</td>\n",
       "      <td></td>\n",
       "    </tr>\n",
       "    <tr>\n",
       "      <th>4</th>\n",
       "      <td>1008</td>\n",
       "      <td>999999999</td>\n",
       "      <td></td>\n",
       "    </tr>\n",
       "  </tbody>\n",
       "</table>\n",
       "</div>"
      ],
      "text/plain": [
       "     ID  Question 6103: What is the approximate floor area of your home?  \\\n",
       "0  1002                                          999999999                 \n",
       "1  1003                                          999999999                 \n",
       "2  1004                                          999999999                 \n",
       "3  1005                                          999999999                 \n",
       "4  1008                                          999999999                 \n",
       "\n",
       "  Question 61031: Is that 2(sqft), 1(sqm)  \n",
       "0                                          \n",
       "1                                          \n",
       "2                                          \n",
       "3                                          \n",
       "4                                          "
      ]
     },
     "execution_count": 4,
     "metadata": {},
     "output_type": "execute_result"
    }
   ],
   "source": [
    "ireland_meta.head()"
   ]
  },
  {
   "cell_type": "code",
   "execution_count": 5,
   "metadata": {
    "collapsed": false
   },
   "outputs": [
    {
     "data": {
      "text/plain": [
       "     2451\n",
       "2    1641\n",
       "1     140\n",
       "Name: Question 61031: Is that 2(sqft), 1(sqm), dtype: int64"
      ]
     },
     "execution_count": 5,
     "metadata": {},
     "output_type": "execute_result"
    }
   ],
   "source": [
    "ireland_meta.iloc[:, 2].value_counts()"
   ]
  },
  {
   "cell_type": "code",
   "execution_count": 6,
   "metadata": {
    "collapsed": false,
    "scrolled": false
   },
   "outputs": [],
   "source": [
    "meta_dict['ireland'] = {}\n",
    "\n",
    "for row in ireland_meta.as_matrix():\n",
    "    if row[2] == '2':\n",
    "        sqft = float(row[1])\n",
    "    elif row[2] == '1':\n",
    "        sqft = float(row[1]) * one_sqm_in_sqft\n",
    "    else:\n",
    "        sqft = None\n",
    "    meta_dict['ireland'][str(row[0])] = sqft"
   ]
  },
  {
   "cell_type": "markdown",
   "metadata": {},
   "source": [
    "### MIT"
   ]
  },
  {
   "cell_type": "code",
   "execution_count": 16,
   "metadata": {
    "collapsed": false
   },
   "outputs": [],
   "source": [
    "mit_names = pd.read_csv('./slack/MIT_Building_Names_meta_comparison.csv')\n",
    "mit_names_map = {}\n",
    "for i in range(mit_names.shape[0]):\n",
    "    mit_names_map[mit_names.name_in_hdf5[i]] = mit_names.name_in_metadat[i]"
   ]
  },
  {
   "cell_type": "code",
   "execution_count": 18,
   "metadata": {
    "collapsed": false
   },
   "outputs": [],
   "source": [
    "mit_meta = pd.read_table('./slack/MIT_SQFT_edited.txt', sep=' ', skiprows=2, header=None).iloc[:, :2]"
   ]
  },
  {
   "cell_type": "code",
   "execution_count": 53,
   "metadata": {
    "collapsed": false,
    "scrolled": true
   },
   "outputs": [
    {
     "data": {
      "text/html": [
       "<div>\n",
       "<style>\n",
       "    .dataframe thead tr:only-child th {\n",
       "        text-align: right;\n",
       "    }\n",
       "\n",
       "    .dataframe thead th {\n",
       "        text-align: left;\n",
       "    }\n",
       "\n",
       "    .dataframe tbody tr th {\n",
       "        vertical-align: top;\n",
       "    }\n",
       "</style>\n",
       "<table border=\"1\" class=\"dataframe\">\n",
       "  <thead>\n",
       "    <tr style=\"text-align: right;\">\n",
       "      <th></th>\n",
       "      <th>0</th>\n",
       "      <th>1</th>\n",
       "    </tr>\n",
       "  </thead>\n",
       "  <tbody>\n",
       "    <tr>\n",
       "      <th>0</th>\n",
       "      <td>2</td>\n",
       "      <td>133168</td>\n",
       "    </tr>\n",
       "    <tr>\n",
       "      <th>1</th>\n",
       "      <td>3</td>\n",
       "      <td>160646</td>\n",
       "    </tr>\n",
       "    <tr>\n",
       "      <th>2</th>\n",
       "      <td>4</td>\n",
       "      <td>162822</td>\n",
       "    </tr>\n",
       "    <tr>\n",
       "      <th>3</th>\n",
       "      <td>5</td>\n",
       "      <td>80942</td>\n",
       "    </tr>\n",
       "    <tr>\n",
       "      <th>4</th>\n",
       "      <td>6</td>\n",
       "      <td>90246</td>\n",
       "    </tr>\n",
       "  </tbody>\n",
       "</table>\n",
       "</div>"
      ],
      "text/plain": [
       "   0       1\n",
       "0  2  133168\n",
       "1  3  160646\n",
       "2  4  162822\n",
       "3  5   80942\n",
       "4  6   90246"
      ]
     },
     "execution_count": 53,
     "metadata": {},
     "output_type": "execute_result"
    }
   ],
   "source": [
    "mit_meta.head()"
   ]
  },
  {
   "cell_type": "code",
   "execution_count": 20,
   "metadata": {
    "collapsed": false
   },
   "outputs": [],
   "source": [
    "meta_dict['MIT'] = {}\n",
    "\n",
    "for row in mit_meta.as_matrix():\n",
    "    sqft = float(row[1])\n",
    "    meta_dict['MIT'][str(row[0])] = sqft"
   ]
  },
  {
   "cell_type": "markdown",
   "metadata": {},
   "source": [
    "### pecan"
   ]
  },
  {
   "cell_type": "code",
   "execution_count": 22,
   "metadata": {
    "collapsed": true
   },
   "outputs": [],
   "source": [
    "pecan_meta = pd.read_csv('./slack/PECAN_SQFT.csv')"
   ]
  },
  {
   "cell_type": "code",
   "execution_count": 23,
   "metadata": {
    "collapsed": false
   },
   "outputs": [
    {
     "data": {
      "text/html": [
       "<div>\n",
       "<style>\n",
       "    .dataframe thead tr:only-child th {\n",
       "        text-align: right;\n",
       "    }\n",
       "\n",
       "    .dataframe thead th {\n",
       "        text-align: left;\n",
       "    }\n",
       "\n",
       "    .dataframe tbody tr th {\n",
       "        vertical-align: top;\n",
       "    }\n",
       "</style>\n",
       "<table border=\"1\" class=\"dataframe\">\n",
       "  <thead>\n",
       "    <tr style=\"text-align: right;\">\n",
       "      <th></th>\n",
       "      <th>dataid</th>\n",
       "      <th>sqft</th>\n",
       "    </tr>\n",
       "  </thead>\n",
       "  <tbody>\n",
       "    <tr>\n",
       "      <th>0</th>\n",
       "      <td>4495</td>\n",
       "      <td>1087.0</td>\n",
       "    </tr>\n",
       "    <tr>\n",
       "      <th>1</th>\n",
       "      <td>8061</td>\n",
       "      <td>1453.0</td>\n",
       "    </tr>\n",
       "    <tr>\n",
       "      <th>2</th>\n",
       "      <td>3938</td>\n",
       "      <td>1120.0</td>\n",
       "    </tr>\n",
       "    <tr>\n",
       "      <th>3</th>\n",
       "      <td>3036</td>\n",
       "      <td>2100.0</td>\n",
       "    </tr>\n",
       "    <tr>\n",
       "      <th>4</th>\n",
       "      <td>26</td>\n",
       "      <td>2075.0</td>\n",
       "    </tr>\n",
       "  </tbody>\n",
       "</table>\n",
       "</div>"
      ],
      "text/plain": [
       "   dataid    sqft\n",
       "0    4495  1087.0\n",
       "1    8061  1453.0\n",
       "2    3938  1120.0\n",
       "3    3036  2100.0\n",
       "4      26  2075.0"
      ]
     },
     "execution_count": 23,
     "metadata": {},
     "output_type": "execute_result"
    }
   ],
   "source": [
    "pecan_meta.head()"
   ]
  },
  {
   "cell_type": "code",
   "execution_count": 24,
   "metadata": {
    "collapsed": false
   },
   "outputs": [],
   "source": [
    "meta_dict['pecan'] = {}\n",
    "\n",
    "for row in pecan_meta.as_matrix():\n",
    "    sqft = float(row[1])\n",
    "    meta_dict['pecan'][str(int(row[0]))] = sqft"
   ]
  },
  {
   "cell_type": "markdown",
   "metadata": {},
   "source": [
    "### Consolidate Data"
   ]
  },
  {
   "cell_type": "code",
   "execution_count": 71,
   "metadata": {
    "collapsed": false,
    "scrolled": false
   },
   "outputs": [],
   "source": [
    "def get_counts(buildings_data, dset_name):\n",
    "    count = 0\n",
    "    for building in buildings_data[dset_name]:\n",
    "        if building not in meta_dict[dset_name]:\n",
    "            count+=1\n",
    "    print('not found: ' + str(count))\n",
    "    print('found: ' + str(len(buildings_data[dset_name].keys())-count))\n",
    "\n",
    "def get_fields(buildings_data, dset_name):\n",
    "    b1 = list(buildings_data[dset_name].keys())[0]\n",
    "    return list(buildings_data[dset_name][b1].attrs.keys())\n",
    "\n",
    "def random_building_fields(buildings_data, dset_name):\n",
    "    b_rand = random.choice(list(buildings_data[dset_name].keys()))\n",
    "    print('Building: %s' % b_rand)\n",
    "    for k in buildings_data[dset_name][b_rand].attrs.keys():\n",
    "        print('%s: %s' %(k, buildings_data[dset_name][b_rand].attrs[k]))\n",
    "\n",
    "def count_buildings_with_fields(buildings_data, dset_name, fields):\n",
    "    count = 0\n",
    "    num_buildings = len(buildings_data[dset_name].keys())\n",
    "    for building_name in buildings_data[dset_name].keys():\n",
    "        for field in fields:\n",
    "            if field not in buildings_data[dset_name][building_name].attrs:\n",
    "                count += 1\n",
    "                break\n",
    "    print('%d have specified fields' %(num_buildings-count))\n",
    "    print('%d do not have specified fields' %count)\n",
    "\n",
    "def get_buildings_with_fields(buildings_data, dset_name, fields):\n",
    "    buildings = []\n",
    "    for building_name in buildings_data[dset_name].keys():\n",
    "        buildings.append(building_name)\n",
    "        for field in fields:\n",
    "            if field not in buildings_data[dset_name][building_name].attrs:\n",
    "                buildings = buildings[:-1]\n",
    "                break\n",
    "    return buildings\n",
    "\n",
    "def get_building_names(buildings_data, dset_name):\n",
    "    return pd.DataFrame(list(buildings_data[dset_name].keys()), columns=['name'])"
   ]
  },
  {
   "cell_type": "code",
   "execution_count": 75,
   "metadata": {
    "collapsed": false
   },
   "outputs": [
    {
     "name": "stdout",
     "output_type": "stream",
     "text": [
      "Building: Neeb Hall\n",
      "Timezone: America/Phoenix\n",
      "Sqft: 9309.0\n",
      "Industry: Education\n",
      "PSU: College Classroom\n",
      "Subindustry: College/University\n",
      "Climatezone: 2\n"
     ]
    }
   ],
   "source": [
    "# random check\n",
    "apply_func(lambda x: random_building_fields(x, 'genome2'))"
   ]
  },
  {
   "cell_type": "code",
   "execution_count": 17,
   "metadata": {
    "collapsed": false
   },
   "outputs": [],
   "source": [
    "# Save MIT building names\n",
    "# get_building_names(buildings_data, 'MIT').to_csv('MIT_Building_Names.csv', index=False)"
   ]
  },
  {
   "cell_type": "markdown",
   "metadata": {},
   "source": [
    "### Change Meta Data"
   ]
  },
  {
   "cell_type": "code",
   "execution_count": 27,
   "metadata": {
    "collapsed": false
   },
   "outputs": [],
   "source": [
    "# See a random building's meta data (Checks)\n",
    "# random_building_fields(buildings_data, 'ireland')"
   ]
  },
  {
   "cell_type": "markdown",
   "metadata": {},
   "source": [
    "### Timezone updates"
   ]
  },
  {
   "cell_type": "code",
   "execution_count": 18,
   "metadata": {
    "collapsed": false
   },
   "outputs": [],
   "source": [
    "def timezone_updates(buildings_data):\n",
    "    dset_name = 'utexas'\n",
    "    for building in buildings_data[dset_name].keys():\n",
    "        buildings_data[dset_name][building].attrs['Timezone'] = 'America/Chicago'\n",
    "\n",
    "    dset_name = 'pecan'\n",
    "    for building in buildings_data[dset_name].keys():\n",
    "        buildings_data[dset_name][building].attrs['Timezone'] = 'America/Chicago'\n",
    "\n",
    "    dset_name = 'MIT'\n",
    "    for building in buildings_data[dset_name].keys():\n",
    "        buildings_data[dset_name][building].attrs['Timezone'] = 'America/New_York'\n",
    "\n",
    "    dset_name = 'ireland'\n",
    "    for building in buildings_data[dset_name].keys():\n",
    "        buildings_data[dset_name][building].attrs['Timezone'] = 'Europe/London'\n",
    "\n",
    "apply_func(timezone_updates)"
   ]
  },
  {
   "cell_type": "markdown",
   "metadata": {},
   "source": [
    "### Add climate zones\n",
    "* Generic Updates"
   ]
  },
  {
   "cell_type": "code",
   "execution_count": 65,
   "metadata": {
    "collapsed": true
   },
   "outputs": [],
   "source": [
    "def climate_zone_updates(buildings_data):\n",
    "    dset_name = 'utexas'\n",
    "    for building in buildings_data[dset_name].keys():\n",
    "        buildings_data[dset_name][building].attrs['Climatezone'] = '2'\n",
    "\n",
    "    dset_name = 'pecan'\n",
    "    for building in buildings_data[dset_name].keys():\n",
    "        buildings_data[dset_name][building].attrs['Climatezone'] = '2'\n",
    "\n",
    "    dset_name = 'MIT'\n",
    "    for building in buildings_data[dset_name].keys():\n",
    "        buildings_data[dset_name][building].attrs['Climatezone'] = '5'\n",
    "\n",
    "    dset_name = 'ireland'\n",
    "    for building in buildings_data[dset_name].keys():\n",
    "        buildings_data[dset_name][building].attrs['Climatezone'] = '4'\n",
    "\n",
    "apply_func(climate_zone_updates)"
   ]
  },
  {
   "cell_type": "markdown",
   "metadata": {},
   "source": [
    "* Update genome datasets"
   ]
  },
  {
   "cell_type": "code",
   "execution_count": 68,
   "metadata": {
    "collapsed": false
   },
   "outputs": [
    {
     "data": {
      "text/plain": [
       "{'America/Chicago',\n",
       " 'America/Denver',\n",
       " 'America/Los_Angeles',\n",
       " 'America/New_York',\n",
       " 'America/Phoenix',\n",
       " 'Asia/Singapore',\n",
       " 'Australia/Perth',\n",
       " 'Europe/London',\n",
       " 'Europe/Zurich'}"
      ]
     },
     "execution_count": 68,
     "metadata": {},
     "output_type": "execute_result"
    }
   ],
   "source": [
    "# Check timezones\n",
    "def climate_zone_check(buildings_data):\n",
    "    dset_names = ['genome', 'genome2']\n",
    "    timezones = set()\n",
    "    for dset_name in dset_names:\n",
    "        for building in buildings_data[dset_name].keys():\n",
    "            timezone = buildings_data[dset_name][building].attrs['Timezone']\n",
    "            timezones.add(timezone)\n",
    "    return timezones\n",
    "\n",
    "apply_func(climate_zone_check)"
   ]
  },
  {
   "cell_type": "code",
   "execution_count": 70,
   "metadata": {
    "collapsed": false
   },
   "outputs": [],
   "source": [
    "lookup = {\n",
    "    'America/Los_Angeles': '3',\n",
    "    'America/Denver': '5',\n",
    "    'America/Phoenix': '2',\n",
    "    'America/Chicago': '5',\n",
    "    'America/New_York': '4',\n",
    "    'Europe/London': '4',\n",
    "    'Europe/Zurich': '5',\n",
    "    'Asia/Singapore': '1',\n",
    "    'Australia/Perth': '5'\n",
    "}\n",
    "\n",
    "def get_climatezone(timezone):\n",
    "    return lookup[timezone]\n",
    "\n",
    "def climate_zone_updates(buildings_data):\n",
    "    dset_names = ['genome', 'genome2']\n",
    "    for dset_name in dset_names:\n",
    "        for building in buildings_data[dset_name].keys():\n",
    "            timezone = buildings_data[dset_name][building].attrs['Timezone']\n",
    "            buildings_data[dset_name][building].attrs['Climatezone'] = get_climatezone(timezone)\n",
    "\n",
    "apply_func(climate_zone_updates)"
   ]
  },
  {
   "cell_type": "markdown",
   "metadata": {},
   "source": [
    "### Industry, Subindustry and PSU"
   ]
  },
  {
   "cell_type": "code",
   "execution_count": 98,
   "metadata": {
    "collapsed": true
   },
   "outputs": [],
   "source": [
    "def industry_updates(buildings_data):\n",
    "    dset_name = 'ireland'\n",
    "    for building in buildings_data[dset_name].keys():\n",
    "        buildings_data[dset_name][building].attrs['Industry'] = 'Residential'\n",
    "        buildings_data[dset_name][building].attrs['PSU'] = 'Single_family_house'\n",
    "\n",
    "    dset_name = 'pecan'\n",
    "    for building in buildings_data[dset_name].keys():\n",
    "        buildings_data[dset_name][building].attrs['PSU'] = 'Single_family_house'\n",
    "        buildings_data[dset_name][building].attrs['Industry'] = 'Residential'\n",
    "\n",
    "    dset_name = 'utexas'\n",
    "    for building in buildings_data[dset_name].keys():\n",
    "        buildings_data[dset_name][building].attrs['Industry'] = 'Education'\n",
    "        buildings_data[dset_name][building].attrs['Subindustry'] = 'College/University'\n",
    "        \n",
    "    dset_name = 'MIT'\n",
    "    for building in buildings_data[dset_name].keys():\n",
    "        buildings_data[dset_name][building].attrs['Industry'] = 'Education'\n",
    "        buildings_data[dset_name][building].attrs['Subindustry'] = 'College/University'\n",
    "\n",
    "apply_func(industry_updates)"
   ]
  },
  {
   "cell_type": "markdown",
   "metadata": {},
   "source": [
    "### MIT sqft updates"
   ]
  },
  {
   "cell_type": "code",
   "execution_count": 84,
   "metadata": {
    "collapsed": false
   },
   "outputs": [],
   "source": [
    "def update_mit(buildings_data):\n",
    "    for building in buildings_data['MIT']:\n",
    "        mapped_name = mit_names_map[building]\n",
    "        sqft = meta_dict['MIT'][mapped_name]\n",
    "        buildings_data['MIT'][building].attrs['Sqft'] = sqft\n",
    "\n",
    "apply_func(update_mit)"
   ]
  },
  {
   "cell_type": "markdown",
   "metadata": {},
   "source": [
    "### Read genome2"
   ]
  },
  {
   "cell_type": "code",
   "execution_count": null,
   "metadata": {
    "collapsed": true
   },
   "outputs": [],
   "source": [
    "genome2 = pd.read_csv('./genome2/TemporalMaster.csv', )"
   ]
  },
  {
   "cell_type": "code",
   "execution_count": null,
   "metadata": {
    "collapsed": false
   },
   "outputs": [],
   "source": [
    "genome2.shape"
   ]
  },
  {
   "cell_type": "code",
   "execution_count": null,
   "metadata": {
    "collapsed": false
   },
   "outputs": [],
   "source": [
    "genome2.head()"
   ]
  },
  {
   "cell_type": "code",
   "execution_count": null,
   "metadata": {
    "collapsed": false
   },
   "outputs": [],
   "source": [
    "genome2_meta = pd.read_csv('./genome2/MetaMasterModified.csv', encoding='utf8')"
   ]
  },
  {
   "cell_type": "code",
   "execution_count": null,
   "metadata": {
    "collapsed": false
   },
   "outputs": [],
   "source": [
    "genome2_buildings = set(genome2_meta.siteid.tolist())"
   ]
  },
  {
   "cell_type": "code",
   "execution_count": null,
   "metadata": {
    "collapsed": false
   },
   "outputs": [],
   "source": [
    "count = 0\n",
    "not_found = []\n",
    "for building in genome2.columns[1:]:\n",
    "    if building not in genome2_buildings:\n",
    "        count += 1\n",
    "        not_found.append(building)\n",
    "print('Found: %d' % (len(genome2.columns) - 1 - count))\n",
    "print('Not found: %d' % (count))"
   ]
  },
  {
   "cell_type": "code",
   "execution_count": null,
   "metadata": {
    "collapsed": false
   },
   "outputs": [],
   "source": [
    "genome2_meta_less = genome2_meta[['siteid', 'timezone', 'sqft', 'industry', 'subindustry', 'primaryspaceusage']].copy()"
   ]
  },
  {
   "cell_type": "code",
   "execution_count": null,
   "metadata": {
    "collapsed": false
   },
   "outputs": [],
   "source": [
    "meta_dict['genome2'] = {}\n",
    "\n",
    "for row in genome2_meta_less.as_matrix():\n",
    "    siteid = row[0]\n",
    "    meta_dict['genome2'][siteid] = {\n",
    "        'Timezone': row[1],\n",
    "        'Sqft': row[2],\n",
    "        'Industry': row[3],\n",
    "        'Subindustry': row[4],\n",
    "        'PSU': row[5]\n",
    "    }"
   ]
  },
  {
   "cell_type": "code",
   "execution_count": null,
   "metadata": {
    "collapsed": false
   },
   "outputs": [],
   "source": [
    "genome2_meta_less.head()"
   ]
  },
  {
   "cell_type": "code",
   "execution_count": null,
   "metadata": {
    "collapsed": false
   },
   "outputs": [],
   "source": [
    "genome2_meta.columns"
   ]
  },
  {
   "cell_type": "code",
   "execution_count": null,
   "metadata": {
    "collapsed": true
   },
   "outputs": [],
   "source": [
    "genome2_mat = genome2.as_matrix()"
   ]
  },
  {
   "cell_type": "markdown",
   "metadata": {},
   "source": [
    "### Store genome2 data in memory"
   ]
  },
  {
   "cell_type": "code",
   "execution_count": null,
   "metadata": {
    "collapsed": false
   },
   "outputs": [],
   "source": [
    "genome2_data = {}\n",
    "\n",
    "start = time()\n",
    "\n",
    "for j in range(1, genome2_mat.shape[1]):\n",
    "    site_id = genome2.columns[j]\n",
    "    genome2_data[site_id] = {}\n",
    "    tf = ~np.isnan(genome2_mat[:, j].astype(float))\n",
    "    building_years = genome2_mat[:, [0, j]][tf, :]\n",
    "    cur_year = None\n",
    "    prev_i = 0\n",
    "    \n",
    "    for i in range(building_years.shape[0]):\n",
    "        row = building_years[i, :]\n",
    "        row_date = datetime.strptime(row[0], '%m/%d/%y %H:%M')\n",
    "        building_years[i, 0] = datetime.strftime(row_date, '%Y-%m-%d %H:%M:%S')\n",
    "        if cur_year == None:\n",
    "            cur_year = row_date.year\n",
    "        else:\n",
    "            if cur_year != row_date.year:\n",
    "                genome2_data[site_id][str(cur_year)] = building_years[prev_i: i+1, :]\n",
    "                cur_year = row_date.year\n",
    "                prev_i = i+1\n",
    "    if building_years.shape[0] > 0:\n",
    "        genome2_data[site_id][str(cur_year)] = building_years[prev_i: i+1, :]\n",
    "\n",
    "print('Time taken: %.4f' % (time()- start))"
   ]
  },
  {
   "cell_type": "markdown",
   "metadata": {},
   "source": [
    "### Create new dataset and write to hdf5"
   ]
  },
  {
   "cell_type": "code",
   "execution_count": null,
   "metadata": {
    "collapsed": false
   },
   "outputs": [],
   "source": [
    "# genome2_data['SchoellkopfCrescent.Elec.PowerScout3/kW_System']['2015'].astype('|S32')"
   ]
  },
  {
   "cell_type": "code",
   "execution_count": null,
   "metadata": {
    "collapsed": false
   },
   "outputs": [],
   "source": [
    "def make_genome2(buildings_data):\n",
    "    if 'genome2' in buildings_data.keys():\n",
    "        del buildings_data['genome2']\n",
    "    buildings_data.create_group('genome2')\n",
    "    for building in genome2_data:\n",
    "        building_name = re.sub('/', '.', building)\n",
    "        buildings_data['genome2'].create_group(building_name)\n",
    "        for field in meta_dict['genome2'][building]:\n",
    "            buildings_data['genome2'][building_name].attrs[field] = meta_dict['genome2'][building][field]\n",
    "        for year in genome2_data[building]:\n",
    "            buildings_data['genome2'][building_name].create_dataset(year, shape=genome2_data[building][year].shape, dtype='|S32')\n",
    "            buildings_data['genome2'][building_name][year][:] = genome2_data[building][year].astype('|S32')\n",
    "\n",
    "apply_func(make_genome2)"
   ]
  },
  {
   "cell_type": "code",
   "execution_count": 99,
   "metadata": {
    "collapsed": false,
    "scrolled": false
   },
   "outputs": [
    {
     "name": "stdout",
     "output_type": "stream",
     "text": [
      "Summary of genome\n",
      "Sqft - total: 507, not found: 0, nan: 0\n",
      "Industry - total: 507, not found: 0, nan: 0\n",
      "Subindustry - total: 507, not found: 0, nan: 0\n",
      "Timezone - total: 507, not found: 0, nan: 0\n",
      "PSU - total: 507, not found: 0, nan: 0\n",
      "\n",
      "Summary of genome2\n",
      "Sqft - total: 1236, not found: 0, nan: 356\n",
      "Industry - total: 1236, not found: 0, nan: 0\n",
      "Subindustry - total: 1236, not found: 0, nan: 0\n",
      "Timezone - total: 1236, not found: 0, nan: 0\n",
      "PSU - total: 1236, not found: 0, nan: 0\n",
      "\n",
      "Summary of utexas\n",
      "Sqft - total: 112, not found: 1, nan: 0\n",
      "Industry - total: 112, not found: 0, nan: 0\n",
      "Subindustry - total: 112, not found: 0, nan: 0\n",
      "Timezone - total: 112, not found: 0, nan: 0\n",
      "PSU - total: 112, not found: 1, nan: 0\n",
      "\n",
      "Summary of ireland\n",
      "Sqft - total: 6435, not found: 4654, nan: 0\n",
      "Industry - total: 6435, not found: 0, nan: 0\n",
      "Subindustry - total: 6435, not found: 6435, nan: 0\n",
      "Timezone - total: 6435, not found: 0, nan: 0\n",
      "PSU - total: 6435, not found: 0, nan: 0\n",
      "\n",
      "Summary of MIT\n",
      "Sqft - total: 87, not found: 0, nan: 0\n",
      "Industry - total: 87, not found: 0, nan: 0\n",
      "Subindustry - total: 87, not found: 0, nan: 0\n",
      "Timezone - total: 87, not found: 0, nan: 0\n",
      "PSU - total: 87, not found: 0, nan: 0\n",
      "\n",
      "Summary of pecan\n",
      "Sqft - total: 747, not found: 634, nan: 0\n",
      "Industry - total: 747, not found: 0, nan: 0\n",
      "Subindustry - total: 747, not found: 747, nan: 0\n",
      "Timezone - total: 747, not found: 0, nan: 0\n",
      "PSU - total: 747, not found: 0, nan: 0\n",
      "\n"
     ]
    }
   ],
   "source": [
    "datasets_names = ['genome', 'genome2', 'utexas', 'ireland', 'MIT', 'pecan']\n",
    "fields_to_check = ['Sqft', 'Industry', 'Subindustry', 'Timezone', 'PSU']\n",
    "\n",
    "def check_field(buildings_data, dset_name, field):\n",
    "    not_found_count = 0\n",
    "    nan_count = 0\n",
    "    total = 0\n",
    "    for building in buildings_data[dset_name]:\n",
    "        total += 1\n",
    "        if field not in buildings_data[dset_name][building].attrs:\n",
    "            not_found_count+=1\n",
    "            continue\n",
    "        if pd.isnull(buildings_data[dset_name][building].attrs[field]):\n",
    "            nan_count+=1\n",
    "    print('%s - total: %d, not found: %d, nan: %d' %(field, total, not_found_count, nan_count))\n",
    "\n",
    "\n",
    "def view_genome2(buildings_data):\n",
    "    #print(list(buildings_data['genome2']['SchoellkopfCrescent.Elec.PowerScout3/kW_System'].attrs.items()))\n",
    "    #print(buildings_data['genome2']['SchoellkopfCrescent.Elec.PowerScout3/kW_System']['2015'][:])\n",
    "    #random_building_fields(buildings_data, 'genome2')\n",
    "    #print(np.isnan(buildings_data['genome2']['178391701e80df305b27965c06b0d977'].attrs['Sqft']))\n",
    "    check_field(buildings_data, 'genome2', 'Sqft')\n",
    "\n",
    "def view_data(buildings_data):\n",
    "    for dset_name in datasets_names:\n",
    "        print('Summary of %s' % dset_name)\n",
    "        for field in fields_to_check:\n",
    "            check_field(buildings_data, dset_name, field)\n",
    "        print()\n",
    "\n",
    "apply_func(view_data)"
   ]
  },
  {
   "cell_type": "markdown",
   "metadata": {},
   "source": [
    "### Get Start and End Date"
   ]
  },
  {
   "cell_type": "code",
   "execution_count": 7,
   "metadata": {
    "collapsed": false
   },
   "outputs": [
    {
     "data": {
      "text/plain": [
       "'2017-05-12'"
      ]
     },
     "execution_count": 7,
     "metadata": {},
     "output_type": "execute_result"
    }
   ],
   "source": [
    "min(['2017-05-12','2017-08-12'])"
   ]
  },
  {
   "cell_type": "code",
   "execution_count": 23,
   "metadata": {
    "collapsed": false
   },
   "outputs": [
    {
     "name": "stdout",
     "output_type": "stream",
     "text": [
      "genome date range: b'2010-01-01 08:00:00' to b'2015-12-31 23:00:00'\n",
      "genome2 date range: b'2010-01-01 00:00:00' to b'2015-12-31 23:00:00'\n",
      "utexas date range: b'2009-01-15 00:00:00' to b'2017-08-20 00:00:00'\n",
      "ireland date range: b'2009-07-14 00:00:00' to b'2010-12-31 23:00:00'\n",
      "MIT date range: b'2014-01-01 00:00:00' to b'2016-12-31 23:00:00'\n",
      "pecan date range: b'2012-03-19 19:00:00' to b'2017-09-16 07:00:00'\n"
     ]
    }
   ],
   "source": [
    "datasets_names = ['genome', 'genome2', 'utexas', 'ireland', 'MIT', 'pecan']\n",
    "fields_to_check = ['Sqft', 'Industry', 'Timezone', 'PSU']\n",
    "\n",
    "def get_dates(buildings_data, dset_name, fields):\n",
    "    min_list = []\n",
    "    max_list = []\n",
    "    for building in buildings_data[dset_name]:\n",
    "        skip = False\n",
    "        for field in fields:\n",
    "            if field not in buildings_data[dset_name][building].attrs:\n",
    "                skip=True\n",
    "                continue\n",
    "            if pd.isnull(buildings_data[dset_name][building].attrs[field]):\n",
    "                skip=True\n",
    "        if skip:\n",
    "            continue\n",
    "        min_, max_ = helper_get_dates(buildings_data, dset_name, building)\n",
    "        min_list.append(min_)\n",
    "        max_list.append(max_)\n",
    "    return (min(min_list), max(max_list))\n",
    "            \n",
    "def helper_get_dates(buildings_data, dset_name, building):\n",
    "    max_list = []\n",
    "    min_list = []\n",
    "    for year in buildings_data[dset_name][building]:\n",
    "        if not buildings_data[dset_name][building][year].shape[0]:\n",
    "            continue\n",
    "        max_list.append(max(buildings_data[dset_name][building][year][:, 0]))\n",
    "        min_list.append(min(buildings_data[dset_name][building][year][:, 0]))\n",
    "    return (min(min_list), max(max_list))\n",
    "\n",
    "def view_data(buildings_data):\n",
    "    for dset_name in datasets_names:\n",
    "        min_, max_ = get_dates(buildings_data, dset_name, fields_to_check)\n",
    "        print('%s date range: %s to %s' % (dset_name, min_, max_))\n",
    "\n",
    "apply_func(view_data)"
   ]
  },
  {
   "cell_type": "markdown",
   "metadata": {},
   "source": [
    "### Check Meta"
   ]
  },
  {
   "cell_type": "code",
   "execution_count": 50,
   "metadata": {
    "collapsed": false
   },
   "outputs": [],
   "source": [
    "datasets_names = ['genome2', 'utexas', 'ireland', 'MIT', 'pecan']\n",
    "fields_to_check = ['Sqft', 'Industry', 'Subindustry', 'Timezone', 'PSU']\n",
    "\n",
    "def check_field(buildings_data, dset_name, building, field, skip=None):\n",
    "    if field == skip:\n",
    "        if field not in buildings_data[dset_name][building].attrs:\n",
    "            return (True, None)\n",
    "        return (True, buildings_data[dset_name][building].attrs[field])\n",
    "\n",
    "    if field not in buildings_data[dset_name][building].attrs:\n",
    "        return (False, None)\n",
    "    if pd.isnull(buildings_data[dset_name][building].attrs[field]):\n",
    "        return (False, None)\n",
    "    return (True, buildings_data[dset_name][building].attrs[field])\n",
    "\n",
    "def inspect_data(buildings_data):\n",
    "    results = []\n",
    "    for dset_name in datasets_names:\n",
    "        for building in buildings_data[dset_name]:\n",
    "            check = True\n",
    "            fields = []\n",
    "            for field in fields_to_check:\n",
    "                this_check, val = check_field(buildings_data, dset_name, building, field, skip='Subindustry')\n",
    "                check = check and this_check\n",
    "                fields.append(val)\n",
    "            if not check:\n",
    "                continue\n",
    "            results.append([dset_name, building] + fields)\n",
    "    return results\n",
    "\n",
    "results = apply_func(inspect_data)"
   ]
  },
  {
   "cell_type": "code",
   "execution_count": 51,
   "metadata": {
    "collapsed": false
   },
   "outputs": [
    {
     "data": {
      "text/plain": [
       "2972"
      ]
     },
     "execution_count": 51,
     "metadata": {},
     "output_type": "execute_result"
    }
   ],
   "source": [
    "len(results)"
   ]
  },
  {
   "cell_type": "code",
   "execution_count": 54,
   "metadata": {
    "collapsed": false
   },
   "outputs": [],
   "source": [
    "results_df = pd.DataFrame(results, columns=['Dataset', 'Building'] + fields_to_check)"
   ]
  },
  {
   "cell_type": "code",
   "execution_count": 55,
   "metadata": {
    "collapsed": false
   },
   "outputs": [
    {
     "data": {
      "text/html": [
       "<div>\n",
       "<style>\n",
       "    .dataframe thead tr:only-child th {\n",
       "        text-align: right;\n",
       "    }\n",
       "\n",
       "    .dataframe thead th {\n",
       "        text-align: left;\n",
       "    }\n",
       "\n",
       "    .dataframe tbody tr th {\n",
       "        vertical-align: top;\n",
       "    }\n",
       "</style>\n",
       "<table border=\"1\" class=\"dataframe\">\n",
       "  <thead>\n",
       "    <tr style=\"text-align: right;\">\n",
       "      <th></th>\n",
       "      <th>Dataset</th>\n",
       "      <th>Building</th>\n",
       "      <th>Sqft</th>\n",
       "      <th>Industry</th>\n",
       "      <th>Subindustry</th>\n",
       "      <th>Timezone</th>\n",
       "      <th>PSU</th>\n",
       "    </tr>\n",
       "  </thead>\n",
       "  <tbody>\n",
       "    <tr>\n",
       "      <th>0</th>\n",
       "      <td>genome2</td>\n",
       "      <td>03db89c9-28e1-5ac9-8d6d-f889f561ed9f</td>\n",
       "      <td>2.037870e+05</td>\n",
       "      <td>Education</td>\n",
       "      <td>College/University</td>\n",
       "      <td>America/Los_Angeles</td>\n",
       "      <td>College Laboratory</td>\n",
       "    </tr>\n",
       "    <tr>\n",
       "      <th>1</th>\n",
       "      <td>genome2</td>\n",
       "      <td>1-canon-row</td>\n",
       "      <td>3.670490e+04</td>\n",
       "      <td>Government</td>\n",
       "      <td>Other Government Buildings</td>\n",
       "      <td>Europe/London</td>\n",
       "      <td>Office</td>\n",
       "    </tr>\n",
       "    <tr>\n",
       "      <th>2</th>\n",
       "      <td>genome2</td>\n",
       "      <td>1-parliament-street-1-derby-gate</td>\n",
       "      <td>2.429305e+05</td>\n",
       "      <td>Government</td>\n",
       "      <td>Other Government Buildings</td>\n",
       "      <td>Europe/London</td>\n",
       "      <td>Office</td>\n",
       "    </tr>\n",
       "    <tr>\n",
       "      <th>3</th>\n",
       "      <td>genome2</td>\n",
       "      <td>10</td>\n",
       "      <td>1.029798e+06</td>\n",
       "      <td>Commercial Property</td>\n",
       "      <td>Shopping Center/Shopping Mall</td>\n",
       "      <td>America/New_York</td>\n",
       "      <td>Retail</td>\n",
       "    </tr>\n",
       "    <tr>\n",
       "      <th>4</th>\n",
       "      <td>genome2</td>\n",
       "      <td>100</td>\n",
       "      <td>8.168100e+04</td>\n",
       "      <td>Education</td>\n",
       "      <td>Primary/Secondary School</td>\n",
       "      <td>America/New_York</td>\n",
       "      <td>Primary/Secondary Classroom</td>\n",
       "    </tr>\n",
       "  </tbody>\n",
       "</table>\n",
       "</div>"
      ],
      "text/plain": [
       "   Dataset                              Building          Sqft  \\\n",
       "0  genome2  03db89c9-28e1-5ac9-8d6d-f889f561ed9f  2.037870e+05   \n",
       "1  genome2                           1-canon-row  3.670490e+04   \n",
       "2  genome2      1-parliament-street-1-derby-gate  2.429305e+05   \n",
       "3  genome2                                    10  1.029798e+06   \n",
       "4  genome2                                   100  8.168100e+04   \n",
       "\n",
       "              Industry                    Subindustry             Timezone  \\\n",
       "0            Education             College/University  America/Los_Angeles   \n",
       "1           Government     Other Government Buildings        Europe/London   \n",
       "2           Government     Other Government Buildings        Europe/London   \n",
       "3  Commercial Property  Shopping Center/Shopping Mall     America/New_York   \n",
       "4            Education       Primary/Secondary School     America/New_York   \n",
       "\n",
       "                           PSU  \n",
       "0           College Laboratory  \n",
       "1                       Office  \n",
       "2                       Office  \n",
       "3                       Retail  \n",
       "4  Primary/Secondary Classroom  "
      ]
     },
     "execution_count": 55,
     "metadata": {},
     "output_type": "execute_result"
    }
   ],
   "source": [
    "results_df.head()"
   ]
  },
  {
   "cell_type": "code",
   "execution_count": 62,
   "metadata": {
    "collapsed": false,
    "scrolled": true
   },
   "outputs": [
    {
     "name": "stdout",
     "output_type": "stream",
     "text": [
      "Summary for Industry\n",
      "Residential             1894\n",
      "Education                907\n",
      "Government                87\n",
      "Light Industrial          25\n",
      "Commercial Property       25\n",
      "Food Sales & Storage      25\n",
      "Healthcare                 6\n",
      "Hospitality                2\n",
      "Public Assembly            1\n",
      "Name: Industry, dtype: int64\n",
      "Total: 2972\n",
      "\n",
      "Summary for Subindustry\n",
      "College/University                       801\n",
      "Primary/Secondary School                 115\n",
      "Public Assembly                           33\n",
      "Grocer/Market                             25\n",
      "City, County, State                       22\n",
      "Food Processing                           19\n",
      "Other Government Buildings                14\n",
      "Shopping Center/Shopping Mall             14\n",
      "Manufacturing                              5\n",
      "Library                                    5\n",
      "Hospital                                   5\n",
      "Commercial Real Estate                     4\n",
      "Business Services                          3\n",
      "Hotel                                      2\n",
      "Corporate Office                           2\n",
      "Bank/Financial Services                    2\n",
      "Water & Wastewater Treatment Facility      2\n",
      "Museum                                     1\n",
      "Laboratory                                 1\n",
      "Social Services                            1\n",
      "Animal Control                             1\n",
      "Other Light Industrial                     1\n",
      "Name: Subindustry, dtype: int64\n",
      "Total: 1078\n",
      "\n",
      "Summary for Timezone\n",
      "Europe/London          2075\n",
      "America/Chicago         353\n",
      "America/New_York        317\n",
      "America/Phoenix         149\n",
      "America/Los_Angeles      52\n",
      "Europe/Zurich            13\n",
      "America/Denver            7\n",
      "Asia/Singapore            6\n",
      "Name: Timezone, dtype: int64\n",
      "Total: 2972\n",
      "\n",
      "Summary for PSU\n",
      "Single_family_house            1894\n",
      "Office                          219\n",
      "College Classroom               192\n",
      "College Laboratory              135\n",
      "Primary/Secondary Classroom     115\n",
      "Dormitory                       114\n",
      "Library                          36\n",
      "Industrial                       27\n",
      "Gymnasium                        26\n",
      "Community Center                 26\n",
      "Food Sales                       25\n",
      "Sports Stadium                   15\n",
      "Student Union                    15\n",
      "Retail                           15\n",
      "Museum                           14\n",
      "Fitness Center                   13\n",
      "Hospital                          8\n",
      "Theater                           8\n",
      "Greenhouse                        8\n",
      "Parking: Enclosed Garage          4\n",
      "Conference Center                 4\n",
      "Warehouse                         4\n",
      "Parking: Open Air Ramp            4\n",
      "Swimming Pool                     3\n",
      "Animal Shelter                    3\n",
      "Religious building                3\n",
      "Parking Garage                    3\n",
      "Athletic Field                    3\n",
      "Auditorium                        3\n",
      "Hotel                             3\n",
      "Services Plant                    3\n",
      "Maintenance Repair Shop           3\n",
      "Chapel                            2\n",
      "Ice Arena                         2\n",
      "Restaurant                        2\n",
      "Warehouse (Unconditioned)         2\n",
      "Central Plant                     1\n",
      "Animal Kennels                    1\n",
      "Police Station                    1\n",
      "Data Center                       1\n",
      "Post Office                       1\n",
      "Planetarium                       1\n",
      "Market                            1\n",
      "Bar/Tavern                        1\n",
      "Laboratory                        1\n",
      "Ice arena                         1\n",
      "Park                              1\n",
      "Warehouse (Conditioned)           1\n",
      "Creamatorium                      1\n",
      "Campsites                         1\n",
      "Health Services                   1\n",
      "Gynasium                          1\n",
      "Name: PSU, dtype: int64\n",
      "Total: 2972\n",
      "\n"
     ]
    }
   ],
   "source": [
    "for field in fields_to_check[1:]:\n",
    "    print('Summary for %s' % field)\n",
    "    sliced_df = results_df.loc[~pd.isnull(results_df[field]), field]\n",
    "    print(sliced_df.value_counts())\n",
    "    print('Total: %d' % sliced_df.shape[0])\n",
    "    print()"
   ]
  },
  {
   "cell_type": "code",
   "execution_count": 64,
   "metadata": {
    "collapsed": false
   },
   "outputs": [
    {
     "name": "stdout",
     "output_type": "stream",
     "text": [
      "The number of profiles for the buildings we are using is 39334029\n"
     ]
    }
   ],
   "source": [
    "datasets_names = ['genome2', 'utexas', 'ireland', 'MIT', 'pecan']\n",
    "fields_to_check = ['Sqft', 'Industry', 'Subindustry', 'Timezone', 'PSU']\n",
    "\n",
    "def check_field(buildings_data, dset_name, building, field, skip=None):\n",
    "    if field == skip:\n",
    "        if field not in buildings_data[dset_name][building].attrs:\n",
    "            return (True, None)\n",
    "        return (True, buildings_data[dset_name][building].attrs[field])\n",
    "\n",
    "    if field not in buildings_data[dset_name][building].attrs:\n",
    "        return (False, None)\n",
    "    if pd.isnull(buildings_data[dset_name][building].attrs[field]):\n",
    "        return (False, None)\n",
    "    return (True, buildings_data[dset_name][building].attrs[field])\n",
    "\n",
    "def count_profiles(buildings_data):\n",
    "    count = 0\n",
    "    for dset_name in datasets_names:\n",
    "        for building in buildings_data[dset_name]:\n",
    "            check = True\n",
    "            fields = []\n",
    "            for field in fields_to_check:\n",
    "                this_check, val = check_field(buildings_data, dset_name, building, field, skip='Subindustry')\n",
    "                check = check and this_check\n",
    "                fields.append(val)\n",
    "            if not check:\n",
    "                continue\n",
    "            for year in buildings_data[dset_name][building]:\n",
    "                count += buildings_data[dset_name][building][year].shape[0]\n",
    "    return count\n",
    "\n",
    "print('The number of profiles for the buildings we are using is %d' %apply_func(count_profiles))"
   ]
  },
  {
   "cell_type": "markdown",
   "metadata": {},
   "source": [
    "### Make 3D table"
   ]
  },
  {
   "cell_type": "code",
   "execution_count": 90,
   "metadata": {
    "collapsed": false
   },
   "outputs": [],
   "source": [
    "industry_filter = set([\n",
    "    'Residential',\n",
    "    'Education',\n",
    "    'Government',\n",
    "])\n",
    "\n",
    "psu_filter = set([\n",
    "    'Single_family_house',\n",
    "    'Office',\n",
    "    'College Classroom',              \n",
    "    'College Laboratory',\n",
    "    'Primary/Secondary Classroom',\n",
    "    'Dormitory',\n",
    "    'Library',\n",
    "    'Industrial',\n",
    "    'Gymnasium',\n",
    "    'Community Center',\n",
    "    'Food Sales',\n",
    "    'Sports Stadium',\n",
    "    'Student Union',\n",
    "    'Retail',\n",
    "    'Museum',\n",
    "    'Fitness Center'\n",
    "])\n",
    "\n",
    "def get_industry(industry):\n",
    "    return industry if industry in industry_filter else 'Others'\n",
    "\n",
    "def get_psu(psu):\n",
    "    return psu if psu in psu_filter else 'Others'\n",
    "\n",
    "def inc_count(dic, values):\n",
    "    for value in values[:-1]:\n",
    "        if value not in dic:\n",
    "            dic[value] = {}\n",
    "        dic = dic[value]\n",
    "    if values[-1] not in dic:\n",
    "        dic[values[-1]] = 0\n",
    "    dic[values[-1]] += 1"
   ]
  },
  {
   "cell_type": "code",
   "execution_count": 91,
   "metadata": {
    "collapsed": false
   },
   "outputs": [],
   "source": [
    "datasets_names = ['genome2', 'utexas', 'ireland', 'MIT', 'pecan']\n",
    "fields_to_check = ['Sqft', 'Subindustry', 'Timezone', 'Climatezone', 'Industry', 'PSU']\n",
    "\n",
    "def check_field(buildings_data, dset_name, building, field, skip=None):\n",
    "    if field == skip:\n",
    "        if field not in buildings_data[dset_name][building].attrs:\n",
    "            return (True, None)\n",
    "        return (True, buildings_data[dset_name][building].attrs[field])\n",
    "\n",
    "    if field not in buildings_data[dset_name][building].attrs:\n",
    "        return (False, None)\n",
    "    if pd.isnull(buildings_data[dset_name][building].attrs[field]):\n",
    "        return (False, None)\n",
    "    return (True, buildings_data[dset_name][building].attrs[field])\n",
    "\n",
    "def get_three_dim_dict(buildings_data):\n",
    "    results = {}\n",
    "    for dset_name in datasets_names:\n",
    "        for building in buildings_data[dset_name]:\n",
    "            check = True\n",
    "            fields = []\n",
    "            for field in fields_to_check:\n",
    "                this_check, val = check_field(buildings_data, dset_name, building, field, skip='Subindustry')\n",
    "                check = check and this_check\n",
    "                fields.append(val)\n",
    "            if not check:\n",
    "                continue\n",
    "            inc_count(results, [fields[-3], get_industry(fields[-2]), get_psu(fields[-1])])\n",
    "    return results\n",
    "\n",
    "three_dim_dict = apply_func(get_three_dim_dict)"
   ]
  },
  {
   "cell_type": "code",
   "execution_count": 101,
   "metadata": {
    "collapsed": false
   },
   "outputs": [],
   "source": [
    "Climatezones = [\n",
    "    '1',\n",
    "    '2',\n",
    "    '3',\n",
    "    '4',\n",
    "    '5'\n",
    "]\n",
    "\n",
    "Industries = [\n",
    "    'Residential',\n",
    "    'Education',\n",
    "    'Government',\n",
    "    'Others'\n",
    "]\n",
    "\n",
    "PSUs = [\n",
    "    'Single_family_house',\n",
    "    'Office',\n",
    "    'College Classroom',              \n",
    "    'College Laboratory',\n",
    "    'Primary/Secondary Classroom',\n",
    "    'Dormitory',\n",
    "    'Library',\n",
    "    'Industrial',\n",
    "    'Gymnasium',\n",
    "    'Community Center',\n",
    "    'Food Sales',\n",
    "    'Sports Stadium',\n",
    "    'Student Union',\n",
    "    'Retail',\n",
    "    'Museum',\n",
    "    'Fitness Center',\n",
    "    'Others'\n",
    "]\n",
    "\n",
    "# def generate_tuple(dic):\n",
    "#     return tuple([dic[psu] if psu in dic else 0 for psu in PSUs])"
   ]
  },
  {
   "cell_type": "code",
   "execution_count": 105,
   "metadata": {
    "collapsed": false
   },
   "outputs": [],
   "source": [
    "three_dim_mat = np.zeros((len(Climatezones), len(Industries), len(PSUs)))\n",
    "\n",
    "for i in range(len(Climatezones)):\n",
    "    for j in range(len(Industries)):\n",
    "        for k in range(len(PSUs)):\n",
    "            if Climatezones[i] in three_dim_dict and Industries[j] in three_dim_dict[Climatezones[i]] and PSUs[k] in three_dim_dict[Climatezones[i]][Industries[j]]:\n",
    "                three_dim_mat[i][j][k] = three_dim_dict[Climatezones[i]][Industries[j]][PSUs[k]]"
   ]
  },
  {
   "cell_type": "code",
   "execution_count": 116,
   "metadata": {
    "collapsed": false
   },
   "outputs": [],
   "source": [
    "np.save('./pies/three_dim_pie.npy', three_dim_mat)\n",
    "# np.load('three_dim_pie.npy')"
   ]
  },
  {
   "cell_type": "code",
   "execution_count": 92,
   "metadata": {
    "collapsed": false
   },
   "outputs": [
    {
     "data": {
      "text/plain": [
       "{'1': {'Education': {'Dormitory': 1,\n",
       "   'Others': 1,\n",
       "   'Primary/Secondary Classroom': 4}},\n",
       " '2': {'Education': {'College Classroom': 69,\n",
       "   'College Laboratory': 47,\n",
       "   'Dormitory': 31,\n",
       "   'Fitness Center': 10,\n",
       "   'Gymnasium': 1,\n",
       "   'Library': 8,\n",
       "   'Museum': 8,\n",
       "   'Office': 38,\n",
       "   'Others': 27,\n",
       "   'Primary/Secondary Classroom': 2,\n",
       "   'Retail': 1,\n",
       "   'Sports Stadium': 11,\n",
       "   'Student Union': 6},\n",
       "  'Others': {'Industrial': 1},\n",
       "  'Residential': {'Single_family_house': 113}},\n",
       " '3': {'Education': {'College Classroom': 4,\n",
       "   'College Laboratory': 6,\n",
       "   'Gymnasium': 2,\n",
       "   'Library': 4,\n",
       "   'Museum': 1,\n",
       "   'Office': 9,\n",
       "   'Others': 1,\n",
       "   'Student Union': 1},\n",
       "  'Others': {'Food Sales': 17, 'Industrial': 3, 'Office': 4}},\n",
       " '4': {'Education': {'College Classroom': 51,\n",
       "   'College Laboratory': 59,\n",
       "   'Community Center': 2,\n",
       "   'Dormitory': 60,\n",
       "   'Fitness Center': 3,\n",
       "   'Gymnasium': 11,\n",
       "   'Library': 14,\n",
       "   'Museum': 2,\n",
       "   'Office': 71,\n",
       "   'Others': 19,\n",
       "   'Primary/Secondary Classroom': 90,\n",
       "   'Sports Stadium': 2,\n",
       "   'Student Union': 6},\n",
       "  'Government': {'Community Center': 22,\n",
       "   'Dormitory': 1,\n",
       "   'Gymnasium': 2,\n",
       "   'Industrial': 2,\n",
       "   'Library': 6,\n",
       "   'Museum': 1,\n",
       "   'Office': 33,\n",
       "   'Others': 9,\n",
       "   'Primary/Secondary Classroom': 9,\n",
       "   'Sports Stadium': 2},\n",
       "  'Others': {'Food Sales': 8,\n",
       "   'Industrial': 14,\n",
       "   'Museum': 1,\n",
       "   'Office': 7,\n",
       "   'Others': 8,\n",
       "   'Retail': 9},\n",
       "  'Residential': {'Single_family_house': 1781}},\n",
       " '5': {'Education': {'College Classroom': 68,\n",
       "   'College Laboratory': 23,\n",
       "   'Community Center': 2,\n",
       "   'Dormitory': 21,\n",
       "   'Gymnasium': 10,\n",
       "   'Library': 4,\n",
       "   'Museum': 1,\n",
       "   'Office': 57,\n",
       "   'Others': 26,\n",
       "   'Primary/Secondary Classroom': 10,\n",
       "   'Student Union': 2},\n",
       "  'Others': {'Industrial': 7, 'Retail': 5}}}"
      ]
     },
     "execution_count": 92,
     "metadata": {},
     "output_type": "execute_result"
    }
   ],
   "source": [
    "three_dim_dict"
   ]
  }
 ],
 "metadata": {
  "anaconda-cloud": {},
  "kernelspec": {
   "display_name": "Python [Root]",
   "language": "python",
   "name": "Python [Root]"
  },
  "language_info": {
   "codemirror_mode": {
    "name": "ipython",
    "version": 3
   },
   "file_extension": ".py",
   "mimetype": "text/x-python",
   "name": "python",
   "nbconvert_exporter": "python",
   "pygments_lexer": "ipython3",
   "version": "3.5.2"
  }
 },
 "nbformat": 4,
 "nbformat_minor": 2
}
