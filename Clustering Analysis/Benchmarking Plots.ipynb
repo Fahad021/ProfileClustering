{
 "cells": [
  {
   "cell_type": "code",
   "execution_count": 4,
   "metadata": {
    "collapsed": true
   },
   "outputs": [],
   "source": [
    "# Built-in libraries\n",
    "import os\n",
    "import re\n",
    "import time\n",
    "from datetime import datetime\n",
    "import pytz\n",
    "from itertools import compress\n",
    "from math import log\n",
    "from math import log2\n",
    "import random\n",
    "\n",
    "# NumPy, SciPy and Pandas\n",
    "import numpy as np\n",
    "from scipy.stats import gaussian_kde\n",
    "from scipy.stats import iqr\n",
    "import pandas as pd\n",
    "\n",
    "# Scikit-Learn\n",
    "from sklearn.cluster import KMeans\n",
    "from sklearn.cluster import DBSCAN\n",
    "from sklearn.cluster import AgglomerativeClustering\n",
    "from sklearn.mixture import GaussianMixture\n",
    "from sklearn import metrics\n",
    "from sklearn.metrics import silhouette_score, silhouette_samples\n",
    "from sklearn.preprocessing import StandardScaler\n",
    "from sklearn.preprocessing import LabelEncoder\n",
    "from scipy.spatial.distance import sqeuclidean\n",
    "from sklearn.neighbors import NearestNeighbors\n",
    "\n",
    "# Matplotlib\n",
    "import matplotlib.pyplot as plt\n",
    "import matplotlib.cm as cm\n",
    "import matplotlib.lines as mlines\n",
    "import matplotlib.patches as mpatches\n",
    "%matplotlib inline\n",
    "\n",
    "# JoyPy\n",
    "import joypy\n",
    "\n",
    "# Workalendar\n",
    "from workalendar.europe import Switzerland\n",
    "from workalendar.europe import UnitedKingdom\n",
    "from workalendar.usa import Colorado\n",
    "from workalendar.usa import NewYork\n",
    "from workalendar.usa import California\n",
    "from workalendar.usa import Arizona\n",
    "from workalendar.usa import Illinois\n",
    "from workalendar.asia import Singapore\n",
    "from workalendar.oceania import WesternAustralia"
   ]
  },
  {
   "cell_type": "code",
   "execution_count": 5,
   "metadata": {
    "collapsed": false
   },
   "outputs": [
    {
     "name": "stderr",
     "output_type": "stream",
     "text": [
      "/Users/yangxiya/anaconda3/lib/python3.5/site-packages/IPython/core/interactiveshell.py:2723: DtypeWarning: Columns (1,31) have mixed types. Specify dtype option on import or set low_memory=False.\n",
      "  interactivity=interactivity, compiler=compiler, result=result)\n"
     ]
    }
   ],
   "source": [
    "combined_profiles = pd.read_csv('final_profiles.csv')"
   ]
  },
  {
   "cell_type": "markdown",
   "metadata": {},
   "source": [
    "### Generate building"
   ]
  },
  {
   "cell_type": "code",
   "execution_count": 7,
   "metadata": {
    "collapsed": true
   },
   "outputs": [],
   "source": [
    "def get_proportions(pd_labels):\n",
    "    result = {}\n",
    "    vals = pd_labels.value_counts()\n",
    "    total = pd_labels.shape[0]\n",
    "    for i in vals.index:\n",
    "        result[i] = (vals.loc[i]/total)\n",
    "    result['count'] = total\n",
    "    return result\n",
    "\n",
    "def get_list_of_proportions(profiles):\n",
    "    return profiles.groupby('Building')[['cluster']].transform(get_proportions)"
   ]
  },
  {
   "cell_type": "code",
   "execution_count": 106,
   "metadata": {
    "collapsed": true
   },
   "outputs": [],
   "source": [
    "def get_dominant_clusters(proportions_mat):\n",
    "    dominant_flag = np.max(proportions_mat, axis=1) > .5\n",
    "    dominant_clusters = np.argmax(proportions_mat, axis=1)\n",
    "    dominant_clusters[~dominant_flag] = -1\n",
    "    return dominant_clusters"
   ]
  },
  {
   "cell_type": "code",
   "execution_count": 107,
   "metadata": {
    "collapsed": true
   },
   "outputs": [],
   "source": [
    "def build_df(profiles, k, algo, labels_dir):\n",
    "    profiles['cluster'] = np.load('./%s/%s/params[k=%d].npy' % (labels_dir, algo, k))\n",
    "    profiles['proportions'] = get_list_of_proportions(profiles)\n",
    "    \n",
    "    final_buildings = profiles.drop_duplicates(['Dataset', 'Building'])[['Dataset', 'Building', 'proportions', 'Industry', 'PSU', 'Sqm', 'Subindustry', 'Timezone', 'EUI', 'Climatezone', 'EUI Binned', 'Sqm Binned']]\n",
    "    final_buildings.reset_index(drop=True, inplace=True)\n",
    "    \n",
    "    filtered_buildings = final_buildings.loc[final_buildings.proportions.map(lambda x: x['count']) >= 30, :]\n",
    "    filtered_buildings.reset_index(drop=True, inplace=True)\n",
    "    \n",
    "    cluster_labels = profiles.cluster.unique()\n",
    "    cluster_labels.sort()\n",
    "    \n",
    "    proportions_data = []\n",
    "\n",
    "    for dic in filtered_buildings.proportions.tolist():\n",
    "        proportions_data.append([])\n",
    "        for label in cluster_labels:\n",
    "            if label not in dic:\n",
    "                proportions_data[-1].append(0)\n",
    "            else:\n",
    "                proportions_data[-1].append(dic[label])\n",
    "\n",
    "    proportions_df = pd.DataFrame(proportions_data)\n",
    "    \n",
    "    buildings_df = filtered_buildings.drop('proportions', axis=1)\n",
    "    buildings_df['dominant_cluster'] = get_dominant_clusters(proportions_df.as_matrix())\n",
    "    return (buildings_df, proportions_df)"
   ]
  },
  {
   "cell_type": "code",
   "execution_count": 108,
   "metadata": {
    "collapsed": false
   },
   "outputs": [],
   "source": [
    "buildings, proportions = build_df(combined_profiles, 3, 'kmeans', 'final_labels')"
   ]
  },
  {
   "cell_type": "code",
   "execution_count": 112,
   "metadata": {
    "collapsed": false
   },
   "outputs": [
    {
     "data": {
      "text/html": [
       "<div>\n",
       "<style>\n",
       "    .dataframe thead tr:only-child th {\n",
       "        text-align: right;\n",
       "    }\n",
       "\n",
       "    .dataframe thead th {\n",
       "        text-align: left;\n",
       "    }\n",
       "\n",
       "    .dataframe tbody tr th {\n",
       "        vertical-align: top;\n",
       "    }\n",
       "</style>\n",
       "<table border=\"1\" class=\"dataframe\">\n",
       "  <thead>\n",
       "    <tr style=\"text-align: right;\">\n",
       "      <th></th>\n",
       "      <th>Dataset</th>\n",
       "      <th>Building</th>\n",
       "      <th>Industry</th>\n",
       "      <th>PSU</th>\n",
       "      <th>Sqm</th>\n",
       "      <th>Subindustry</th>\n",
       "      <th>Timezone</th>\n",
       "      <th>EUI</th>\n",
       "      <th>Climatezone</th>\n",
       "      <th>EUI Binned</th>\n",
       "      <th>Sqm Binned</th>\n",
       "      <th>dominant_cluster</th>\n",
       "    </tr>\n",
       "  </thead>\n",
       "  <tbody>\n",
       "    <tr>\n",
       "      <th>0</th>\n",
       "      <td>pecan</td>\n",
       "      <td>3831</td>\n",
       "      <td>Residential</td>\n",
       "      <td>Single_family_house</td>\n",
       "      <td>105.909466</td>\n",
       "      <td>NaN</td>\n",
       "      <td>America/Chicago</td>\n",
       "      <td>45.627032</td>\n",
       "      <td>2</td>\n",
       "      <td>(0, 1186.001]</td>\n",
       "      <td>(0, 33585.359]</td>\n",
       "      <td>2</td>\n",
       "    </tr>\n",
       "    <tr>\n",
       "      <th>1</th>\n",
       "      <td>pecan</td>\n",
       "      <td>3938</td>\n",
       "      <td>Residential</td>\n",
       "      <td>Single_family_house</td>\n",
       "      <td>104.051405</td>\n",
       "      <td>NaN</td>\n",
       "      <td>America/Chicago</td>\n",
       "      <td>20.858344</td>\n",
       "      <td>2</td>\n",
       "      <td>(0, 1186.001]</td>\n",
       "      <td>(0, 33585.359]</td>\n",
       "      <td>2</td>\n",
       "    </tr>\n",
       "    <tr>\n",
       "      <th>2</th>\n",
       "      <td>pecan</td>\n",
       "      <td>5371</td>\n",
       "      <td>Residential</td>\n",
       "      <td>Single_family_house</td>\n",
       "      <td>87.050148</td>\n",
       "      <td>NaN</td>\n",
       "      <td>America/Chicago</td>\n",
       "      <td>91.462989</td>\n",
       "      <td>2</td>\n",
       "      <td>(0, 1186.001]</td>\n",
       "      <td>(0, 33585.359]</td>\n",
       "      <td>2</td>\n",
       "    </tr>\n",
       "    <tr>\n",
       "      <th>3</th>\n",
       "      <td>pecan</td>\n",
       "      <td>9775</td>\n",
       "      <td>Residential</td>\n",
       "      <td>Single_family_house</td>\n",
       "      <td>130.528771</td>\n",
       "      <td>NaN</td>\n",
       "      <td>America/Chicago</td>\n",
       "      <td>40.263767</td>\n",
       "      <td>2</td>\n",
       "      <td>(0, 1186.001]</td>\n",
       "      <td>(0, 33585.359]</td>\n",
       "      <td>2</td>\n",
       "    </tr>\n",
       "    <tr>\n",
       "      <th>4</th>\n",
       "      <td>pecan</td>\n",
       "      <td>5218</td>\n",
       "      <td>Residential</td>\n",
       "      <td>Single_family_house</td>\n",
       "      <td>193.145420</td>\n",
       "      <td>NaN</td>\n",
       "      <td>America/Chicago</td>\n",
       "      <td>35.506750</td>\n",
       "      <td>2</td>\n",
       "      <td>(0, 1186.001]</td>\n",
       "      <td>(0, 33585.359]</td>\n",
       "      <td>2</td>\n",
       "    </tr>\n",
       "  </tbody>\n",
       "</table>\n",
       "</div>"
      ],
      "text/plain": [
       "  Dataset Building     Industry                  PSU         Sqm Subindustry  \\\n",
       "0   pecan     3831  Residential  Single_family_house  105.909466         NaN   \n",
       "1   pecan     3938  Residential  Single_family_house  104.051405         NaN   \n",
       "2   pecan     5371  Residential  Single_family_house   87.050148         NaN   \n",
       "3   pecan     9775  Residential  Single_family_house  130.528771         NaN   \n",
       "4   pecan     5218  Residential  Single_family_house  193.145420         NaN   \n",
       "\n",
       "          Timezone        EUI  Climatezone     EUI Binned      Sqm Binned  \\\n",
       "0  America/Chicago  45.627032            2  (0, 1186.001]  (0, 33585.359]   \n",
       "1  America/Chicago  20.858344            2  (0, 1186.001]  (0, 33585.359]   \n",
       "2  America/Chicago  91.462989            2  (0, 1186.001]  (0, 33585.359]   \n",
       "3  America/Chicago  40.263767            2  (0, 1186.001]  (0, 33585.359]   \n",
       "4  America/Chicago  35.506750            2  (0, 1186.001]  (0, 33585.359]   \n",
       "\n",
       "   dominant_cluster  \n",
       "0                 2  \n",
       "1                 2  \n",
       "2                 2  \n",
       "3                 2  \n",
       "4                 2  "
      ]
     },
     "execution_count": 112,
     "metadata": {},
     "output_type": "execute_result"
    }
   ],
   "source": [
    "buildings.head()"
   ]
  },
  {
   "cell_type": "markdown",
   "metadata": {},
   "source": [
    "### Binning\n",
    "* Buildings with EUIs in the 1st, 2nd and 3rd percentiles make up 88% of all buildings\n",
    "* We only use these buildings for producing the benchmarking plots"
   ]
  },
  {
   "cell_type": "code",
   "execution_count": 113,
   "metadata": {
    "collapsed": true
   },
   "outputs": [],
   "source": [
    "def rebuild_intervals(series):\n",
    "    results = []\n",
    "    for interval in series:\n",
    "        results.append(pd.Interval(max(0, interval.left), interval.right))\n",
    "    return pd.Series(results)"
   ]
  },
  {
   "cell_type": "code",
   "execution_count": 114,
   "metadata": {
    "collapsed": true
   },
   "outputs": [],
   "source": [
    "buildings['EUI Binned'] = rebuild_intervals(pd.cut(buildings.EUI, 1000))"
   ]
  },
  {
   "cell_type": "code",
   "execution_count": 115,
   "metadata": {
    "collapsed": false
   },
   "outputs": [],
   "source": [
    "fourth_percentile = sorted(buildings['EUI Binned'].unique().tolist())[3]\n",
    "filter_values = [interval < fourth_percentile for interval in buildings['EUI Binned']]\n",
    "filtered_buildings = buildings.copy().loc[filter_values, :].drop('Sqm Binned', axis=1)"
   ]
  },
  {
   "cell_type": "code",
   "execution_count": 116,
   "metadata": {
    "collapsed": false
   },
   "outputs": [
    {
     "data": {
      "text/html": [
       "<div>\n",
       "<style>\n",
       "    .dataframe thead tr:only-child th {\n",
       "        text-align: right;\n",
       "    }\n",
       "\n",
       "    .dataframe thead th {\n",
       "        text-align: left;\n",
       "    }\n",
       "\n",
       "    .dataframe tbody tr th {\n",
       "        vertical-align: top;\n",
       "    }\n",
       "</style>\n",
       "<table border=\"1\" class=\"dataframe\">\n",
       "  <thead>\n",
       "    <tr style=\"text-align: right;\">\n",
       "      <th></th>\n",
       "      <th>Dataset</th>\n",
       "      <th>Building</th>\n",
       "      <th>Industry</th>\n",
       "      <th>PSU</th>\n",
       "      <th>Sqm</th>\n",
       "      <th>Subindustry</th>\n",
       "      <th>Timezone</th>\n",
       "      <th>EUI</th>\n",
       "      <th>Climatezone</th>\n",
       "      <th>EUI Binned</th>\n",
       "      <th>dominant_cluster</th>\n",
       "    </tr>\n",
       "  </thead>\n",
       "  <tbody>\n",
       "    <tr>\n",
       "      <th>78</th>\n",
       "      <td>pecan</td>\n",
       "      <td>8342</td>\n",
       "      <td>Residential</td>\n",
       "      <td>Single_family_house</td>\n",
       "      <td>126.812650</td>\n",
       "      <td>NaN</td>\n",
       "      <td>America/Chicago</td>\n",
       "      <td>16.421075</td>\n",
       "      <td>2</td>\n",
       "      <td>(13.044, 18.968]</td>\n",
       "      <td>2</td>\n",
       "    </tr>\n",
       "    <tr>\n",
       "      <th>85</th>\n",
       "      <td>pecan</td>\n",
       "      <td>5909</td>\n",
       "      <td>Residential</td>\n",
       "      <td>Single_family_house</td>\n",
       "      <td>66.890189</td>\n",
       "      <td>NaN</td>\n",
       "      <td>America/Chicago</td>\n",
       "      <td>14.712612</td>\n",
       "      <td>2</td>\n",
       "      <td>(13.044, 18.968]</td>\n",
       "      <td>-1</td>\n",
       "    </tr>\n",
       "    <tr>\n",
       "      <th>237</th>\n",
       "      <td>MIT</td>\n",
       "      <td>M26C</td>\n",
       "      <td>Education</td>\n",
       "      <td>College Laboratory</td>\n",
       "      <td>12400.697779</td>\n",
       "      <td>College/University</td>\n",
       "      <td>America/New_York</td>\n",
       "      <td>2.920461</td>\n",
       "      <td>5</td>\n",
       "      <td>(0, 7.12]</td>\n",
       "      <td>-1</td>\n",
       "    </tr>\n",
       "    <tr>\n",
       "      <th>247</th>\n",
       "      <td>MIT</td>\n",
       "      <td>M13D</td>\n",
       "      <td>Education</td>\n",
       "      <td>College Classroom</td>\n",
       "      <td>17040.925918</td>\n",
       "      <td>College/University</td>\n",
       "      <td>America/New_York</td>\n",
       "      <td>7.368155</td>\n",
       "      <td>5</td>\n",
       "      <td>(7.12, 13.044]</td>\n",
       "      <td>1</td>\n",
       "    </tr>\n",
       "    <tr>\n",
       "      <th>249</th>\n",
       "      <td>MIT</td>\n",
       "      <td>M50A</td>\n",
       "      <td>Education</td>\n",
       "      <td>Others</td>\n",
       "      <td>6880.770755</td>\n",
       "      <td>College/University</td>\n",
       "      <td>America/New_York</td>\n",
       "      <td>6.879539</td>\n",
       "      <td>5</td>\n",
       "      <td>(0, 7.12]</td>\n",
       "      <td>1</td>\n",
       "    </tr>\n",
       "  </tbody>\n",
       "</table>\n",
       "</div>"
      ],
      "text/plain": [
       "    Dataset Building     Industry                  PSU           Sqm  \\\n",
       "78    pecan     8342  Residential  Single_family_house    126.812650   \n",
       "85    pecan     5909  Residential  Single_family_house     66.890189   \n",
       "237     MIT     M26C    Education   College Laboratory  12400.697779   \n",
       "247     MIT     M13D    Education    College Classroom  17040.925918   \n",
       "249     MIT     M50A    Education               Others   6880.770755   \n",
       "\n",
       "            Subindustry          Timezone        EUI  Climatezone  \\\n",
       "78                  NaN   America/Chicago  16.421075            2   \n",
       "85                  NaN   America/Chicago  14.712612            2   \n",
       "237  College/University  America/New_York   2.920461            5   \n",
       "247  College/University  America/New_York   7.368155            5   \n",
       "249  College/University  America/New_York   6.879539            5   \n",
       "\n",
       "           EUI Binned  dominant_cluster  \n",
       "78   (13.044, 18.968]                 2  \n",
       "85   (13.044, 18.968]                -1  \n",
       "237         (0, 7.12]                -1  \n",
       "247    (7.12, 13.044]                 1  \n",
       "249         (0, 7.12]                 1  "
      ]
     },
     "execution_count": 116,
     "metadata": {},
     "output_type": "execute_result"
    }
   ],
   "source": [
    "filtered_buildings.head()"
   ]
  },
  {
   "cell_type": "code",
   "execution_count": 117,
   "metadata": {
    "collapsed": false
   },
   "outputs": [],
   "source": [
    "buildings_sample = filtered_buildings.sample(100, random_state=42)"
   ]
  },
  {
   "cell_type": "code",
   "execution_count": 118,
   "metadata": {
    "collapsed": false
   },
   "outputs": [
    {
     "data": {
      "text/html": [
       "<div>\n",
       "<style>\n",
       "    .dataframe thead tr:only-child th {\n",
       "        text-align: right;\n",
       "    }\n",
       "\n",
       "    .dataframe thead th {\n",
       "        text-align: left;\n",
       "    }\n",
       "\n",
       "    .dataframe tbody tr th {\n",
       "        vertical-align: top;\n",
       "    }\n",
       "</style>\n",
       "<table border=\"1\" class=\"dataframe\">\n",
       "  <thead>\n",
       "    <tr style=\"text-align: right;\">\n",
       "      <th></th>\n",
       "      <th>Dataset</th>\n",
       "      <th>Building</th>\n",
       "      <th>Industry</th>\n",
       "      <th>PSU</th>\n",
       "      <th>Sqm</th>\n",
       "      <th>Subindustry</th>\n",
       "      <th>Timezone</th>\n",
       "      <th>EUI</th>\n",
       "      <th>Climatezone</th>\n",
       "      <th>EUI Binned</th>\n",
       "      <th>dominant_cluster</th>\n",
       "    </tr>\n",
       "  </thead>\n",
       "  <tbody>\n",
       "    <tr>\n",
       "      <th>697</th>\n",
       "      <td>ireland</td>\n",
       "      <td>3382</td>\n",
       "      <td>Residential</td>\n",
       "      <td>Single_family_house</td>\n",
       "      <td>139.354560</td>\n",
       "      <td>NaN</td>\n",
       "      <td>Europe/London</td>\n",
       "      <td>18.738389</td>\n",
       "      <td>4</td>\n",
       "      <td>(13.044, 18.968]</td>\n",
       "      <td>2</td>\n",
       "    </tr>\n",
       "    <tr>\n",
       "      <th>1891</th>\n",
       "      <td>ireland</td>\n",
       "      <td>6499</td>\n",
       "      <td>Residential</td>\n",
       "      <td>Single_family_house</td>\n",
       "      <td>102.193344</td>\n",
       "      <td>NaN</td>\n",
       "      <td>Europe/London</td>\n",
       "      <td>18.040705</td>\n",
       "      <td>4</td>\n",
       "      <td>(13.044, 18.968]</td>\n",
       "      <td>2</td>\n",
       "    </tr>\n",
       "    <tr>\n",
       "      <th>1387</th>\n",
       "      <td>ireland</td>\n",
       "      <td>6750</td>\n",
       "      <td>Residential</td>\n",
       "      <td>Single_family_house</td>\n",
       "      <td>102.193344</td>\n",
       "      <td>NaN</td>\n",
       "      <td>Europe/London</td>\n",
       "      <td>7.225911</td>\n",
       "      <td>4</td>\n",
       "      <td>(7.12, 13.044]</td>\n",
       "      <td>2</td>\n",
       "    </tr>\n",
       "    <tr>\n",
       "      <th>2133</th>\n",
       "      <td>genome</td>\n",
       "      <td>PrimClass_Eoghan</td>\n",
       "      <td>Education</td>\n",
       "      <td>Primary/Secondary Classroom</td>\n",
       "      <td>29301.990428</td>\n",
       "      <td>Primary/Secondary School</td>\n",
       "      <td>America/New_York</td>\n",
       "      <td>4.409430</td>\n",
       "      <td>4</td>\n",
       "      <td>(0, 7.12]</td>\n",
       "      <td>0</td>\n",
       "    </tr>\n",
       "    <tr>\n",
       "      <th>2990</th>\n",
       "      <td>genome2</td>\n",
       "      <td>RisleyHall.Elec.PowerScout3.kWsystem</td>\n",
       "      <td>Education</td>\n",
       "      <td>Dormitory</td>\n",
       "      <td>8949.907261</td>\n",
       "      <td>College/University</td>\n",
       "      <td>America/New_York</td>\n",
       "      <td>18.887863</td>\n",
       "      <td>4</td>\n",
       "      <td>(13.044, 18.968]</td>\n",
       "      <td>0</td>\n",
       "    </tr>\n",
       "  </tbody>\n",
       "</table>\n",
       "</div>"
      ],
      "text/plain": [
       "      Dataset                              Building     Industry  \\\n",
       "697   ireland                                  3382  Residential   \n",
       "1891  ireland                                  6499  Residential   \n",
       "1387  ireland                                  6750  Residential   \n",
       "2133   genome                      PrimClass_Eoghan    Education   \n",
       "2990  genome2  RisleyHall.Elec.PowerScout3.kWsystem    Education   \n",
       "\n",
       "                              PSU           Sqm               Subindustry  \\\n",
       "697           Single_family_house    139.354560                       NaN   \n",
       "1891          Single_family_house    102.193344                       NaN   \n",
       "1387          Single_family_house    102.193344                       NaN   \n",
       "2133  Primary/Secondary Classroom  29301.990428  Primary/Secondary School   \n",
       "2990                    Dormitory   8949.907261        College/University   \n",
       "\n",
       "              Timezone        EUI  Climatezone        EUI Binned  \\\n",
       "697      Europe/London  18.738389            4  (13.044, 18.968]   \n",
       "1891     Europe/London  18.040705            4  (13.044, 18.968]   \n",
       "1387     Europe/London   7.225911            4    (7.12, 13.044]   \n",
       "2133  America/New_York   4.409430            4         (0, 7.12]   \n",
       "2990  America/New_York  18.887863            4  (13.044, 18.968]   \n",
       "\n",
       "      dominant_cluster  \n",
       "697                  2  \n",
       "1891                 2  \n",
       "1387                 2  \n",
       "2133                 0  \n",
       "2990                 0  "
      ]
     },
     "execution_count": 118,
     "metadata": {},
     "output_type": "execute_result"
    }
   ],
   "source": [
    "buildings_sample.head()"
   ]
  },
  {
   "cell_type": "code",
   "execution_count": 119,
   "metadata": {
    "collapsed": false
   },
   "outputs": [
    {
     "data": {
      "text/plain": [
       "(0.0, 7.12]         45\n",
       "(7.12, 13.044]      32\n",
       "(13.044, 18.968]    23\n",
       "Name: EUI Binned, dtype: int64"
      ]
     },
     "execution_count": 119,
     "metadata": {},
     "output_type": "execute_result"
    }
   ],
   "source": [
    "buildings_sample['EUI Binned'].value_counts()"
   ]
  },
  {
   "cell_type": "code",
   "execution_count": 120,
   "metadata": {
    "collapsed": false
   },
   "outputs": [
    {
     "data": {
      "text/plain": [
       "ireland       49\n",
       "genome2       30\n",
       "genome        14\n",
       "washington     6\n",
       "MIT            1\n",
       "Name: Dataset, dtype: int64"
      ]
     },
     "execution_count": 120,
     "metadata": {},
     "output_type": "execute_result"
    }
   ],
   "source": [
    "buildings_sample['Dataset'].value_counts()"
   ]
  },
  {
   "cell_type": "code",
   "execution_count": 121,
   "metadata": {
    "collapsed": false
   },
   "outputs": [
    {
     "data": {
      "text/plain": [
       "Single_family_house            49\n",
       "Primary/Secondary Classroom    22\n",
       "Office                         10\n",
       "Others                          8\n",
       "Retail                          5\n",
       "Gymnasium                       2\n",
       "Industrial                      1\n",
       "Dormitory                       1\n",
       "College Laboratory              1\n",
       "College Classroom               1\n",
       "Name: PSU, dtype: int64"
      ]
     },
     "execution_count": 121,
     "metadata": {},
     "output_type": "execute_result"
    }
   ],
   "source": [
    "buildings_sample['PSU'].value_counts()"
   ]
  },
  {
   "cell_type": "markdown",
   "metadata": {},
   "source": [
    "### Rename PSUs with only 1 building to Others"
   ]
  },
  {
   "cell_type": "code",
   "execution_count": 122,
   "metadata": {
    "collapsed": false,
    "scrolled": true
   },
   "outputs": [],
   "source": [
    "psu_counts = buildings_sample['PSU'].value_counts()\n",
    "conversion_set = psu_counts.index[psu_counts == 1]\n",
    "conversion_flags = buildings_sample['PSU'].isin(conversion_set).tolist()\n",
    "new_PSUs = ['Others' if conversion_flags[i] else buildings_sample['PSU'].iloc[i] for i in range(buildings_sample.shape[0])]\n",
    "buildings_sample['PSU'] = new_PSUs"
   ]
  },
  {
   "cell_type": "code",
   "execution_count": 123,
   "metadata": {
    "collapsed": false
   },
   "outputs": [
    {
     "name": "stderr",
     "output_type": "stream",
     "text": [
      "/Users/yangxiya/anaconda3/lib/python3.5/site-packages/numpy/core/fromnumeric.py:52: FutureWarning: reshape is deprecated and will raise in a subsequent release. Please use .values.reshape(...) instead\n",
      "  return getattr(obj, method)(*args, **kwds)\n"
     ]
    },
    {
     "data": {
      "image/png": "[encoded data removed]",
      "text/plain": [
       "<matplotlib.figure.Figure at 0x10ef042b0>"
      ]
     },
     "metadata": {},
     "output_type": "display_data"
    }
   ],
   "source": [
    "buildings_sample.boxplot('EUI', 'PSU', figsize=(16,8))\n",
    "plt.title('')\n",
    "plt.ylabel('EUI')\n",
    "plt.show()\n",
    "plt.close()"
   ]
  },
  {
   "cell_type": "code",
   "execution_count": 124,
   "metadata": {
    "collapsed": false
   },
   "outputs": [
    {
     "name": "stderr",
     "output_type": "stream",
     "text": [
      "/Users/yangxiya/anaconda3/lib/python3.5/site-packages/numpy/core/fromnumeric.py:52: FutureWarning: reshape is deprecated and will raise in a subsequent release. Please use .values.reshape(...) instead\n",
      "  return getattr(obj, method)(*args, **kwds)\n"
     ]
    },
    {
     "data": {
      "image/png": "[encoded data removed]",
      "text/plain": [
       "<matplotlib.figure.Figure at 0x10d4405c0>"
      ]
     },
     "metadata": {},
     "output_type": "display_data"
    }
   ],
   "source": [
    "buildings_sample.boxplot('EUI', 'dominant_cluster', figsize=(16,8))\n",
    "plt.title('')\n",
    "plt.ylabel('EUI')\n",
    "plt.show()\n",
    "plt.close()"
   ]
  },
  {
   "cell_type": "markdown",
   "metadata": {},
   "source": [
    "### Load-shape-based Bechmarking"
   ]
  },
  {
   "cell_type": "code",
   "execution_count": 225,
   "metadata": {
    "collapsed": true
   },
   "outputs": [],
   "source": [
    "def get_buildings_by_field(buildings, field, value):\n",
    "    return buildings.loc[buildings[field] == value, ['Dataset', 'Building']]"
   ]
  },
  {
   "cell_type": "code",
   "execution_count": 226,
   "metadata": {
    "collapsed": true
   },
   "outputs": [],
   "source": [
    "def get_profiles(profiles, buildings):\n",
    "    profiles_mat = profiles.as_matrix()\n",
    "    buildings_mat = buildings.as_matrix()\n",
    "\n",
    "    buildings_signatures = set([(row[0], row[1]) for row in buildings_mat])\n",
    "    profiles_flags = [(row[0], row[1]) in buildings_signatures for row in profiles_mat]\n",
    "\n",
    "    return profiles.loc[profiles_flags, :]"
   ]
  },
  {
   "cell_type": "code",
   "execution_count": 227,
   "metadata": {
    "collapsed": true
   },
   "outputs": [],
   "source": [
    "def get_quantile(profiles, quantile=0.5):\n",
    "    return profiles.iloc[:, 3:3+24].quantile(quantile)"
   ]
  },
  {
   "cell_type": "code",
   "execution_count": 234,
   "metadata": {
    "collapsed": false
   },
   "outputs": [],
   "source": [
    "def plot_profiles(middle, upper, lower, value, save_dir):\n",
    "    plt.figure(figsize=(16,8), dpi= 80, facecolor='w', edgecolor='k')\n",
    "    plt.plot(middle, c=(1,0,0), label='Average Profile (%s)' % value)\n",
    "    plt.plot(upper, '--', c=(0,0,0), label='75% Percentile')\n",
    "    plt.plot(lower, '--', c=(0,0,0), label='25% Percentile')\n",
    "    plt.xlabel('Time (h)')\n",
    "    plt.ylabel('Normalized Energy Readings')\n",
    "    plt.legend()\n",
    "    if type(value) is str:\n",
    "        plt.savefig(save_dir + '/Benchmarking Plot (%s)' % value, bbox_inches='tight')\n",
    "    else:\n",
    "        plt.savefig(save_dir + '/Benchmarking Plot (%d)' % value, bbox_inches='tight')\n",
    "    plt.close()"
   ]
  },
  {
   "cell_type": "markdown",
   "metadata": {},
   "source": [
    "* EUI Type"
   ]
  },
  {
   "cell_type": "code",
   "execution_count": 229,
   "metadata": {
    "collapsed": false
   },
   "outputs": [],
   "source": [
    "interval_dict = {}\n",
    "intervals = sorted(buildings_sample['EUI Binned'].unique())\n",
    "interval_dict[intervals[0]] = 'Low'\n",
    "interval_dict[intervals[1]] = 'Medium'\n",
    "interval_dict[intervals[2]] = 'High'"
   ]
  },
  {
   "cell_type": "code",
   "execution_count": 230,
   "metadata": {
    "collapsed": false
   },
   "outputs": [],
   "source": [
    "buildings_sample['EUI Type'] = [interval_dict[interval] for interval in buildings_sample['EUI Binned']]"
   ]
  },
  {
   "cell_type": "code",
   "execution_count": 239,
   "metadata": {
    "collapsed": false
   },
   "outputs": [],
   "source": [
    "buildings_sample['dominant_cluster + EUI Type'] = ['%s/%s' % (row['EUI Type'], row.dominant_cluster) for i, row in buildings_sample.iterrows()]"
   ]
  },
  {
   "cell_type": "code",
   "execution_count": null,
   "metadata": {
    "collapsed": false
   },
   "outputs": [],
   "source": [
    "plot_root = './benchmarking_plots'\n",
    "fields = ['dominant_cluster', 'EUI Type', 'dominant_cluster + EUI Type']\n",
    "for field in fields:\n",
    "    save_dir = '%s/%s' % (plot_root, field)\n",
    "    if not os.path.exists(save_dir):\n",
    "        os.makedirs(save_dir)\n",
    "    for value in sorted(buildings_sample[field].unique()):\n",
    "        profiles = get_profiles(combined_profiles, get_buildings_by_field(buildings_sample, field, value))\n",
    "        lower = get_quantile(profiles, quantile=0.25)\n",
    "        middle = get_quantile(profiles, quantile=0.5)\n",
    "        upper = get_quantile(profiles, quantile=0.75)\n",
    "        plot_profiles(middle, upper, lower, value, save_dir)"
   ]
  }
 ],
 "metadata": {
  "kernelspec": {
   "display_name": "Python [Root]",
   "language": "python",
   "name": "Python [Root]"
  },
  "language_info": {
   "codemirror_mode": {
    "name": "ipython",
    "version": 3
   },
   "file_extension": ".py",
   "mimetype": "text/x-python",
   "name": "python",
   "nbconvert_exporter": "python",
   "pygments_lexer": "ipython3",
   "version": "3.5.2"
  }
 },
 "nbformat": 4,
 "nbformat_minor": 2
}
