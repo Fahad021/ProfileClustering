{
 "cells": [
  {
   "cell_type": "code",
   "execution_count": 2,
   "metadata": {
    "collapsed": true
   },
   "outputs": [],
   "source": [
    "# Built-in libraries\n",
    "import os\n",
    "import re\n",
    "import time\n",
    "from datetime import datetime\n",
    "import pytz\n",
    "from itertools import compress\n",
    "from math import log\n",
    "from math import log2\n",
    "import random\n",
    "\n",
    "# NumPy, SciPy and Pandas\n",
    "import numpy as np\n",
    "from scipy.stats import gaussian_kde\n",
    "from scipy.stats import iqr\n",
    "import pandas as pd\n",
    "\n",
    "# Scikit-Learn\n",
    "from sklearn.cluster import KMeans\n",
    "from sklearn.cluster import DBSCAN\n",
    "from sklearn.cluster import AgglomerativeClustering\n",
    "from sklearn.mixture import GaussianMixture\n",
    "from sklearn import metrics\n",
    "from sklearn.metrics import silhouette_score, silhouette_samples\n",
    "from sklearn.metrics import calinski_harabaz_score\n",
    "from sklearn.preprocessing import StandardScaler\n",
    "from sklearn.preprocessing import LabelEncoder\n",
    "from scipy.spatial.distance import sqeuclidean\n",
    "from sklearn.neighbors import NearestNeighbors\n",
    "\n",
    "# Matplotlib\n",
    "import matplotlib.pyplot as plt\n",
    "import matplotlib.cm as cm\n",
    "import matplotlib.lines as mlines\n",
    "import matplotlib.patches as mpatches\n",
    "%matplotlib inline\n",
    "\n",
    "# JoyPy\n",
    "import joypy\n",
    "\n",
    "# Workalendar\n",
    "from workalendar.europe import Switzerland\n",
    "from workalendar.europe import UnitedKingdom\n",
    "from workalendar.usa import Colorado\n",
    "from workalendar.usa import NewYork\n",
    "from workalendar.usa import California\n",
    "from workalendar.usa import Arizona\n",
    "from workalendar.usa import Illinois\n",
    "from workalendar.asia import Singapore\n",
    "from workalendar.oceania import WesternAustralia"
   ]
  },
  {
   "cell_type": "code",
   "execution_count": 2,
   "metadata": {
    "collapsed": false
   },
   "outputs": [
    {
     "name": "stderr",
     "output_type": "stream",
     "text": [
      "/Users/yangxiya/anaconda3/lib/python3.5/site-packages/IPython/core/interactiveshell.py:2723: DtypeWarning: Columns (1,31) have mixed types. Specify dtype option on import or set low_memory=False.\n",
      "  interactivity=interactivity, compiler=compiler, result=result)\n"
     ]
    }
   ],
   "source": [
    "combined_profiles = pd.read_csv('final_profiles.csv')"
   ]
  },
  {
   "cell_type": "markdown",
   "metadata": {},
   "source": [
    "### Generate building"
   ]
  },
  {
   "cell_type": "code",
   "execution_count": 3,
   "metadata": {
    "collapsed": true
   },
   "outputs": [],
   "source": [
    "def get_proportions(pd_labels):\n",
    "    result = {}\n",
    "    vals = pd_labels.value_counts()\n",
    "    total = pd_labels.shape[0]\n",
    "    for i in vals.index:\n",
    "        result[i] = (vals.loc[i]/total)\n",
    "    result['count'] = total\n",
    "    return result\n",
    "\n",
    "def get_list_of_proportions(profiles):\n",
    "    return profiles.groupby('Building')[['cluster']].transform(get_proportions)"
   ]
  },
  {
   "cell_type": "code",
   "execution_count": 4,
   "metadata": {
    "collapsed": true
   },
   "outputs": [],
   "source": [
    "def get_dominant_clusters(proportions_mat):\n",
    "    dominant_flag = np.max(proportions_mat, axis=1) > .5\n",
    "    dominant_clusters = np.argmax(proportions_mat, axis=1)\n",
    "    dominant_clusters[~dominant_flag] = -1\n",
    "    return dominant_clusters"
   ]
  },
  {
   "cell_type": "code",
   "execution_count": 5,
   "metadata": {
    "collapsed": true
   },
   "outputs": [],
   "source": [
    "def build_df(profiles, k, algo, labels_dir):\n",
    "    profiles['cluster'] = np.load('./%s/%s/params[k=%d].npy' % (labels_dir, algo, k))\n",
    "    profiles['proportions'] = get_list_of_proportions(profiles)\n",
    "    \n",
    "    final_buildings = profiles.drop_duplicates(['Dataset', 'Building'])[['Dataset', 'Building', 'proportions', 'Industry', 'PSU', 'Sqm', 'Subindustry', 'Timezone', 'EUI', 'Climatezone', 'EUI Binned', 'Sqm Binned']]\n",
    "    final_buildings.reset_index(drop=True, inplace=True)\n",
    "    \n",
    "    filtered_buildings = final_buildings.loc[final_buildings.proportions.map(lambda x: x['count']) >= 30, :]\n",
    "    filtered_buildings.reset_index(drop=True, inplace=True)\n",
    "    \n",
    "    cluster_labels = profiles.cluster.unique()\n",
    "    cluster_labels.sort()\n",
    "    \n",
    "    proportions_data = []\n",
    "\n",
    "    for dic in filtered_buildings.proportions.tolist():\n",
    "        proportions_data.append([])\n",
    "        for label in cluster_labels:\n",
    "            if label not in dic:\n",
    "                proportions_data[-1].append(0)\n",
    "            else:\n",
    "                proportions_data[-1].append(dic[label])\n",
    "\n",
    "    proportions_df = pd.DataFrame(proportions_data)\n",
    "    \n",
    "    buildings_df = filtered_buildings.drop('proportions', axis=1)\n",
    "    buildings_df['dominant_cluster'] = get_dominant_clusters(proportions_df.as_matrix())\n",
    "    return (buildings_df, proportions_df)"
   ]
  },
  {
   "cell_type": "code",
   "execution_count": 6,
   "metadata": {
    "collapsed": false
   },
   "outputs": [],
   "source": [
    "buildings, proportions = build_df(combined_profiles, 3, 'kmeans', 'final_labels')"
   ]
  },
  {
   "cell_type": "markdown",
   "metadata": {},
   "source": [
    "### Binning\n",
    "* Buildings with EUIs in the 1st, 2nd and 3rd thousandth quantile make up 88% of all buildings\n",
    "* We only use these buildings for producing the benchmarking plots"
   ]
  },
  {
   "cell_type": "code",
   "execution_count": 305,
   "metadata": {
    "collapsed": true
   },
   "outputs": [],
   "source": [
    "# def rebuild_intervals(series):\n",
    "#     results = []\n",
    "#     for interval in series:\n",
    "#         results.append(pd.Interval(max(0, interval.left), interval.right))\n",
    "#     return pd.Series(results)"
   ]
  },
  {
   "cell_type": "code",
   "execution_count": 309,
   "metadata": {
    "collapsed": true
   },
   "outputs": [],
   "source": [
    "# buildings['EUI Binned'] = rebuild_intervals(pd.cut(buildings.EUI, 100))"
   ]
  },
  {
   "cell_type": "code",
   "execution_count": 290,
   "metadata": {
    "collapsed": false
   },
   "outputs": [],
   "source": [
    "# fourth_percentile = sorted(buildings['EUI Binned'].unique().tolist())[3]\n",
    "# filter_values = [interval < fourth_percentile for interval in buildings['EUI Binned']]\n",
    "# filtered_buildings = buildings.copy().loc[filter_values, :].drop('Sqm Binned', axis=1)"
   ]
  },
  {
   "cell_type": "code",
   "execution_count": 295,
   "metadata": {
    "collapsed": false
   },
   "outputs": [
    {
     "data": {
      "text/html": [
       "<div>\n",
       "<style>\n",
       "    .dataframe thead tr:only-child th {\n",
       "        text-align: right;\n",
       "    }\n",
       "\n",
       "    .dataframe thead th {\n",
       "        text-align: left;\n",
       "    }\n",
       "\n",
       "    .dataframe tbody tr th {\n",
       "        vertical-align: top;\n",
       "    }\n",
       "</style>\n",
       "<table border=\"1\" class=\"dataframe\">\n",
       "  <thead>\n",
       "    <tr style=\"text-align: right;\">\n",
       "      <th></th>\n",
       "      <th>Dataset</th>\n",
       "      <th>Building</th>\n",
       "      <th>Industry</th>\n",
       "      <th>PSU</th>\n",
       "      <th>Sqm</th>\n",
       "      <th>Subindustry</th>\n",
       "      <th>Timezone</th>\n",
       "      <th>EUI</th>\n",
       "      <th>Climatezone</th>\n",
       "      <th>EUI Binned</th>\n",
       "      <th>dominant_cluster</th>\n",
       "    </tr>\n",
       "  </thead>\n",
       "  <tbody>\n",
       "    <tr>\n",
       "      <th>0</th>\n",
       "      <td>pecan</td>\n",
       "      <td>3831</td>\n",
       "      <td>Residential</td>\n",
       "      <td>Single_family_house</td>\n",
       "      <td>105.909466</td>\n",
       "      <td>NaN</td>\n",
       "      <td>America/Chicago</td>\n",
       "      <td>45.627032</td>\n",
       "      <td>2</td>\n",
       "      <td>(0, 60.436]</td>\n",
       "      <td>2</td>\n",
       "    </tr>\n",
       "    <tr>\n",
       "      <th>1</th>\n",
       "      <td>pecan</td>\n",
       "      <td>3938</td>\n",
       "      <td>Residential</td>\n",
       "      <td>Single_family_house</td>\n",
       "      <td>104.051405</td>\n",
       "      <td>NaN</td>\n",
       "      <td>America/Chicago</td>\n",
       "      <td>20.858344</td>\n",
       "      <td>2</td>\n",
       "      <td>(0, 60.436]</td>\n",
       "      <td>2</td>\n",
       "    </tr>\n",
       "    <tr>\n",
       "      <th>2</th>\n",
       "      <td>pecan</td>\n",
       "      <td>5371</td>\n",
       "      <td>Residential</td>\n",
       "      <td>Single_family_house</td>\n",
       "      <td>87.050148</td>\n",
       "      <td>NaN</td>\n",
       "      <td>America/Chicago</td>\n",
       "      <td>91.462989</td>\n",
       "      <td>2</td>\n",
       "      <td>(60.436, 119.677]</td>\n",
       "      <td>2</td>\n",
       "    </tr>\n",
       "    <tr>\n",
       "      <th>3</th>\n",
       "      <td>pecan</td>\n",
       "      <td>9775</td>\n",
       "      <td>Residential</td>\n",
       "      <td>Single_family_house</td>\n",
       "      <td>130.528771</td>\n",
       "      <td>NaN</td>\n",
       "      <td>America/Chicago</td>\n",
       "      <td>40.263767</td>\n",
       "      <td>2</td>\n",
       "      <td>(0, 60.436]</td>\n",
       "      <td>2</td>\n",
       "    </tr>\n",
       "    <tr>\n",
       "      <th>4</th>\n",
       "      <td>pecan</td>\n",
       "      <td>5218</td>\n",
       "      <td>Residential</td>\n",
       "      <td>Single_family_house</td>\n",
       "      <td>193.145420</td>\n",
       "      <td>NaN</td>\n",
       "      <td>America/Chicago</td>\n",
       "      <td>35.506750</td>\n",
       "      <td>2</td>\n",
       "      <td>(0, 60.436]</td>\n",
       "      <td>2</td>\n",
       "    </tr>\n",
       "  </tbody>\n",
       "</table>\n",
       "</div>"
      ],
      "text/plain": [
       "  Dataset Building     Industry                  PSU         Sqm Subindustry  \\\n",
       "0   pecan     3831  Residential  Single_family_house  105.909466         NaN   \n",
       "1   pecan     3938  Residential  Single_family_house  104.051405         NaN   \n",
       "2   pecan     5371  Residential  Single_family_house   87.050148         NaN   \n",
       "3   pecan     9775  Residential  Single_family_house  130.528771         NaN   \n",
       "4   pecan     5218  Residential  Single_family_house  193.145420         NaN   \n",
       "\n",
       "          Timezone        EUI  Climatezone         EUI Binned  \\\n",
       "0  America/Chicago  45.627032            2        (0, 60.436]   \n",
       "1  America/Chicago  20.858344            2        (0, 60.436]   \n",
       "2  America/Chicago  91.462989            2  (60.436, 119.677]   \n",
       "3  America/Chicago  40.263767            2        (0, 60.436]   \n",
       "4  America/Chicago  35.506750            2        (0, 60.436]   \n",
       "\n",
       "   dominant_cluster  \n",
       "0                 2  \n",
       "1                 2  \n",
       "2                 2  \n",
       "3                 2  \n",
       "4                 2  "
      ]
     },
     "execution_count": 295,
     "metadata": {},
     "output_type": "execute_result"
    }
   ],
   "source": [
    "# filtered_buildings.head()"
   ]
  },
  {
   "cell_type": "markdown",
   "metadata": {},
   "source": [
    "* sample buildings without 'Others' and discard buildings PSUs containing only 1 building\n",
    "* obtain 100 buildings"
   ]
  },
  {
   "cell_type": "code",
   "execution_count": 7,
   "metadata": {
    "collapsed": false
   },
   "outputs": [],
   "source": [
    "# buildings_sample = buildings.sample(100, random_state=42)\n",
    "buildings_sample = buildings.loc[buildings.PSU != 'Others', :].sample(105, random_state=0)"
   ]
  },
  {
   "cell_type": "code",
   "execution_count": 8,
   "metadata": {
    "collapsed": false
   },
   "outputs": [],
   "source": [
    "psu_counts = buildings_sample['PSU'].value_counts()\n",
    "conversion_set = psu_counts.index[psu_counts == 1]\n",
    "discard_flags = buildings_sample['PSU'].isin(conversion_set)\n",
    "buildings_sample = buildings_sample.loc[~discard_flags, :]"
   ]
  },
  {
   "cell_type": "code",
   "execution_count": 9,
   "metadata": {
    "collapsed": false
   },
   "outputs": [
    {
     "data": {
      "text/plain": [
       "(100, 12)"
      ]
     },
     "execution_count": 9,
     "metadata": {},
     "output_type": "execute_result"
    }
   ],
   "source": [
    "buildings_sample.shape"
   ]
  },
  {
   "cell_type": "code",
   "execution_count": 10,
   "metadata": {
    "collapsed": false
   },
   "outputs": [
    {
     "data": {
      "text/html": [
       "<div>\n",
       "<style>\n",
       "    .dataframe thead tr:only-child th {\n",
       "        text-align: right;\n",
       "    }\n",
       "\n",
       "    .dataframe thead th {\n",
       "        text-align: left;\n",
       "    }\n",
       "\n",
       "    .dataframe tbody tr th {\n",
       "        vertical-align: top;\n",
       "    }\n",
       "</style>\n",
       "<table border=\"1\" class=\"dataframe\">\n",
       "  <thead>\n",
       "    <tr style=\"text-align: right;\">\n",
       "      <th></th>\n",
       "      <th>Dataset</th>\n",
       "      <th>Building</th>\n",
       "      <th>Industry</th>\n",
       "      <th>PSU</th>\n",
       "      <th>Sqm</th>\n",
       "      <th>Subindustry</th>\n",
       "      <th>Timezone</th>\n",
       "      <th>EUI</th>\n",
       "      <th>Climatezone</th>\n",
       "      <th>EUI Binned</th>\n",
       "      <th>Sqm Binned</th>\n",
       "      <th>dominant_cluster</th>\n",
       "    </tr>\n",
       "  </thead>\n",
       "  <tbody>\n",
       "    <tr>\n",
       "      <th>539</th>\n",
       "      <td>ireland</td>\n",
       "      <td>6848</td>\n",
       "      <td>Residential</td>\n",
       "      <td>Single_family_house</td>\n",
       "      <td>148.644864</td>\n",
       "      <td>NaN</td>\n",
       "      <td>Europe/London</td>\n",
       "      <td>86.378296</td>\n",
       "      <td>4</td>\n",
       "      <td>(75.0, 100.0]</td>\n",
       "      <td>(100.0, 200.0]</td>\n",
       "      <td>2</td>\n",
       "    </tr>\n",
       "    <tr>\n",
       "      <th>1467</th>\n",
       "      <td>ireland</td>\n",
       "      <td>5736</td>\n",
       "      <td>Residential</td>\n",
       "      <td>Single_family_house</td>\n",
       "      <td>120.773952</td>\n",
       "      <td>NaN</td>\n",
       "      <td>Europe/London</td>\n",
       "      <td>48.448526</td>\n",
       "      <td>4</td>\n",
       "      <td>(25.0, 50.0]</td>\n",
       "      <td>(100.0, 200.0]</td>\n",
       "      <td>2</td>\n",
       "    </tr>\n",
       "    <tr>\n",
       "      <th>2546</th>\n",
       "      <td>genome</td>\n",
       "      <td>UnivClass_Antoinette</td>\n",
       "      <td>Education</td>\n",
       "      <td>College Classroom</td>\n",
       "      <td>3174.589780</td>\n",
       "      <td>College/University</td>\n",
       "      <td>America/Phoenix</td>\n",
       "      <td>105.640154</td>\n",
       "      <td>2</td>\n",
       "      <td>(100.0, 125.0]</td>\n",
       "      <td>(500.0, 167889.636]</td>\n",
       "      <td>0</td>\n",
       "    </tr>\n",
       "    <tr>\n",
       "      <th>3683</th>\n",
       "      <td>genome2</td>\n",
       "      <td>howardian-community-education-centre</td>\n",
       "      <td>Government</td>\n",
       "      <td>Office</td>\n",
       "      <td>4858.995298</td>\n",
       "      <td>City, County, State</td>\n",
       "      <td>Europe/London</td>\n",
       "      <td>27.698138</td>\n",
       "      <td>4</td>\n",
       "      <td>(25.0, 50.0]</td>\n",
       "      <td>(500.0, 167889.636]</td>\n",
       "      <td>0</td>\n",
       "    </tr>\n",
       "    <tr>\n",
       "      <th>992</th>\n",
       "      <td>ireland</td>\n",
       "      <td>4645</td>\n",
       "      <td>Residential</td>\n",
       "      <td>Single_family_house</td>\n",
       "      <td>278.709120</td>\n",
       "      <td>NaN</td>\n",
       "      <td>Europe/London</td>\n",
       "      <td>41.086922</td>\n",
       "      <td>4</td>\n",
       "      <td>(25.0, 50.0]</td>\n",
       "      <td>(200.0, 300.0]</td>\n",
       "      <td>2</td>\n",
       "    </tr>\n",
       "  </tbody>\n",
       "</table>\n",
       "</div>"
      ],
      "text/plain": [
       "      Dataset                              Building     Industry  \\\n",
       "539   ireland                                  6848  Residential   \n",
       "1467  ireland                                  5736  Residential   \n",
       "2546   genome                  UnivClass_Antoinette    Education   \n",
       "3683  genome2  howardian-community-education-centre   Government   \n",
       "992   ireland                                  4645  Residential   \n",
       "\n",
       "                      PSU          Sqm          Subindustry         Timezone  \\\n",
       "539   Single_family_house   148.644864                  NaN    Europe/London   \n",
       "1467  Single_family_house   120.773952                  NaN    Europe/London   \n",
       "2546    College Classroom  3174.589780   College/University  America/Phoenix   \n",
       "3683               Office  4858.995298  City, County, State    Europe/London   \n",
       "992   Single_family_house   278.709120                  NaN    Europe/London   \n",
       "\n",
       "             EUI  Climatezone      EUI Binned           Sqm Binned  \\\n",
       "539    86.378296            4   (75.0, 100.0]       (100.0, 200.0]   \n",
       "1467   48.448526            4    (25.0, 50.0]       (100.0, 200.0]   \n",
       "2546  105.640154            2  (100.0, 125.0]  (500.0, 167889.636]   \n",
       "3683   27.698138            4    (25.0, 50.0]  (500.0, 167889.636]   \n",
       "992    41.086922            4    (25.0, 50.0]       (200.0, 300.0]   \n",
       "\n",
       "      dominant_cluster  \n",
       "539                  2  \n",
       "1467                 2  \n",
       "2546                 0  \n",
       "3683                 0  \n",
       "992                  2  "
      ]
     },
     "execution_count": 10,
     "metadata": {},
     "output_type": "execute_result"
    }
   ],
   "source": [
    "buildings_sample.head()"
   ]
  },
  {
   "cell_type": "code",
   "execution_count": 11,
   "metadata": {
    "collapsed": false
   },
   "outputs": [
    {
     "data": {
      "text/plain": [
       "(25.0, 50.0]         23\n",
       "(50.0, 75.0]         19\n",
       "(75.0, 100.0]        17\n",
       "(150.0, 5925.223]    13\n",
       "(0, 25.0]            11\n",
       "(100.0, 125.0]       10\n",
       "(125.0, 150.0]        7\n",
       "Name: EUI Binned, dtype: int64"
      ]
     },
     "execution_count": 11,
     "metadata": {},
     "output_type": "execute_result"
    }
   ],
   "source": [
    "buildings_sample['EUI Binned'].value_counts()"
   ]
  },
  {
   "cell_type": "code",
   "execution_count": 12,
   "metadata": {
    "collapsed": false
   },
   "outputs": [
    {
     "data": {
      "text/plain": [
       "ireland       58\n",
       "genome        17\n",
       "genome2       15\n",
       "utexas         4\n",
       "pecan          3\n",
       "MIT            2\n",
       "washington     1\n",
       "Name: Dataset, dtype: int64"
      ]
     },
     "execution_count": 12,
     "metadata": {},
     "output_type": "execute_result"
    }
   ],
   "source": [
    "buildings_sample['Dataset'].value_counts()"
   ]
  },
  {
   "cell_type": "code",
   "execution_count": 13,
   "metadata": {
    "collapsed": false
   },
   "outputs": [
    {
     "data": {
      "text/plain": [
       "Single_family_house            61\n",
       "Office                         14\n",
       "College Laboratory              7\n",
       "Dormitory                       7\n",
       "College Classroom               6\n",
       "Primary/Secondary Classroom     5\n",
       "Name: PSU, dtype: int64"
      ]
     },
     "execution_count": 13,
     "metadata": {},
     "output_type": "execute_result"
    }
   ],
   "source": [
    "buildings_sample['PSU'].value_counts()"
   ]
  },
  {
   "cell_type": "code",
   "execution_count": 121,
   "metadata": {
    "collapsed": false
   },
   "outputs": [],
   "source": [
    "buildings_sample.to_csv('buildings_sample.csv', index=False)"
   ]
  },
  {
   "cell_type": "code",
   "execution_count": 143,
   "metadata": {
    "collapsed": true
   },
   "outputs": [],
   "source": [
    "buildings.to_csv('buildings.csv', index=False)"
   ]
  },
  {
   "cell_type": "markdown",
   "metadata": {},
   "source": [
    "### Rename PSUs with only 1 building to Others (Deprecated)"
   ]
  },
  {
   "cell_type": "code",
   "execution_count": 13,
   "metadata": {
    "collapsed": false,
    "scrolled": true
   },
   "outputs": [],
   "source": [
    "# psu_counts = buildings_sample['PSU'].value_counts()\n",
    "# conversion_set = psu_counts.index[psu_counts == 1]\n",
    "# conversion_flags = buildings_sample['PSU'].isin(conversion_set).tolist()\n",
    "# new_PSUs = ['Others' if conversion_flags[i] else buildings_sample['PSU'].iloc[i] for i in range(buildings_sample.shape[0])]\n",
    "# buildings_sample['PSU'] = new_PSUs"
   ]
  },
  {
   "cell_type": "code",
   "execution_count": 14,
   "metadata": {
    "collapsed": false
   },
   "outputs": [
    {
     "name": "stderr",
     "output_type": "stream",
     "text": [
      "/Users/yangxiya/anaconda3/lib/python3.5/site-packages/numpy/core/fromnumeric.py:52: FutureWarning: reshape is deprecated and will raise in a subsequent release. Please use .values.reshape(...) instead\n",
      "  return getattr(obj, method)(*args, **kwds)\n"
     ]
    },
    {
     "data": {
      "image/png": "[encoded data removed]",
      "text/plain": [
       "<matplotlib.figure.Figure at 0x1138b5978>"
      ]
     },
     "metadata": {},
     "output_type": "display_data"
    }
   ],
   "source": [
    "buildings_sample.boxplot('EUI', 'PSU', figsize=(20,10))\n",
    "plt.title('')\n",
    "plt.ylabel('EUI')\n",
    "plt.show()\n",
    "plt.close()"
   ]
  },
  {
   "cell_type": "code",
   "execution_count": 15,
   "metadata": {
    "collapsed": false
   },
   "outputs": [
    {
     "name": "stderr",
     "output_type": "stream",
     "text": [
      "/Users/yangxiya/anaconda3/lib/python3.5/site-packages/numpy/core/fromnumeric.py:52: FutureWarning: reshape is deprecated and will raise in a subsequent release. Please use .values.reshape(...) instead\n",
      "  return getattr(obj, method)(*args, **kwds)\n"
     ]
    },
    {
     "data": {
      "image/png": "[encoded data removed]",
      "text/plain": [
       "<matplotlib.figure.Figure at 0x10f7753c8>"
      ]
     },
     "metadata": {},
     "output_type": "display_data"
    }
   ],
   "source": [
    "buildings_sample.boxplot('EUI', 'dominant_cluster', figsize=(16,8))\n",
    "plt.title('')\n",
    "plt.ylabel('EUI')\n",
    "plt.show()\n",
    "plt.close()"
   ]
  },
  {
   "cell_type": "markdown",
   "metadata": {},
   "source": [
    "### Load-shape-based Bechmarking"
   ]
  },
  {
   "cell_type": "code",
   "execution_count": 16,
   "metadata": {
    "collapsed": true
   },
   "outputs": [],
   "source": [
    "def get_buildings_by_field(buildings, field, value):\n",
    "    return buildings.loc[buildings[field] == value, ['Dataset', 'Building']]"
   ]
  },
  {
   "cell_type": "code",
   "execution_count": 17,
   "metadata": {
    "collapsed": true
   },
   "outputs": [],
   "source": [
    "def get_profiles(profiles, buildings):\n",
    "    profiles_mat = profiles.as_matrix()\n",
    "    buildings_mat = buildings.as_matrix()\n",
    "\n",
    "    buildings_signatures = {(row[0], row[1]): row[-1] for row in buildings_mat}\n",
    "    profiles_flags = [(row[0], row[1]) in buildings_signatures for row in profiles_mat]\n",
    "\n",
    "    buildings_profiles = profiles.loc[profiles_flags, :].copy()\n",
    "    dominant_clusters = [buildings_signatures[(row[0], row[1])] for row in buildings_profiles.as_matrix()]\n",
    "    buildings_profiles['dominant_cluster'] = dominant_clusters\n",
    "    return buildings_profiles"
   ]
  },
  {
   "cell_type": "code",
   "execution_count": 18,
   "metadata": {
    "collapsed": true
   },
   "outputs": [],
   "source": [
    "def get_quantile(profiles, quantile=0.5):\n",
    "    return profiles.iloc[:, 3:3+24].quantile(quantile)"
   ]
  },
  {
   "cell_type": "code",
   "execution_count": 19,
   "metadata": {
    "collapsed": false
   },
   "outputs": [],
   "source": [
    "def plot_profiles(middle, upper, lower, value, save_dir):\n",
    "    plt.figure(figsize=(16,8), dpi= 80, facecolor='w', edgecolor='k')\n",
    "    plt.plot(middle, c=(1,0,0), label='Average Profile (%s)' % value)\n",
    "    plt.plot(upper, '--', c=(0,0,0), label='75% Percentile')\n",
    "    plt.plot(lower, '--', c=(0,0,0), label='25% Percentile')\n",
    "    plt.xlabel('Time (h)')\n",
    "    plt.ylabel('Normalized Energy Readings')\n",
    "    plt.legend()\n",
    "    plt.show()\n",
    "    if type(value) is str:\n",
    "        plt.savefig(save_dir + '/Benchmarking Plot (%s)' % value, bbox_inches='tight')\n",
    "    else:\n",
    "        plt.savefig(save_dir + '/Benchmarking Plot (%d)' % value, bbox_inches='tight')\n",
    "    plt.close()"
   ]
  },
  {
   "cell_type": "markdown",
   "metadata": {},
   "source": [
    "* EUI Type\n",
    "* Deprecated"
   ]
  },
  {
   "cell_type": "code",
   "execution_count": 21,
   "metadata": {
    "collapsed": false
   },
   "outputs": [],
   "source": [
    "# interval_dict = {}\n",
    "# intervals = sorted(buildings_sample['EUI Binned'].unique())\n",
    "# interval_dict[intervals[0]] = 'Low'\n",
    "# interval_dict[intervals[1]] = 'Medium'\n",
    "# interval_dict[intervals[2]] = 'High'"
   ]
  },
  {
   "cell_type": "code",
   "execution_count": 70,
   "metadata": {
    "collapsed": false
   },
   "outputs": [],
   "source": [
    "# buildings_sample['EUI Type'] = [interval_dict[interval] for interval in buildings_sample['EUI Binned']]"
   ]
  },
  {
   "cell_type": "code",
   "execution_count": null,
   "metadata": {
    "collapsed": false
   },
   "outputs": [],
   "source": [
    "# buildings_sample['dominant_cluster + EUI Type'] = ['%s-[%s]' % (row['EUI Type'], row.dominant_cluster) for i, row in buildings_sample.iterrows()]"
   ]
  },
  {
   "cell_type": "code",
   "execution_count": 213,
   "metadata": {
    "collapsed": false
   },
   "outputs": [],
   "source": [
    "# plot_root = './benchmarking_plots'\n",
    "# fields = ['dominant_cluster', 'EUI Type', 'dominant_cluster + EUI Type']\n",
    "# for field in fields:\n",
    "#     save_dir = '%s/%s' % (plot_root, field)\n",
    "#     if not os.path.exists(save_dir):\n",
    "#         os.makedirs(save_dir)\n",
    "#     for value in sorted(buildings_sample[field].unique()):\n",
    "#         profiles = get_profiles(combined_profiles, get_buildings_by_field(buildings_sample, field, value))\n",
    "#         lower = get_quantile(profiles, quantile=0.25)\n",
    "#         middle = get_quantile(profiles, quantile=0.5)\n",
    "#         upper = get_quantile(profiles, quantile=0.75)\n",
    "#         plot_profiles(middle, upper, lower, value, save_dir)"
   ]
  },
  {
   "cell_type": "code",
   "execution_count": 20,
   "metadata": {
    "collapsed": false
   },
   "outputs": [],
   "source": [
    "profiles_sample = get_profiles(combined_profiles, buildings_sample)"
   ]
  },
  {
   "cell_type": "code",
   "execution_count": 64,
   "metadata": {
    "collapsed": true
   },
   "outputs": [],
   "source": [
    "# conversion_flags = profiles_sample['PSU'].isin(set(['Industrial', 'College Laboratory', 'Fitness Center'])).tolist()\n",
    "# new_PSUs = ['Others' if conversion_flags[i] else profiles_sample['PSU'].iloc[i] for i in range(profiles_sample.shape[0])]\n",
    "# profiles_sample['PSU'] = new_PSUs"
   ]
  },
  {
   "cell_type": "code",
   "execution_count": 138,
   "metadata": {
    "collapsed": true
   },
   "outputs": [],
   "source": [
    "profiles_sample.to_csv('profiles_sample.csv', index=False)"
   ]
  },
  {
   "cell_type": "code",
   "execution_count": 144,
   "metadata": {
    "collapsed": true
   },
   "outputs": [],
   "source": [
    "profiles = get_profiles(combined_profiles, buildings)"
   ]
  },
  {
   "cell_type": "code",
   "execution_count": 162,
   "metadata": {
    "collapsed": true
   },
   "outputs": [],
   "source": [
    "profiles.to_csv('profiles.csv', index=False)"
   ]
  },
  {
   "cell_type": "markdown",
   "metadata": {},
   "source": [
    "* get all buildings (without removing buildings with less than 30 profiles)"
   ]
  },
  {
   "cell_type": "code",
   "execution_count": 171,
   "metadata": {
    "collapsed": true
   },
   "outputs": [],
   "source": [
    "def build_df_complete(profiles, k, algo, labels_dir):\n",
    "    profiles['cluster'] = np.load('./%s/%s/params[k=%d].npy' % (labels_dir, algo, k))\n",
    "    profiles['proportions'] = get_list_of_proportions(profiles)\n",
    "    \n",
    "    final_buildings = profiles.drop_duplicates(['Dataset', 'Building'])[['Dataset', 'Building', 'proportions', 'Industry', 'PSU', 'Sqm', 'Subindustry', 'Timezone', 'EUI', 'Climatezone', 'EUI Binned', 'Sqm Binned']]\n",
    "    final_buildings.reset_index(drop=True, inplace=True)\n",
    "    \n",
    "    cluster_labels = profiles.cluster.unique()\n",
    "    cluster_labels.sort()\n",
    "    \n",
    "    proportions_data = []\n",
    "\n",
    "    for dic in final_buildings.proportions.tolist():\n",
    "        proportions_data.append([])\n",
    "        for label in cluster_labels:\n",
    "            if label not in dic:\n",
    "                proportions_data[-1].append(0)\n",
    "            else:\n",
    "                proportions_data[-1].append(dic[label])\n",
    "\n",
    "    proportions_df = pd.DataFrame(proportions_data)\n",
    "    \n",
    "    buildings_df = final_buildings.drop('proportions', axis=1)\n",
    "    buildings_df['dominant_cluster'] = get_dominant_clusters(proportions_df.as_matrix())\n",
    "    return (buildings_df, proportions_df)"
   ]
  },
  {
   "cell_type": "code",
   "execution_count": 172,
   "metadata": {
    "collapsed": false
   },
   "outputs": [],
   "source": [
    "buildings_complete, proportions_complete = build_df_complete(combined_profiles, 3, 'kmeans', 'final_labels')"
   ]
  },
  {
   "cell_type": "code",
   "execution_count": 183,
   "metadata": {
    "collapsed": true
   },
   "outputs": [],
   "source": [
    "buildings_complete.to_csv('buildings_complete.csv', index=False)"
   ]
  },
  {
   "cell_type": "code",
   "execution_count": 180,
   "metadata": {
    "collapsed": true
   },
   "outputs": [],
   "source": [
    "profiles_complete = get_profiles(combined_profiles, buildings_complete)"
   ]
  },
  {
   "cell_type": "code",
   "execution_count": 184,
   "metadata": {
    "collapsed": true
   },
   "outputs": [],
   "source": [
    "profiles_complete.to_csv('profiles_complete.csv', index=False)"
   ]
  },
  {
   "cell_type": "markdown",
   "metadata": {},
   "source": [
    "### Cluster Validation Metrics by Groups"
   ]
  },
  {
   "cell_type": "code",
   "execution_count": 56,
   "metadata": {
    "collapsed": true
   },
   "outputs": [],
   "source": [
    "def cohesion(data, labels):\n",
    "    clusters = sorted(set(labels))\n",
    "    sse = 0\n",
    "    for cluster in clusters:\n",
    "        cluster_data = data[labels == cluster, :]\n",
    "        centroid = cluster_data.mean(axis = 0)\n",
    "        sse += ((cluster_data - centroid)**2).sum()\n",
    "    return sse\n",
    "\n",
    "def separation(data, labels, cohesion_score):\n",
    "    # calculate separation as SST - SSE\n",
    "    return cohesion(data, np.zeros(data.shape[0])) - cohesion_score"
   ]
  },
  {
   "cell_type": "markdown",
   "metadata": {},
   "source": [
    "* get scores"
   ]
  },
  {
   "cell_type": "code",
   "execution_count": 28,
   "metadata": {
    "collapsed": false
   },
   "outputs": [],
   "source": [
    "profiles_sample_mat = profiles_sample.as_matrix()[:, 3:3+24]"
   ]
  },
  {
   "cell_type": "code",
   "execution_count": 69,
   "metadata": {
    "collapsed": false
   },
   "outputs": [
    {
     "name": "stdout",
     "output_type": "stream",
     "text": [
      "Scores for pseudo-clusters grouped by dominant_cluster\n",
      "cohesion_score: 1083325.623565171\n",
      "separation_score: 203373.48615209013\n",
      "ch_score: 3860.8697377972235\n",
      "\n",
      "Scores for pseudo-clusters grouped by PSU\n",
      "cohesion_score: 1166767.6446976876\n",
      "separation_score: 119931.46501957346\n",
      "ch_score: 905.9279327978379\n",
      "\n"
     ]
    }
   ],
   "source": [
    "fields = ['dominant_cluster', 'PSU']\n",
    "for field in fields:\n",
    "    cohesion_score = cohesion(profiles_sample_mat, profiles_sample[field])\n",
    "    separation_score = separation(profiles_sample_mat, profiles_sample[field], cohesion_score)\n",
    "    ch_score = calinski_harabaz_score(profiles_sample_mat, profiles_sample[field])\n",
    "    print('Scores for pseudo-clusters grouped by %s' % field)\n",
    "    print('cohesion_score:', cohesion_score)\n",
    "    print('separation_score:', separation_score)\n",
    "    print('ch_score:', ch_score)\n",
    "    print()"
   ]
  },
  {
   "cell_type": "markdown",
   "metadata": {},
   "source": [
    "* get scores for all profiles"
   ]
  },
  {
   "cell_type": "code",
   "execution_count": 53,
   "metadata": {
    "collapsed": false
   },
   "outputs": [
    {
     "name": "stderr",
     "output_type": "stream",
     "text": [
      "/Users/yangxiya/anaconda3/lib/python3.5/site-packages/IPython/core/interactiveshell.py:2723: DtypeWarning: Columns (1,31) have mixed types. Specify dtype option on import or set low_memory=False.\n",
      "  interactivity=interactivity, compiler=compiler, result=result)\n"
     ]
    }
   ],
   "source": [
    "profiles_complete = pd.read_csv('profiles_complete.csv')"
   ]
  },
  {
   "cell_type": "code",
   "execution_count": 54,
   "metadata": {
    "collapsed": false
   },
   "outputs": [
    {
     "data": {
      "text/plain": [
       "(2365563, 41)"
      ]
     },
     "execution_count": 54,
     "metadata": {},
     "output_type": "execute_result"
    }
   ],
   "source": [
    "profiles_complete.shape"
   ]
  },
  {
   "cell_type": "code",
   "execution_count": 61,
   "metadata": {
    "collapsed": false
   },
   "outputs": [
    {
     "name": "stdout",
     "output_type": "stream",
     "text": [
      "Scores for pseudo-clusters grouped by dominant_cluster\n",
      "cohesion_score: 42885970.99627986\n",
      "separation_score: 8300556.851110309\n",
      "ch_score: 152617.5616254283\n",
      "\n",
      "Scores for pseudo-clusters grouped by PSU\n",
      "cohesion_score: 47332562.67879646\n",
      "separation_score: 3853965.1685937047\n",
      "ch_score: 12038.13423142134\n",
      "\n"
     ]
    }
   ],
   "source": [
    "profiles_complete_mat = profiles_complete.as_matrix()[:, 3:3+24]\n",
    "\n",
    "fields = ['dominant_cluster', 'PSU']\n",
    "for field in fields:\n",
    "    cohesion_score = cohesion(profiles_complete_mat, profiles_complete[field])\n",
    "    separation_score = separation(profiles_complete_mat, profiles_complete[field], cohesion_score)\n",
    "    ch_score = calinski_harabaz_score(profiles_complete_mat, profiles_complete[field])\n",
    "    print('Scores for pseudo-clusters grouped by %s' % field)\n",
    "    print('cohesion_score:', cohesion_score)\n",
    "    print('separation_score:', separation_score)\n",
    "    print('ch_score:', ch_score)\n",
    "    print()"
   ]
  },
  {
   "cell_type": "markdown",
   "metadata": {},
   "source": [
    "### Miscellaneous"
   ]
  },
  {
   "cell_type": "markdown",
   "metadata": {},
   "source": [
    "* Find proportion of buildings with certain Sqm"
   ]
  },
  {
   "cell_type": "code",
   "execution_count": 246,
   "metadata": {
    "collapsed": false
   },
   "outputs": [],
   "source": [
    "residential_buildings = buildings.loc[buildings.Industry == 'Residential', :] \n",
    "non_residential_buildings = buildings.loc[buildings.Industry != 'Residential', :] "
   ]
  },
  {
   "cell_type": "code",
   "execution_count": 249,
   "metadata": {
    "collapsed": true
   },
   "outputs": [],
   "source": [
    "def get_prop_below(buildings, field, threshold):\n",
    "    return (buildings[field] < threshold).sum() / buildings.shape[0]"
   ]
  },
  {
   "cell_type": "code",
   "execution_count": 262,
   "metadata": {
    "collapsed": false
   },
   "outputs": [
    {
     "name": "stdout",
     "output_type": "stream",
     "text": [
      "all buildings (<200 Sqm): 0.38338991903891356\n",
      "all buildings (<500 Sqm): 0.49386262731783753\n",
      "residential buildings (<100 Sqm): 0.12041884816753927\n",
      "residential buildings (<200 Sqm): 0.7575916230366492\n",
      "residential buildings (<300 Sqm): 0.9282722513089006\n",
      "residential buildings (<400 Sqm): 0.9539267015706806\n",
      "residential buildings (<500 Sqm): 0.9586387434554974\n",
      "non-residential buildings (<1000 Sqm): 0.08441896821261073\n",
      "non-residential buildings (<2000 Sqm): 0.20427305888483585\n",
      "non-residential buildings (<3000 Sqm): 0.30484627410109433\n",
      "non-residential buildings (<5000 Sqm): 0.44554455445544555\n",
      "non-residential buildings (<10000 Sqm): 0.7092235539343408\n",
      "non-residential buildings (<20000 Sqm): 0.9103699843668578\n"
     ]
    }
   ],
   "source": [
    "print('all buildings (<200 Sqm):', get_prop_below(buildings, 'Sqm', 200))\n",
    "print('all buildings (<500 Sqm):', get_prop_below(buildings, 'Sqm', 500))\n",
    "print('residential buildings (<100 Sqm):', get_prop_below(residential_buildings, 'Sqm', 100))\n",
    "print('residential buildings (<200 Sqm):', get_prop_below(residential_buildings, 'Sqm', 200))\n",
    "print('residential buildings (<300 Sqm):', get_prop_below(residential_buildings, 'Sqm', 300))\n",
    "print('residential buildings (<400 Sqm):', get_prop_below(residential_buildings, 'Sqm', 400))\n",
    "print('residential buildings (<500 Sqm):', get_prop_below(residential_buildings, 'Sqm', 500))\n",
    "print('non-residential buildings (<1000 Sqm):', get_prop_below(non_residential_buildings, 'Sqm', 1000))\n",
    "print('non-residential buildings (<2000 Sqm):', get_prop_below(non_residential_buildings, 'Sqm', 2000))\n",
    "print('non-residential buildings (<3000 Sqm):', get_prop_below(non_residential_buildings, 'Sqm', 3000))\n",
    "print('non-residential buildings (<5000 Sqm):', get_prop_below(non_residential_buildings, 'Sqm', 5000))\n",
    "print('non-residential buildings (<10000 Sqm):', get_prop_below(non_residential_buildings, 'Sqm', 10000))\n",
    "print('non-residential buildings (<20000 Sqm):', get_prop_below(non_residential_buildings, 'Sqm', 20000))"
   ]
  },
  {
   "cell_type": "code",
   "execution_count": 265,
   "metadata": {
    "collapsed": true
   },
   "outputs": [],
   "source": [
    "def print_from(name, buildings, field, values):\n",
    "    for value in values:\n",
    "        print('%s buildings (%s: <%d):' % (name, field, value), get_prop_below(buildings, field, value))"
   ]
  },
  {
   "cell_type": "code",
   "execution_count": 268,
   "metadata": {
    "collapsed": false
   },
   "outputs": [
    {
     "name": "stdout",
     "output_type": "stream",
     "text": [
      "all buildings (EUI: <100): 0.7017498041264038\n",
      "all buildings (EUI: <200): 0.9041525202402716\n",
      "all buildings (EUI: <300): 0.9451553930530164\n",
      "all buildings (EUI: <400): 0.9699660485766519\n",
      "all buildings (EUI: <500): 0.9796291459911204\n",
      "residential buildings (EUI: <25): 0.08376963350785341\n",
      "residential buildings (EUI: <50): 0.3581151832460733\n",
      "residential buildings (EUI: <75): 0.6952879581151833\n",
      "residential buildings (EUI: <100): 0.881151832460733\n",
      "residential buildings (EUI: <125): 0.9476439790575916\n",
      "residential buildings (EUI: <150): 0.9764397905759162\n",
      "non-residential buildings (EUI: <100): 0.5231891610213653\n",
      "non-residential buildings (EUI: <200): 0.8150078165711307\n",
      "non-residential buildings (EUI: <300): 0.8931735278791036\n",
      "non-residential buildings (EUI: <400): 0.9416362688900469\n",
      "non-residential buildings (EUI: <500): 0.9603960396039604\n"
     ]
    }
   ],
   "source": [
    "print_from('all', buildings, 'EUI', [100,200,300,400,500])\n",
    "# print_from('residential', residential_buildings, 'EUI', [100,200,300,400,500])\n",
    "print_from('residential', residential_buildings, 'EUI', [25,50,75,100,125,150])\n",
    "print_from('non-residential', non_residential_buildings, 'EUI', [100,200,300,400,500])"
   ]
  },
  {
   "cell_type": "markdown",
   "metadata": {},
   "source": [
    "### Additional Tasks"
   ]
  },
  {
   "cell_type": "code",
   "execution_count": 9,
   "metadata": {
    "collapsed": false
   },
   "outputs": [
    {
     "name": "stderr",
     "output_type": "stream",
     "text": [
      "/Users/yangxiya/anaconda3/lib/python3.5/site-packages/IPython/core/interactiveshell.py:2723: DtypeWarning: Columns (1,31) have mixed types. Specify dtype option on import or set low_memory=False.\n",
      "  interactivity=interactivity, compiler=compiler, result=result)\n"
     ]
    }
   ],
   "source": [
    "profiles = pd.read_csv('profiles.csv')"
   ]
  },
  {
   "cell_type": "code",
   "execution_count": 11,
   "metadata": {
    "collapsed": false
   },
   "outputs": [],
   "source": [
    "buildings_info = profiles.drop_duplicates(['Dataset', 'Building'])[['Dataset', 'Building', 'Timezone', 'Climatezone']]"
   ]
  },
  {
   "cell_type": "code",
   "execution_count": 13,
   "metadata": {
    "collapsed": false
   },
   "outputs": [],
   "source": [
    "buildings_info.to_csv('buildings_info.csv', index=False)"
   ]
  },
  {
   "cell_type": "code",
   "execution_count": 23,
   "metadata": {
    "collapsed": true
   },
   "outputs": [],
   "source": [
    "grouped_profiles = profiles.groupby(['Dataset', 'Building'])"
   ]
  },
  {
   "cell_type": "markdown",
   "metadata": {},
   "source": [
    "* by number of days between start and end"
   ]
  },
  {
   "cell_type": "code",
   "execution_count": 39,
   "metadata": {
    "collapsed": false
   },
   "outputs": [],
   "source": [
    "building_date_range_list = []\n",
    "\n",
    "count = 0\n",
    "for (d, b), df in grouped_profiles:\n",
    "    dates_series = pd.to_datetime(df['Date'])\n",
    "    diff = dates_series.max() - dates_series.min()\n",
    "    building_date_range_list.append(diff.days)"
   ]
  },
  {
   "cell_type": "code",
   "execution_count": 41,
   "metadata": {
    "collapsed": false
   },
   "outputs": [
    {
     "data": {
      "image/png": "[encoded data removed]",
      "text/plain": [
       "<matplotlib.figure.Figure at 0x10ff624e0>"
      ]
     },
     "metadata": {},
     "output_type": "display_data"
    }
   ],
   "source": [
    "plt.figure(figsize=(16, 8))\n",
    "plt.hist(building_date_range_list)\n",
    "plt.show()\n",
    "plt.close()"
   ]
  },
  {
   "cell_type": "markdown",
   "metadata": {},
   "source": [
    "* by number of profiles"
   ]
  },
  {
   "cell_type": "code",
   "execution_count": 43,
   "metadata": {
    "collapsed": true
   },
   "outputs": [],
   "source": [
    "building_date_range_list = []\n",
    "\n",
    "count = 0\n",
    "for (d, b), df in grouped_profiles:\n",
    "    building_date_range_list.append(df.shape[0])"
   ]
  },
  {
   "cell_type": "code",
   "execution_count": 46,
   "metadata": {
    "collapsed": false,
    "scrolled": false
   },
   "outputs": [
    {
     "data": {
      "image/png": "[encoded data removed]",
      "text/plain": [
       "<matplotlib.figure.Figure at 0x1111aacc0>"
      ]
     },
     "metadata": {},
     "output_type": "display_data"
    },
    {
     "data": {
      "image/png": "[encoded data removed]",
      "text/plain": [
       "<matplotlib.figure.Figure at 0x1118abc88>"
      ]
     },
     "metadata": {},
     "output_type": "display_data"
    },
    {
     "data": {
      "image/png": "[encoded data removed]",
      "text/plain": [
       "<matplotlib.figure.Figure at 0x111311320>"
      ]
     },
     "metadata": {},
     "output_type": "display_data"
    },
    {
     "data": {
      "image/png": "[encoded data removed]",
      "text/plain": [
       "<matplotlib.figure.Figure at 0x10ff67eb8>"
      ]
     },
     "metadata": {},
     "output_type": "display_data"
    },
    {
     "data": {
      "image/png": "[encoded data removed]",
      "text/plain": [
       "<matplotlib.figure.Figure at 0x10ff86eb8>"
      ]
     },
     "metadata": {},
     "output_type": "display_data"
    },
    {
     "data": {
      "image/png": "[encoded data removed]",
      "text/plain": [
       "<matplotlib.figure.Figure at 0x10fb697f0>"
      ]
     },
     "metadata": {},
     "output_type": "display_data"
    }
   ],
   "source": [
    "for i in [20, 15, 10, 8, 5, 3]:\n",
    "    plt.figure(figsize=(16, 8))\n",
    "    plt.hist(building_date_range_list, bins=i)\n",
    "    plt.show()\n",
    "    plt.close()"
   ]
  }
 ],
 "metadata": {
  "anaconda-cloud": {},
  "kernelspec": {
   "display_name": "Python [Root]",
   "language": "python",
   "name": "Python [Root]"
  },
  "language_info": {
   "codemirror_mode": {
    "name": "ipython",
    "version": 3
   },
   "file_extension": ".py",
   "mimetype": "text/x-python",
   "name": "python",
   "nbconvert_exporter": "python",
   "pygments_lexer": "ipython3",
   "version": "3.5.2"
  }
 },
 "nbformat": 4,
 "nbformat_minor": 2
}
